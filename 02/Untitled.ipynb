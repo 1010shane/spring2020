{
 "cells": [
  {
   "cell_type": "code",
   "execution_count": 1,
   "metadata": {},
   "outputs": [],
   "source": [
    "import numpy as np\n",
    "import pandas as pd"
   ]
  },
  {
   "cell_type": "code",
   "execution_count": 2,
   "metadata": {},
   "outputs": [],
   "source": [
    "\n",
    "\n",
    "metabolite_arr = np.tile(np.repeat(['pyruvate', 'glutamine'], 12), 2)\n",
    "\n",
    "genotype_arr = np.tile(np.repeat(['WT', 'TG'], 6), 4)\n",
    "\n",
    "Tissue_arr = np.repeat(['Brain', 'Heart'], 24)\n",
    "\n",
    "dummy_data = pd.DataFrame({'metabolite' : metabolite_arr, 'Genotype' : genotype_arr, 'Tissue': Tissue_arr})\n",
    "\n"
   ]
  },
  {
   "cell_type": "code",
   "execution_count": 3,
   "metadata": {},
   "outputs": [],
   "source": [
    "def outlier_arr(low, high):\n",
    "    norm_arr = np.random.randint(low, high, 5)\n",
    "    \n",
    "    IQR = np.percentile(norm_arr, 75) - np.percentile(norm_arr, 25)\n",
    "    upper_fence = np.percentile(norm_arr, 75) + (IQR * 1.5)\n",
    "    lower_fence = np.percentile(norm_arr, 25) - (IQR * 1.5)\n",
    "    rand_decision = np.random.randint(0, 2, 1)[0]\n",
    "    \n",
    "    if rand_decision == 1:\n",
    "        high_outlier = np.round(upper_fence * 3, decimals = 0)\n",
    "        final_arr = np.hstack([norm_arr, high_outlier])\n",
    "        \n",
    "    else:\n",
    "        low_outlier = np.round(lower_fence * (1/3), decimals = 0)\n",
    "        final_arr = np.hstack([norm_arr, low_outlier])\n",
    "        \n",
    "    return final_arr.astype(int)"
   ]
  },
  {
   "cell_type": "code",
   "execution_count": 4,
   "metadata": {},
   "outputs": [],
   "source": [
    "# Each outlier_arr() is 6 elements long, and we have a df with 48 rows. This means we need 48/6 = 8 outlier_arr() calls:\n",
    "\n",
    "abund_arr = np.hstack([outlier_arr(800, 1200),\n",
    "                       outlier_arr(1600, 2000), \n",
    "                      outlier_arr(3000, 3600),\n",
    "                      outlier_arr(12000, 18000), \n",
    "                      outlier_arr(200, 800), \n",
    "                      outlier_arr(5000, 7000),\n",
    "                      outlier_arr(2000, 8000),\n",
    "                      outlier_arr(9000, 12000)])\n",
    "\n",
    "dummy_data['abundance'] = abund_arr"
   ]
  },
  {
   "cell_type": "code",
   "execution_count": 13,
   "metadata": {},
   "outputs": [],
   "source": [
    "def no_outlier(x):\n",
    "    IQR = np.percentile(x, 75) - np.percentile(x, 25)\n",
    "    upper_fence = np.percentile(x, 75) + (IQR * 1.5)\n",
    "    lower_fence = np.percentile(x, 25) - (IQR * 1.5)\n",
    "    \n",
    "    return x[(x < upper_fence) & (x > lower_fence)]"
   ]
  },
  {
   "cell_type": "code",
   "execution_count": 11,
   "metadata": {},
   "outputs": [],
   "source": [
    "q = outlier_arr(100, 200)"
   ]
  },
  {
   "cell_type": "code",
   "execution_count": 14,
   "metadata": {},
   "outputs": [
    {
     "data": {
      "text/plain": [
       "array([114, 190, 197, 129, 182])"
      ]
     },
     "execution_count": 14,
     "metadata": {},
     "output_type": "execute_result"
    }
   ],
   "source": [
    "no_outlier(q)"
   ]
  }
 ],
 "metadata": {
  "kernelspec": {
   "display_name": "Python 3",
   "language": "python",
   "name": "python3"
  },
  "language_info": {
   "codemirror_mode": {
    "name": "ipython",
    "version": 3
   },
   "file_extension": ".py",
   "mimetype": "text/x-python",
   "name": "python",
   "nbconvert_exporter": "python",
   "pygments_lexer": "ipython3",
   "version": "3.7.4"
  }
 },
 "nbformat": 4,
 "nbformat_minor": 4
}
