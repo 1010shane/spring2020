{
 "cells": [
  {
   "cell_type": "markdown",
   "metadata": {
    "slideshow": {
     "slide_type": "slide"
    }
   },
   "source": [
    "# Week 2\n",
    "\n",
    "## Data manipulation and visualization with python"
   ]
  },
  {
   "cell_type": "markdown",
   "metadata": {
    "slideshow": {
     "slide_type": "slide"
    }
   },
   "source": [
    "### What are the keystones of Data Analysis"
   ]
  },
  {
   "cell_type": "markdown",
   "metadata": {
    "slideshow": {
     "slide_type": "fragment"
    }
   },
   "source": [
    "* Formulating Questions"
   ]
  },
  {
   "cell_type": "markdown",
   "metadata": {
    "slideshow": {
     "slide_type": "fragment"
    }
   },
   "source": [
    "* Data wrangling: gather, access, clean, tranform"
   ]
  },
  {
   "cell_type": "markdown",
   "metadata": {
    "slideshow": {
     "slide_type": "fragment"
    }
   },
   "source": [
    "* Exploratory data analysis"
   ]
  },
  {
   "cell_type": "markdown",
   "metadata": {
    "slideshow": {
     "slide_type": "fragment"
    }
   },
   "source": [
    "* Making conclusions and predictions: modeling, machine learning"
   ]
  },
  {
   "cell_type": "markdown",
   "metadata": {
    "slideshow": {
     "slide_type": "fragment"
    }
   },
   "source": [
    "* Reporting and communication"
   ]
  },
  {
   "cell_type": "markdown",
   "metadata": {
    "slideshow": {
     "slide_type": "slide"
    }
   },
   "source": [
    "### Working with data in Python\n",
    "\n",
    "Data types and data structures - \n",
    "containers to hold, access and modify data efficiently.\n",
    "\n",
    "Our options:\n",
    "- Python built-in data types\n",
    "- Python built-in data structures and functions\n",
    "- Python packages extend the built-in capabilities (packages in standard library and pip)\n",
    "- 3rd party (non-pythonic) tools that we can run from Python"
   ]
  },
  {
   "cell_type": "markdown",
   "metadata": {
    "slideshow": {
     "slide_type": "slide"
    }
   },
   "source": [
    "### Built-in data types, structures and functions\n",
    "\n",
    "* int, float, complex, bool\n",
    "* dict, list, set and frozenset, tuple, str, bytes\n",
    "* https://docs.python.org/3/library/stdtypes.html\n",
    "* https://docs.python.org/3/library/datatypes.html\n"
   ]
  },
  {
   "cell_type": "markdown",
   "metadata": {
    "slideshow": {
     "slide_type": "slide"
    }
   },
   "source": [
    "### List"
   ]
  },
  {
   "cell_type": "code",
   "execution_count": 3,
   "metadata": {
    "slideshow": {
     "slide_type": "fragment"
    }
   },
   "outputs": [
    {
     "name": "stdout",
     "output_type": "stream",
     "text": [
      "1\n",
      "5\n"
     ]
    }
   ],
   "source": [
    "a = [1,2,3,4,5] # create a list\n",
    "print(a[0]) # access the list from the beginning\n",
    "print(a[-1]) # access list-elements in reverse order"
   ]
  },
  {
   "cell_type": "code",
   "execution_count": 4,
   "metadata": {
    "slideshow": {
     "slide_type": "fragment"
    }
   },
   "outputs": [
    {
     "name": "stdout",
     "output_type": "stream",
     "text": [
      "[1, 2, 3, 4, 5]\n",
      "[1, 2, 3] [4, 5]\n",
      "[1, 2, 3] [4, 5]\n"
     ]
    }
   ],
   "source": [
    "print(a[:]) # print the entire list\n",
    "print(a[:3], a[3:]) # Print first 3 items and last 2 items. A note on this: the [x:y] notation works by making x the first item to be selected, while y is the first item NOT to be selected\n",
    "print(a[0:3], a[3:5]) # Also, python starts counting at 0"
   ]
  },
  {
   "cell_type": "code",
   "execution_count": 5,
   "metadata": {
    "slideshow": {
     "slide_type": "fragment"
    }
   },
   "outputs": [
    {
     "name": "stdout",
     "output_type": "stream",
     "text": [
      "[1, 2, 3]\n",
      "<class 'slice'>\n"
     ]
    }
   ],
   "source": [
    "print(a[slice(0, 3)]) # Just seems like another way to use slice notation\n",
    "print(type(slice(0, 3))) # biggest difference is that it creates a slice object, looks like: https://www.w3schools.com/python/ref_func_slice.asp"
   ]
  },
  {
   "cell_type": "code",
   "execution_count": 6,
   "metadata": {
    "slideshow": {
     "slide_type": "slide"
    }
   },
   "outputs": [
    {
     "name": "stdout",
     "output_type": "stream",
     "text": [
      "[1, 3, 5]\n"
     ]
    }
   ],
   "source": [
    "print(a[::2]) # a third argument to slice notation is the step. Here, we print every other item of list a"
   ]
  },
  {
   "cell_type": "code",
   "execution_count": 7,
   "metadata": {
    "slideshow": {
     "slide_type": "slide"
    }
   },
   "outputs": [
    {
     "name": "stdout",
     "output_type": "stream",
     "text": [
      "[2, 4]\n"
     ]
    }
   ],
   "source": [
    "del a[::2] # we can also delete items from lists by index\n",
    "print(a)"
   ]
  },
  {
   "cell_type": "code",
   "execution_count": 8,
   "metadata": {
    "slideshow": {
     "slide_type": "slide"
    }
   },
   "outputs": [
    {
     "name": "stdout",
     "output_type": "stream",
     "text": [
      "[0.0, 0.8414709848078965, 0.9092974268256817, 0.1411200080598672]\n"
     ]
    }
   ],
   "source": [
    "from math import sin\n",
    "print([sin(x) for x in range(4)]) # this appears to be an alternate way to write a for loop, which is pretty cool. It seems that this is known as list-comprehension, which We can talk more about below:"
   ]
  },
  {
   "cell_type": "markdown",
   "metadata": {},
   "source": [
    "## List Comprehensions\n",
    "\n",
    "Check out [this](https://blog.finxter.com/python-one-line-for-loop-a-simple-tutorial/) link for where I got this info\n",
    "\n",
    "List comprehensions are alternate ways of making lists in python. List comprehension structure consists of the following framework: `[expression + context]`.\n",
    "\n",
    "- `expression` is what you are doing to the items in the list. Above, the `expression` was `sin(x)`, however we could have done `(x**2)`, `(x + 2)`, etc.\n",
    "\n",
    "- `context` is the list whose elements you will be using in the `expression`. Here, our `context` was `range(4)`, but it could have been any list."
   ]
  },
  {
   "cell_type": "code",
   "execution_count": 9,
   "metadata": {},
   "outputs": [
    {
     "data": {
      "text/plain": [
       "[0.0, 0.8414709848078965, 0.9092974268256817, 0.1411200080598672]"
      ]
     },
     "execution_count": 9,
     "metadata": {},
     "output_type": "execute_result"
    }
   ],
   "source": [
    "list(map(sin, range(4)))"
   ]
  },
  {
   "cell_type": "markdown",
   "metadata": {},
   "source": [
    "## Map function\n",
    "\n",
    "Similar to list-comprehension, this is a function in python designed to apply a function (in this case `sin`) over every element of a list (`range(4)`). we can see that this generates the same output as our previous list-comprehension. "
   ]
  },
  {
   "cell_type": "code",
   "execution_count": 10,
   "metadata": {},
   "outputs": [
    {
     "data": {
      "text/plain": [
       "[2, 4, 6]"
      ]
     },
     "execution_count": 10,
     "metadata": {},
     "output_type": "execute_result"
    }
   ],
   "source": [
    "a.append(6) # attaching items to a list\n",
    "a"
   ]
  },
  {
   "cell_type": "code",
   "execution_count": 11,
   "metadata": {},
   "outputs": [
    {
     "data": {
      "text/plain": [
       "[2, 4, 6, 2, 4, 6]"
      ]
     },
     "execution_count": 11,
     "metadata": {},
     "output_type": "execute_result"
    }
   ],
   "source": [
    "a.extend(a) # attaching a list to a list\n",
    "a"
   ]
  },
  {
   "cell_type": "markdown",
   "metadata": {
    "slideshow": {
     "slide_type": "slide"
    }
   },
   "source": [
    "### Arrays in Python\n",
    "\n",
    "* list\n",
    "* array 1-dimensional https://docs.python.org/3/library/array.html\n",
    "* numpy supports multidimensional arrays"
   ]
  },
  {
   "cell_type": "code",
   "execution_count": 12,
   "metadata": {
    "slideshow": {
     "slide_type": "fragment"
    }
   },
   "outputs": [
    {
     "name": "stdout",
     "output_type": "stream",
     "text": [
      "array('l', [1, 2, 3, 4, 5])\n",
      "15 3\n"
     ]
    }
   ],
   "source": [
    "from array import array\n",
    "from statistics import mean\n",
    "\n",
    "al = array('l', [1, 2, 3, 4, 5])\n",
    "print(al)\n",
    "print(sum(al), mean(al))"
   ]
  },
  {
   "cell_type": "code",
   "execution_count": 13,
   "metadata": {
    "slideshow": {
     "slide_type": "slide"
    }
   },
   "outputs": [
    {
     "name": "stdout",
     "output_type": "stream",
     "text": [
      "array('d', [1.0, 2.0, 3.14])\n",
      "6.140000000000001 2.046666666666667\n"
     ]
    }
   ],
   "source": [
    "ad = array('d', [1.0, 2.0, 3.14])\n",
    "print(ad)\n",
    "print(sum(ad), mean(ad))"
   ]
  },
  {
   "cell_type": "code",
   "execution_count": 14,
   "metadata": {
    "slideshow": {
     "slide_type": "fragment"
    }
   },
   "outputs": [
    {
     "name": "stdout",
     "output_type": "stream",
     "text": [
      "array('d', [1.0, 2.0, 3.14, 1.0, 2.0, 3.14])\n",
      "array('d', [1.0, 2.0, 3.14, 1.0, 2.0, 3.14])\n"
     ]
    }
   ],
   "source": [
    "# However:\n",
    "print(2 * ad)\n",
    "\n",
    "print(ad + ad)"
   ]
  },
  {
   "cell_type": "markdown",
   "metadata": {
    "slideshow": {
     "slide_type": "slide"
    }
   },
   "source": [
    "### Other numeric issues"
   ]
  },
  {
   "cell_type": "code",
   "execution_count": 15,
   "metadata": {
    "slideshow": {
     "slide_type": "fragment"
    }
   },
   "outputs": [
    {
     "data": {
      "text/plain": [
       "False"
      ]
     },
     "execution_count": 15,
     "metadata": {},
     "output_type": "execute_result"
    }
   ],
   "source": [
    "0.1 + 0.1 + 0.1 == 0.3\n",
    "\n",
    "# https://www.reddit.com/r/Python/comments/1poyru/can_someone_explain_like_im_five_why_01010103_is/"
   ]
  },
  {
   "cell_type": "code",
   "execution_count": 16,
   "metadata": {
    "slideshow": {
     "slide_type": "fragment"
    }
   },
   "outputs": [
    {
     "data": {
      "text/plain": [
       "True"
      ]
     },
     "execution_count": 16,
     "metadata": {},
     "output_type": "execute_result"
    }
   ],
   "source": [
    "from decimal import Decimal\n",
    "\n",
    "Decimal('0.1') + Decimal('0.1') + Decimal('0.1') == Decimal('0.3')"
   ]
  },
  {
   "cell_type": "code",
   "execution_count": 17,
   "metadata": {},
   "outputs": [
    {
     "data": {
      "text/plain": [
       "True"
      ]
     },
     "execution_count": 17,
     "metadata": {},
     "output_type": "execute_result"
    }
   ],
   "source": [
    "import numpy as np\n",
    "\n",
    "np.isclose(0.1 + 0.1 + 0.1, 0.3)"
   ]
  },
  {
   "cell_type": "markdown",
   "metadata": {
    "slideshow": {
     "slide_type": "slide"
    }
   },
   "source": [
    "### Overview of packages\n",
    "\n",
    "* __numpy__  - N-dimensional arrays and algebra\n",
    "* __scipy__ - scientific computing (uses numpy)\n",
    "* __pandas__  - data structures & analysis (uses numpy)\n",
    "* __matplotlib__, __seaborn__ - plotting\n",
    "* __jupyter__ - notebook, integration with pandas and plotting\n",
    "* __scikit-learn (sklearn)__  - Machine learning algorithms (uses numpy and scipy)\n",
    "* statistics - standard package - basic descriptive statistics\n",
    "* statsmodels - statistical modeling, hypothesis testing\n",
    "\n",
    "Make sure you know where to find documentation for these packages"
   ]
  },
  {
   "cell_type": "markdown",
   "metadata": {
    "slideshow": {
     "slide_type": "slide"
    }
   },
   "source": [
    "### Datasets:\n",
    "\n",
    "* https://catalog.data.gov/dataset\n",
    "* http://mlr.cs.umass.edu/ml/datasets.html\n",
    "* https://www.kaggle.com/datasets\n",
    "* https://opendata.socrata.com\n",
    "\n",
    "\n",
    "__Tabular data__: database tables, Excel, CSV\n"
   ]
  },
  {
   "cell_type": "markdown",
   "metadata": {
    "slideshow": {
     "slide_type": "slide"
    }
   },
   "source": [
    "### Accessing data\n",
    "\n",
    "* Example datasets \"red wine quality\"\n",
    "* Download CSV from https://archive.ics.uci.edu/ml/datasets/wine+quality"
   ]
  },
  {
   "cell_type": "code",
   "execution_count": 18,
   "metadata": {
    "slideshow": {
     "slide_type": "fragment"
    }
   },
   "outputs": [],
   "source": [
    "winequality_file = \"winequality-red.csv\""
   ]
  },
  {
   "cell_type": "code",
   "execution_count": 19,
   "metadata": {
    "slideshow": {
     "slide_type": "slide"
    }
   },
   "outputs": [
    {
     "name": "stdout",
     "output_type": "stream",
     "text": [
      "['fixed acidity', 'volatile acidity', 'citric acid', 'residual sugar', 'chlorides', 'free sulfur dioxide', 'total sulfur dioxide', 'density', 'pH', 'sulphates', 'alcohol', 'quality\\n']\n",
      "['7.4', '0.7', '0.0', '1.9', '0.076', '11.0', '34.0', '0.9978', '3.51', '0.56', '9.4', '5\\n']\n",
      "['7.8', '0.88', '0.0', '2.6', '0.098', '25.0', '67.0', '0.9968', '3.2', '0.68', '9.8', '5\\n']\n",
      "['7.8', '0.76', '0.04', '2.3', '0.092', '15.0', '54.0', '0.997', '3.26', '0.65', '9.8', '5\\n']\n",
      "['11.2', '0.28', '0.56', '1.9', '0.075', '17.0', '60.0', '0.998', '3.16', '0.58', '9.8', '6\\n']\n"
     ]
    }
   ],
   "source": [
    "from itertools import islice\n",
    "\n",
    "with open(winequality_file) as f:\n",
    "    for line in islice(f, 0, 5):\n",
    "        print(line.split(\",\"))\n",
    "\n",
    "# exclude header and line endings, convert to float"
   ]
  },
  {
   "cell_type": "code",
   "execution_count": 20,
   "metadata": {
    "slideshow": {
     "slide_type": "slide"
    }
   },
   "outputs": [
    {
     "name": "stdout",
     "output_type": "stream",
     "text": [
      "fixed acidity, volatile acidity, citric acid, residual sugar, chlorides, free sulfur dioxide, total sulfur dioxide, density, pH, sulphates, alcohol, quality\n",
      "7.4, 0.7, 0.0, 1.9, 0.076, 11.0, 34.0, 0.9978, 3.51, 0.56, 9.4, 5\n",
      "7.8, 0.88, 0.0, 2.6, 0.098, 25.0, 67.0, 0.9968, 3.2, 0.68, 9.8, 5\n",
      "7.8, 0.76, 0.04, 2.3, 0.092, 15.0, 54.0, 0.997, 3.26, 0.65, 9.8, 5\n",
      "11.2, 0.28, 0.56, 1.9, 0.075, 17.0, 60.0, 0.998, 3.16, 0.58, 9.8, 6\n"
     ]
    }
   ],
   "source": [
    "# Python CSVReader\n",
    "import csv\n",
    "\n",
    "with open(winequality_file) as csvfile:\n",
    "    reader = csv.reader(csvfile, delimiter=',')\n",
    "    for row in islice(reader, 0, 5):\n",
    "        print(', '.join(row))"
   ]
  },
  {
   "cell_type": "code",
   "execution_count": 21,
   "metadata": {
    "slideshow": {
     "slide_type": "slide"
    }
   },
   "outputs": [
    {
     "name": "stdout",
     "output_type": "stream",
     "text": [
      "7.4, 0.7, 0.0, 1.9, 0.076, 11.0, 34.0, 0.9978, 3.51, 0.56, 9.4, 5\n",
      "7.8, 0.88, 0.0, 2.6, 0.098, 25.0, 67.0, 0.9968, 3.2, 0.68, 9.8, 5\n",
      "7.8, 0.76, 0.04, 2.3, 0.092, 15.0, 54.0, 0.997, 3.26, 0.65, 9.8, 5\n",
      "odict_keys(['fixed acidity', 'volatile acidity', 'citric acid', 'residual sugar', 'chlorides', 'free sulfur dioxide', 'total sulfur dioxide', 'density', 'pH', 'sulphates', 'alcohol', 'quality'])\n",
      "3.26\n"
     ]
    }
   ],
   "source": [
    "# Python CSVReader\n",
    "import csv\n",
    "\n",
    "with open(winequality_file) as csvfile:\n",
    "    reader = csv.DictReader(csvfile, delimiter=',')\n",
    "    for row in islice(reader, 0, 3):\n",
    "        print(', '.join(row.values()))\n",
    "        \n",
    "print(row.keys())\n",
    "print(row['pH'])\n",
    "# limitations - data structure is not suitable for data analysis"
   ]
  },
  {
   "cell_type": "code",
   "execution_count": 22,
   "metadata": {
    "scrolled": true,
    "slideshow": {
     "slide_type": "slide"
    }
   },
   "outputs": [
    {
     "name": "stdout",
     "output_type": "stream",
     "text": [
      "[[ 7.4    0.7    0.    ...  0.56   9.4    5.   ]\n",
      " [ 7.8    0.88   0.    ...  0.68   9.8    5.   ]\n",
      " [ 7.8    0.76   0.04  ...  0.65   9.8    5.   ]\n",
      " ...\n",
      " [ 6.3    0.51   0.13  ...  0.75  11.     6.   ]\n",
      " [ 5.9    0.645  0.12  ...  0.71  10.2    5.   ]\n",
      " [ 6.     0.31   0.47  ...  0.66  11.     6.   ]]\n",
      "(1599, 12)\n"
     ]
    }
   ],
   "source": [
    "# Numpy: read CSV\n",
    "from numpy import genfromtxt\n",
    "wine_np = genfromtxt(winequality_file, delimiter=',', skip_header=1)\n",
    "print(wine_np)\n",
    "print(wine_np.shape)"
   ]
  },
  {
   "cell_type": "code",
   "execution_count": 23,
   "metadata": {
    "slideshow": {
     "slide_type": "slide"
    }
   },
   "outputs": [
    {
     "name": "stdout",
     "output_type": "stream",
     "text": [
      "(1599, 12)\n"
     ]
    },
    {
     "data": {
      "text/html": [
       "<div>\n",
       "<style scoped>\n",
       "    .dataframe tbody tr th:only-of-type {\n",
       "        vertical-align: middle;\n",
       "    }\n",
       "\n",
       "    .dataframe tbody tr th {\n",
       "        vertical-align: top;\n",
       "    }\n",
       "\n",
       "    .dataframe thead th {\n",
       "        text-align: right;\n",
       "    }\n",
       "</style>\n",
       "<table border=\"1\" class=\"dataframe\">\n",
       "  <thead>\n",
       "    <tr style=\"text-align: right;\">\n",
       "      <th></th>\n",
       "      <th>fixed acidity</th>\n",
       "      <th>volatile acidity</th>\n",
       "      <th>citric acid</th>\n",
       "      <th>residual sugar</th>\n",
       "      <th>chlorides</th>\n",
       "      <th>free sulfur dioxide</th>\n",
       "      <th>total sulfur dioxide</th>\n",
       "      <th>density</th>\n",
       "      <th>pH</th>\n",
       "      <th>sulphates</th>\n",
       "      <th>alcohol</th>\n",
       "      <th>quality</th>\n",
       "    </tr>\n",
       "  </thead>\n",
       "  <tbody>\n",
       "    <tr>\n",
       "      <td>0</td>\n",
       "      <td>7.4</td>\n",
       "      <td>0.70</td>\n",
       "      <td>0.00</td>\n",
       "      <td>1.9</td>\n",
       "      <td>0.076</td>\n",
       "      <td>11.0</td>\n",
       "      <td>34.0</td>\n",
       "      <td>0.9978</td>\n",
       "      <td>3.51</td>\n",
       "      <td>0.56</td>\n",
       "      <td>9.4</td>\n",
       "      <td>5</td>\n",
       "    </tr>\n",
       "    <tr>\n",
       "      <td>1</td>\n",
       "      <td>7.8</td>\n",
       "      <td>0.88</td>\n",
       "      <td>0.00</td>\n",
       "      <td>2.6</td>\n",
       "      <td>0.098</td>\n",
       "      <td>25.0</td>\n",
       "      <td>67.0</td>\n",
       "      <td>0.9968</td>\n",
       "      <td>3.20</td>\n",
       "      <td>0.68</td>\n",
       "      <td>9.8</td>\n",
       "      <td>5</td>\n",
       "    </tr>\n",
       "    <tr>\n",
       "      <td>2</td>\n",
       "      <td>7.8</td>\n",
       "      <td>0.76</td>\n",
       "      <td>0.04</td>\n",
       "      <td>2.3</td>\n",
       "      <td>0.092</td>\n",
       "      <td>15.0</td>\n",
       "      <td>54.0</td>\n",
       "      <td>0.9970</td>\n",
       "      <td>3.26</td>\n",
       "      <td>0.65</td>\n",
       "      <td>9.8</td>\n",
       "      <td>5</td>\n",
       "    </tr>\n",
       "    <tr>\n",
       "      <td>3</td>\n",
       "      <td>11.2</td>\n",
       "      <td>0.28</td>\n",
       "      <td>0.56</td>\n",
       "      <td>1.9</td>\n",
       "      <td>0.075</td>\n",
       "      <td>17.0</td>\n",
       "      <td>60.0</td>\n",
       "      <td>0.9980</td>\n",
       "      <td>3.16</td>\n",
       "      <td>0.58</td>\n",
       "      <td>9.8</td>\n",
       "      <td>6</td>\n",
       "    </tr>\n",
       "    <tr>\n",
       "      <td>4</td>\n",
       "      <td>7.4</td>\n",
       "      <td>0.70</td>\n",
       "      <td>0.00</td>\n",
       "      <td>1.9</td>\n",
       "      <td>0.076</td>\n",
       "      <td>11.0</td>\n",
       "      <td>34.0</td>\n",
       "      <td>0.9978</td>\n",
       "      <td>3.51</td>\n",
       "      <td>0.56</td>\n",
       "      <td>9.4</td>\n",
       "      <td>5</td>\n",
       "    </tr>\n",
       "  </tbody>\n",
       "</table>\n",
       "</div>"
      ],
      "text/plain": [
       "   fixed acidity  volatile acidity  citric acid  residual sugar  chlorides  \\\n",
       "0            7.4              0.70         0.00             1.9      0.076   \n",
       "1            7.8              0.88         0.00             2.6      0.098   \n",
       "2            7.8              0.76         0.04             2.3      0.092   \n",
       "3           11.2              0.28         0.56             1.9      0.075   \n",
       "4            7.4              0.70         0.00             1.9      0.076   \n",
       "\n",
       "   free sulfur dioxide  total sulfur dioxide  density    pH  sulphates  \\\n",
       "0                 11.0                  34.0   0.9978  3.51       0.56   \n",
       "1                 25.0                  67.0   0.9968  3.20       0.68   \n",
       "2                 15.0                  54.0   0.9970  3.26       0.65   \n",
       "3                 17.0                  60.0   0.9980  3.16       0.58   \n",
       "4                 11.0                  34.0   0.9978  3.51       0.56   \n",
       "\n",
       "   alcohol  quality  \n",
       "0      9.4        5  \n",
       "1      9.8        5  \n",
       "2      9.8        5  \n",
       "3      9.8        6  \n",
       "4      9.4        5  "
      ]
     },
     "execution_count": 23,
     "metadata": {},
     "output_type": "execute_result"
    }
   ],
   "source": [
    "# Pandas: read CSV\n",
    "from pandas import read_csv\n",
    "wine_df = read_csv(winequality_file, sep=',',header=0)\n",
    "print(wine_df.shape)\n",
    "wine_df.head()"
   ]
  },
  {
   "cell_type": "code",
   "execution_count": 24,
   "metadata": {
    "slideshow": {
     "slide_type": "slide"
    }
   },
   "outputs": [
    {
     "name": "stdout",
     "output_type": "stream",
     "text": [
      "7.4\n",
      "[ 7.4     0.7     0.      1.9     0.076  11.     34.      0.9978  3.51\n",
      "  0.56    9.4     5.    ]\n",
      "[7.4 7.8 7.8 ... 6.3 5.9 6. ]\n",
      "2.74 3.3111131957473416 4.01\n"
     ]
    }
   ],
   "source": [
    "# numpy array operations:\n",
    "print(wine_np[0,0])  # first element\n",
    "print(wine_np[0,...]) # row\n",
    "print(wine_np[...,0]) # column\n",
    "\n",
    "pH = wine_np[...,8]\n",
    "print(pH.min(), pH.mean(), pH.max())"
   ]
  },
  {
   "cell_type": "code",
   "execution_count": 25,
   "metadata": {
    "slideshow": {
     "slide_type": "slide"
    }
   },
   "outputs": [
    {
     "name": "stdout",
     "output_type": "stream",
     "text": [
      "[[11.2   0.28  0.56 ...  0.58  9.8   6.  ]\n",
      " [ 8.9   0.62  0.18 ...  0.88  9.2   5.  ]\n",
      " [ 8.9   0.62  0.19 ...  0.93  9.2   5.  ]\n",
      " ...\n",
      " [ 7.8   0.82  0.29 ...  0.53  9.4   5.  ]\n",
      " [ 8.4   0.37  0.43 ...  0.81 11.2   7.  ]\n",
      " [11.2   0.4   0.5  ...  0.58 10.4   5.  ]]\n",
      "(349, 12)\n"
     ]
    }
   ],
   "source": [
    "# filtering\n",
    "print(wine_np[pH < 3.2, ...])\n",
    "print(wine_np[pH < 3.2, ...].shape)"
   ]
  },
  {
   "cell_type": "code",
   "execution_count": 26,
   "metadata": {
    "slideshow": {
     "slide_type": "slide"
    }
   },
   "outputs": [
    {
     "data": {
      "text/plain": [
       "array([[[0., 0.],\n",
       "        [0., 0.],\n",
       "        [0., 0.],\n",
       "        [0., 0.]],\n",
       "\n",
       "       [[0., 0.],\n",
       "        [0., 0.],\n",
       "        [0., 0.],\n",
       "        [0., 0.]],\n",
       "\n",
       "       [[0., 0.],\n",
       "        [0., 0.],\n",
       "        [0., 0.],\n",
       "        [0., 0.]]])"
      ]
     },
     "execution_count": 26,
     "metadata": {},
     "output_type": "execute_result"
    }
   ],
   "source": [
    "import numpy as np\n",
    "\n",
    "empty_array = np.zeros((3,4,2))\n",
    "empty_array"
   ]
  },
  {
   "cell_type": "code",
   "execution_count": 27,
   "metadata": {
    "slideshow": {
     "slide_type": "slide"
    }
   },
   "outputs": [
    {
     "data": {
      "text/plain": [
<<<<<<< HEAD
       "array([[[0.84558617, 0.47755951],\n",
       "        [0.11441788, 0.49853569],\n",
       "        [0.31318522, 0.89088801],\n",
       "        [0.86207675, 0.66403312]],\n",
       "\n",
       "       [[0.47692526, 0.34134256],\n",
       "        [0.6693153 , 0.89114264],\n",
       "        [0.38931174, 0.63860145],\n",
       "        [0.015805  , 0.91909207]],\n",
       "\n",
       "       [[0.38637908, 0.50384968],\n",
       "        [0.7674788 , 0.83282517],\n",
       "        [0.68973518, 0.32014555],\n",
       "        [0.83055136, 0.30399962]]])"
=======
       "array([[[0.36775314, 0.87033985],\n",
       "        [0.25450278, 0.27110702],\n",
       "        [0.98802043, 0.63297804],\n",
       "        [0.80951849, 0.15233326]],\n",
       "\n",
       "       [[0.13893426, 0.33812895],\n",
       "        [0.39075044, 0.28211161],\n",
       "        [0.64068678, 0.4722064 ],\n",
       "        [0.24432666, 0.48091019]],\n",
       "\n",
       "       [[0.34285152, 0.44580146],\n",
       "        [0.2280377 , 0.53037272],\n",
       "        [0.40900839, 0.8343957 ],\n",
       "        [0.74082928, 0.53472875]]])"
>>>>>>> 23795514b3f170e99a215b6fe6b340e84cd142a9
      ]
     },
     "execution_count": 27,
     "metadata": {},
     "output_type": "execute_result"
    }
   ],
   "source": [
    "np.random.rand(3,4,2)"
   ]
  },
  {
   "cell_type": "code",
   "execution_count": 28,
   "metadata": {
    "slideshow": {
     "slide_type": "slide"
    }
   },
   "outputs": [
    {
     "data": {
      "text/plain": [
       "\u001b[0;31mDocstring:\u001b[0m\n",
       "seed(self, seed=None)\n",
       "\n",
       "Reseed a legacy MT19937 BitGenerator\n",
       "\n",
       "Notes\n",
       "-----\n",
       "This is a convenience, legacy function.\n",
       "\n",
       "The best practice is to **not** reseed a BitGenerator, rather to\n",
       "recreate a new one. This method is here for legacy reasons.\n",
       "This example demonstrates best practice.\n",
       "\n",
       ">>> from numpy.random import MT19937\n",
       ">>> from numpy.random import RandomState, SeedSequence\n",
       ">>> rs = RandomState(MT19937(SeedSequence(123456789)))\n",
       "# Later, you want to restart the stream\n",
       ">>> rs = RandomState(MT19937(SeedSequence(987654321)))\n",
       "\u001b[0;31mType:\u001b[0m      builtin_function_or_method\n"
      ]
     },
     "metadata": {},
     "output_type": "display_data"
    }
   ],
   "source": [
    "# This will ensure the random samples below can be reproduced. \n",
    "# This means the random samples will always be identical.\n",
    "\n",
    "np.random.seed?\n",
    "\n",
    "# learn how to invoke docstring help"
   ]
  },
  {
   "cell_type": "code",
   "execution_count": 29,
   "metadata": {},
   "outputs": [
    {
     "name": "stdout",
     "output_type": "stream",
     "text": [
      "Help on built-in function seed:\n",
      "\n",
      "seed(...) method of numpy.random.mtrand.RandomState instance\n",
      "    seed(self, seed=None)\n",
      "    \n",
      "    Reseed a legacy MT19937 BitGenerator\n",
      "    \n",
      "    Notes\n",
      "    -----\n",
      "    This is a convenience, legacy function.\n",
      "    \n",
      "    The best practice is to **not** reseed a BitGenerator, rather to\n",
      "    recreate a new one. This method is here for legacy reasons.\n",
      "    This example demonstrates best practice.\n",
      "    \n",
      "    >>> from numpy.random import MT19937\n",
      "    >>> from numpy.random import RandomState, SeedSequence\n",
      "    >>> rs = RandomState(MT19937(SeedSequence(123456789)))\n",
      "    # Later, you want to restart the stream\n",
      "    >>> rs = RandomState(MT19937(SeedSequence(987654321)))\n",
      "\n"
     ]
    }
   ],
   "source": [
    "help(np.random.seed)"
   ]
  },
  {
   "cell_type": "code",
   "execution_count": 30,
   "metadata": {
    "slideshow": {
     "slide_type": "slide"
    }
   },
   "outputs": [
    {
     "name": "stdout",
     "output_type": "stream",
     "text": [
      "[0.5488135  0.71518937 0.60276338]\n",
      "[0.5488135  0.71518937 0.60276338]\n",
      "[0.65358959 0.11500694 0.95028286]\n"
     ]
    }
   ],
   "source": [
    "np.random.seed(0)\n",
    "print(np.random.rand(3))\n",
    "\n",
    "np.random.seed(0)\n",
    "print(np.random.rand(3))\n",
    "\n",
    "np.random.seed(1000)\n",
    "print(np.random.rand(3))"
   ]
  },
  {
   "cell_type": "code",
   "execution_count": 31,
   "metadata": {
    "slideshow": {
     "slide_type": "slide"
    }
   },
   "outputs": [
    {
     "data": {
      "text/plain": [
       "array([3.51, 3.2 , 3.26])"
      ]
     },
     "execution_count": 31,
     "metadata": {},
     "output_type": "execute_result"
    }
   ],
   "source": [
    "wine_np[0:3, 8]  # pH values for 3 first wines in the array"
   ]
  },
  {
   "cell_type": "code",
   "execution_count": 32,
   "metadata": {
    "slideshow": {
     "slide_type": "fragment"
    }
   },
   "outputs": [
    {
     "data": {
      "text/plain": [
       "array([3., 3., 3.])"
      ]
     },
     "execution_count": 32,
     "metadata": {},
     "output_type": "execute_result"
    }
   ],
   "source": [
    "# changing values\n",
    "wine_np[0:3, 8] = [3., 3., 3.]\n",
    "wine_np[0:3, 8]"
   ]
  },
  {
   "cell_type": "code",
   "execution_count": 33,
   "metadata": {
    "slideshow": {
     "slide_type": "fragment"
    }
   },
   "outputs": [
    {
     "data": {
      "text/plain": [
       "'float64'"
      ]
     },
     "execution_count": 33,
     "metadata": {},
     "output_type": "execute_result"
    }
   ],
   "source": [
    "wine_np.dtype.name\n",
    "\n",
    "# change it with wine_np.astype(int)"
   ]
  },
  {
   "cell_type": "code",
   "execution_count": 34,
   "metadata": {
    "slideshow": {
     "slide_type": "slide"
    }
   },
   "outputs": [
    {
     "name": "stdout",
     "output_type": "stream",
     "text": [
      "[3.   3.   3.   ... 3.42 3.57 3.39]\n",
      "[6.   6.   6.   ... 6.84 7.14 6.78]\n",
      "[6.   6.   6.   ... 6.84 7.14 6.78]\n",
      "[20.08553692 20.08553692 20.08553692 ... 30.56941502 35.51659315\n",
      " 29.66595227]\n"
     ]
    }
   ],
   "source": [
    "print(pH)\n",
    "print(2*pH)\n",
    "print(pH + pH)\n",
    "print(np.exp(pH))"
   ]
  },
  {
   "cell_type": "code",
   "execution_count": 35,
   "metadata": {
    "slideshow": {
     "slide_type": "slide"
    }
   },
   "outputs": [
    {
     "name": "stdout",
     "output_type": "stream",
     "text": [
      "[[7.4  0.7  0.  ]\n",
      " [7.8  0.88 0.  ]]\n",
      "\n",
      "[[7.4  7.8 ]\n",
      " [0.7  0.88]\n",
      " [0.   0.  ]]\n"
     ]
    }
   ],
   "source": [
    "M = wine_np[0:2, 0:3]\n",
    "print(M)\n",
    "print()\n",
    "print(M.T)"
   ]
  },
  {
   "cell_type": "code",
   "execution_count": 36,
   "metadata": {
    "slideshow": {
     "slide_type": "slide"
    }
   },
   "outputs": [
    {
     "data": {
      "text/plain": [
       "array([[55.25  , 58.336 ],\n",
       "       [58.336 , 61.6144]])"
      ]
     },
     "execution_count": 36,
     "metadata": {},
     "output_type": "execute_result"
    }
   ],
   "source": [
    "M.dot(M.T) # matrix multiplication"
   ]
  },
  {
   "cell_type": "code",
   "execution_count": 37,
   "metadata": {
    "slideshow": {
     "slide_type": "fragment"
    }
   },
   "outputs": [
    {
     "data": {
      "text/plain": [
       "array([[115.6   ,  12.044 ,   0.    ],\n",
       "       [ 12.044 ,   1.2644,   0.    ],\n",
       "       [  0.    ,   0.    ,   0.    ]])"
      ]
     },
     "execution_count": 37,
     "metadata": {},
     "output_type": "execute_result"
    }
   ],
   "source": [
    "M.T.dot(M) # matrix multiplication"
   ]
  },
  {
   "cell_type": "code",
   "execution_count": 38,
   "metadata": {
    "slideshow": {
     "slide_type": "slide"
    }
   },
   "outputs": [
    {
     "data": {
      "text/plain": [
       "array([[22.2 ,  2.1 ,  0.  ],\n",
       "       [23.4 ,  2.64,  0.  ]])"
      ]
     },
     "execution_count": 38,
     "metadata": {},
     "output_type": "execute_result"
    }
   ],
   "source": [
    "x = np.array([3,3,3])\n",
    "M*x  # multiply rows by x. This is a broadcasting operation"
   ]
  },
  {
   "cell_type": "markdown",
   "metadata": {
    "slideshow": {
     "slide_type": "slide"
    }
   },
   "source": [
    "### Broadcasting in numpy:\n",
    " - The last dimension of each array is compared.\n",
    " - If the dimension lengths are equal, or one of the dimensions is of length 1, then we keep going.\n",
    " - If the dimension lengths are not equal, and none of the dimensions have length 1, then there's an error.\n",
    " - Continue checking dimensions until the shortest array is out of dimensions."
   ]
  },
  {
   "cell_type": "code",
   "execution_count": 39,
   "metadata": {
    "slideshow": {
     "slide_type": "slide"
    }
   },
   "outputs": [
    {
     "data": {
      "text/plain": [
       "array([24.3 , 26.04])"
      ]
     },
     "execution_count": 39,
     "metadata": {},
     "output_type": "execute_result"
    }
   ],
   "source": [
    "M.dot(x) # matrix multiplication"
   ]
  },
  {
   "cell_type": "code",
   "execution_count": 38,
   "metadata": {},
   "outputs": [
    {
     "data": {
      "text/plain": [
       "(3,)"
      ]
     },
     "execution_count": 38,
     "metadata": {},
     "output_type": "execute_result"
    }
   ],
   "source": [
    "x.shape"
   ]
  },
  {
   "cell_type": "code",
   "execution_count": 39,
   "metadata": {},
   "outputs": [
    {
     "data": {
      "text/plain": [
       "(2, 3)"
      ]
     },
     "execution_count": 39,
     "metadata": {},
     "output_type": "execute_result"
    }
   ],
   "source": [
    "M.shape"
   ]
  },
  {
   "cell_type": "code",
<<<<<<< HEAD
   "execution_count": 40,
=======
   "execution_count": 42,
>>>>>>> 23795514b3f170e99a215b6fe6b340e84cd142a9
   "metadata": {
    "slideshow": {
     "slide_type": "fragment"
    }
   },
   "outputs": [
    {
     "data": {
      "text/plain": [
       "26.04"
      ]
     },
<<<<<<< HEAD
     "execution_count": 40,
=======
     "execution_count": 42,
>>>>>>> 23795514b3f170e99a215b6fe6b340e84cd142a9
     "metadata": {},
     "output_type": "execute_result"
    }
   ],
   "source": [
    "# but not this:\n",
    "x.dot(M[1,...])  # try to fix it"
   ]
  },
  {
   "cell_type": "code",
<<<<<<< HEAD
   "execution_count": 41,
=======
   "execution_count": 43,
>>>>>>> 23795514b3f170e99a215b6fe6b340e84cd142a9
   "metadata": {
    "slideshow": {
     "slide_type": "slide"
    }
   },
   "outputs": [
    {
     "name": "stdout",
     "output_type": "stream",
     "text": [
      "<class 'numpy.ndarray'>\n",
      "(1599, 12)\n"
     ]
    },
    {
     "data": {
      "text/plain": [
       "152083.81193999999"
      ]
     },
<<<<<<< HEAD
     "execution_count": 41,
=======
     "execution_count": 43,
>>>>>>> 23795514b3f170e99a215b6fe6b340e84cd142a9
     "metadata": {},
     "output_type": "execute_result"
    }
   ],
   "source": [
    "print(type(wine_np)) # ndarray object\n",
    "print(wine_np.shape) # note, shape is attribute\n",
    "wine_np.sum()  # sum() is method"
   ]
  },
  {
   "cell_type": "code",
<<<<<<< HEAD
   "execution_count": 42,
=======
   "execution_count": 44,
>>>>>>> 23795514b3f170e99a215b6fe6b340e84cd142a9
   "metadata": {
    "slideshow": {
     "slide_type": "fragment"
    }
   },
   "outputs": [
    {
     "data": {
      "text/plain": [
       "array([13303.1    ,   843.985  ,   433.29   ,  4059.55   ,   139.859  ,\n",
       "       25384.     , 74302.     ,  1593.79794,  5293.5    ,  1052.38   ,\n",
       "       16666.35   ,  9012.     ])"
      ]
     },
<<<<<<< HEAD
     "execution_count": 42,
=======
     "execution_count": 44,
>>>>>>> 23795514b3f170e99a215b6fe6b340e84cd142a9
     "metadata": {},
     "output_type": "execute_result"
    }
   ],
   "source": [
    "wine_np.sum(axis=0)  # collapsed dimensions"
   ]
  },
  {
   "cell_type": "code",
<<<<<<< HEAD
   "execution_count": 43,
=======
   "execution_count": 45,
>>>>>>> 23795514b3f170e99a215b6fe6b340e84cd142a9
   "metadata": {
    "slideshow": {
     "slide_type": "fragment"
    }
   },
   "outputs": [
    {
     "data": {
      "text/plain": [
       "array([ 74.0338 , 122.8548 ,  99.439  , ..., 100.48174, 105.21547,\n",
       "        92.49249])"
      ]
     },
<<<<<<< HEAD
     "execution_count": 43,
=======
     "execution_count": 45,
>>>>>>> 23795514b3f170e99a215b6fe6b340e84cd142a9
     "metadata": {},
     "output_type": "execute_result"
    }
   ],
   "source": [
    "wine_np.sum(axis=1)"
   ]
  },
  {
   "cell_type": "code",
<<<<<<< HEAD
   "execution_count": 44,
=======
   "execution_count": 46,
>>>>>>> 23795514b3f170e99a215b6fe6b340e84cd142a9
   "metadata": {
    "slideshow": {
     "slide_type": "slide"
    }
   },
   "outputs": [
    {
     "name": "stdout",
     "output_type": "stream",
     "text": [
      "<class 'pandas.core.frame.DataFrame'>\n",
      "RangeIndex: 1599 entries, 0 to 1598\n",
      "Data columns (total 12 columns):\n",
      "fixed acidity           1599 non-null float64\n",
      "volatile acidity        1599 non-null float64\n",
      "citric acid             1599 non-null float64\n",
      "residual sugar          1599 non-null float64\n",
      "chlorides               1599 non-null float64\n",
      "free sulfur dioxide     1599 non-null float64\n",
      "total sulfur dioxide    1599 non-null float64\n",
      "density                 1599 non-null float64\n",
      "pH                      1599 non-null float64\n",
      "sulphates               1599 non-null float64\n",
      "alcohol                 1599 non-null float64\n",
      "quality                 1599 non-null int64\n",
      "dtypes: float64(11), int64(1)\n",
      "memory usage: 150.0 KB\n"
     ]
    }
   ],
   "source": [
    "# Pandas Dataframe (as in R)\n",
    "wine_df.info()"
   ]
  },
  {
   "cell_type": "code",
<<<<<<< HEAD
   "execution_count": 45,
=======
   "execution_count": 47,
>>>>>>> 23795514b3f170e99a215b6fe6b340e84cd142a9
   "metadata": {
    "slideshow": {
     "slide_type": "slide"
    }
   },
   "outputs": [
    {
     "data": {
      "text/plain": [
       "fixed acidity           float64\n",
       "volatile acidity        float64\n",
       "citric acid             float64\n",
       "residual sugar          float64\n",
       "chlorides               float64\n",
       "free sulfur dioxide     float64\n",
       "total sulfur dioxide    float64\n",
       "density                 float64\n",
       "pH                      float64\n",
       "sulphates               float64\n",
       "alcohol                 float64\n",
       "quality                   int64\n",
       "dtype: object"
      ]
     },
<<<<<<< HEAD
     "execution_count": 45,
=======
     "execution_count": 47,
>>>>>>> 23795514b3f170e99a215b6fe6b340e84cd142a9
     "metadata": {},
     "output_type": "execute_result"
    }
   ],
   "source": [
    "wine_df.dtypes"
   ]
  },
  {
   "cell_type": "code",
<<<<<<< HEAD
   "execution_count": 46,
=======
   "execution_count": 48,
>>>>>>> 23795514b3f170e99a215b6fe6b340e84cd142a9
   "metadata": {
    "slideshow": {
     "slide_type": "slide"
    }
   },
   "outputs": [
    {
     "data": {
      "text/html": [
       "<div>\n",
       "<style scoped>\n",
       "    .dataframe tbody tr th:only-of-type {\n",
       "        vertical-align: middle;\n",
       "    }\n",
       "\n",
       "    .dataframe tbody tr th {\n",
       "        vertical-align: top;\n",
       "    }\n",
       "\n",
       "    .dataframe thead th {\n",
       "        text-align: right;\n",
       "    }\n",
       "</style>\n",
       "<table border=\"1\" class=\"dataframe\">\n",
       "  <thead>\n",
       "    <tr style=\"text-align: right;\">\n",
       "      <th></th>\n",
       "      <th>fixed acidity</th>\n",
       "      <th>volatile acidity</th>\n",
       "      <th>citric acid</th>\n",
       "      <th>residual sugar</th>\n",
       "      <th>chlorides</th>\n",
       "      <th>free sulfur dioxide</th>\n",
       "      <th>total sulfur dioxide</th>\n",
       "      <th>density</th>\n",
       "      <th>pH</th>\n",
       "      <th>sulphates</th>\n",
       "      <th>alcohol</th>\n",
       "      <th>quality</th>\n",
       "    </tr>\n",
       "  </thead>\n",
       "  <tbody>\n",
       "    <tr>\n",
       "      <td>count</td>\n",
       "      <td>1599.000000</td>\n",
       "      <td>1599.000000</td>\n",
       "      <td>1599.000000</td>\n",
       "      <td>1599.000000</td>\n",
       "      <td>1599.000000</td>\n",
       "      <td>1599.000000</td>\n",
       "      <td>1599.000000</td>\n",
       "      <td>1599.000000</td>\n",
       "      <td>1599.000000</td>\n",
       "      <td>1599.000000</td>\n",
       "      <td>1599.000000</td>\n",
       "      <td>1599.000000</td>\n",
       "    </tr>\n",
       "    <tr>\n",
       "      <td>mean</td>\n",
       "      <td>8.319637</td>\n",
       "      <td>0.527821</td>\n",
       "      <td>0.270976</td>\n",
       "      <td>2.538806</td>\n",
       "      <td>0.087467</td>\n",
       "      <td>15.874922</td>\n",
       "      <td>46.467792</td>\n",
       "      <td>0.996747</td>\n",
       "      <td>3.311113</td>\n",
       "      <td>0.658149</td>\n",
       "      <td>10.422983</td>\n",
       "      <td>5.636023</td>\n",
       "    </tr>\n",
       "    <tr>\n",
       "      <td>std</td>\n",
       "      <td>1.741096</td>\n",
       "      <td>0.179060</td>\n",
       "      <td>0.194801</td>\n",
       "      <td>1.409928</td>\n",
       "      <td>0.047065</td>\n",
       "      <td>10.460157</td>\n",
       "      <td>32.895324</td>\n",
       "      <td>0.001887</td>\n",
       "      <td>0.154386</td>\n",
       "      <td>0.169507</td>\n",
       "      <td>1.065668</td>\n",
       "      <td>0.807569</td>\n",
       "    </tr>\n",
       "    <tr>\n",
       "      <td>min</td>\n",
       "      <td>4.600000</td>\n",
       "      <td>0.120000</td>\n",
       "      <td>0.000000</td>\n",
       "      <td>0.900000</td>\n",
       "      <td>0.012000</td>\n",
       "      <td>1.000000</td>\n",
       "      <td>6.000000</td>\n",
       "      <td>0.990070</td>\n",
       "      <td>2.740000</td>\n",
       "      <td>0.330000</td>\n",
       "      <td>8.400000</td>\n",
       "      <td>3.000000</td>\n",
       "    </tr>\n",
       "    <tr>\n",
       "      <td>25%</td>\n",
       "      <td>7.100000</td>\n",
       "      <td>0.390000</td>\n",
       "      <td>0.090000</td>\n",
       "      <td>1.900000</td>\n",
       "      <td>0.070000</td>\n",
       "      <td>7.000000</td>\n",
       "      <td>22.000000</td>\n",
       "      <td>0.995600</td>\n",
       "      <td>3.210000</td>\n",
       "      <td>0.550000</td>\n",
       "      <td>9.500000</td>\n",
       "      <td>5.000000</td>\n",
       "    </tr>\n",
       "    <tr>\n",
       "      <td>50%</td>\n",
       "      <td>7.900000</td>\n",
       "      <td>0.520000</td>\n",
       "      <td>0.260000</td>\n",
       "      <td>2.200000</td>\n",
       "      <td>0.079000</td>\n",
       "      <td>14.000000</td>\n",
       "      <td>38.000000</td>\n",
       "      <td>0.996750</td>\n",
       "      <td>3.310000</td>\n",
       "      <td>0.620000</td>\n",
       "      <td>10.200000</td>\n",
       "      <td>6.000000</td>\n",
       "    </tr>\n",
       "    <tr>\n",
       "      <td>75%</td>\n",
       "      <td>9.200000</td>\n",
       "      <td>0.640000</td>\n",
       "      <td>0.420000</td>\n",
       "      <td>2.600000</td>\n",
       "      <td>0.090000</td>\n",
       "      <td>21.000000</td>\n",
       "      <td>62.000000</td>\n",
       "      <td>0.997835</td>\n",
       "      <td>3.400000</td>\n",
       "      <td>0.730000</td>\n",
       "      <td>11.100000</td>\n",
       "      <td>6.000000</td>\n",
       "    </tr>\n",
       "    <tr>\n",
       "      <td>max</td>\n",
       "      <td>15.900000</td>\n",
       "      <td>1.580000</td>\n",
       "      <td>1.000000</td>\n",
       "      <td>15.500000</td>\n",
       "      <td>0.611000</td>\n",
       "      <td>72.000000</td>\n",
       "      <td>289.000000</td>\n",
       "      <td>1.003690</td>\n",
       "      <td>4.010000</td>\n",
       "      <td>2.000000</td>\n",
       "      <td>14.900000</td>\n",
       "      <td>8.000000</td>\n",
       "    </tr>\n",
       "  </tbody>\n",
       "</table>\n",
       "</div>"
      ],
      "text/plain": [
       "       fixed acidity  volatile acidity  citric acid  residual sugar  \\\n",
       "count    1599.000000       1599.000000  1599.000000     1599.000000   \n",
       "mean        8.319637          0.527821     0.270976        2.538806   \n",
       "std         1.741096          0.179060     0.194801        1.409928   \n",
       "min         4.600000          0.120000     0.000000        0.900000   \n",
       "25%         7.100000          0.390000     0.090000        1.900000   \n",
       "50%         7.900000          0.520000     0.260000        2.200000   \n",
       "75%         9.200000          0.640000     0.420000        2.600000   \n",
       "max        15.900000          1.580000     1.000000       15.500000   \n",
       "\n",
       "         chlorides  free sulfur dioxide  total sulfur dioxide      density  \\\n",
       "count  1599.000000          1599.000000           1599.000000  1599.000000   \n",
       "mean      0.087467            15.874922             46.467792     0.996747   \n",
       "std       0.047065            10.460157             32.895324     0.001887   \n",
       "min       0.012000             1.000000              6.000000     0.990070   \n",
       "25%       0.070000             7.000000             22.000000     0.995600   \n",
       "50%       0.079000            14.000000             38.000000     0.996750   \n",
       "75%       0.090000            21.000000             62.000000     0.997835   \n",
       "max       0.611000            72.000000            289.000000     1.003690   \n",
       "\n",
       "                pH    sulphates      alcohol      quality  \n",
       "count  1599.000000  1599.000000  1599.000000  1599.000000  \n",
       "mean      3.311113     0.658149    10.422983     5.636023  \n",
       "std       0.154386     0.169507     1.065668     0.807569  \n",
       "min       2.740000     0.330000     8.400000     3.000000  \n",
       "25%       3.210000     0.550000     9.500000     5.000000  \n",
       "50%       3.310000     0.620000    10.200000     6.000000  \n",
       "75%       3.400000     0.730000    11.100000     6.000000  \n",
       "max       4.010000     2.000000    14.900000     8.000000  "
      ]
     },
<<<<<<< HEAD
     "execution_count": 46,
=======
     "execution_count": 48,
>>>>>>> 23795514b3f170e99a215b6fe6b340e84cd142a9
     "metadata": {},
     "output_type": "execute_result"
    }
   ],
   "source": [
    "wine_df.describe()"
   ]
  },
  {
   "cell_type": "code",
<<<<<<< HEAD
   "execution_count": 47,
=======
   "execution_count": 49,
>>>>>>> 23795514b3f170e99a215b6fe6b340e84cd142a9
   "metadata": {
    "slideshow": {
     "slide_type": "slide"
    }
   },
   "outputs": [
    {
     "data": {
      "text/plain": [
       "0    3.51\n",
       "1    3.20\n",
       "2    3.26\n",
       "3    3.16\n",
       "4    3.51\n",
       "Name: pH, dtype: float64"
      ]
     },
<<<<<<< HEAD
     "execution_count": 47,
=======
     "execution_count": 49,
>>>>>>> 23795514b3f170e99a215b6fe6b340e84cd142a9
     "metadata": {},
     "output_type": "execute_result"
    }
   ],
   "source": [
    "wine_df['pH'].head()"
   ]
  },
  {
   "cell_type": "code",
<<<<<<< HEAD
   "execution_count": 48,
=======
   "execution_count": 50,
>>>>>>> 23795514b3f170e99a215b6fe6b340e84cd142a9
   "metadata": {
    "slideshow": {
     "slide_type": "slide"
    }
   },
   "outputs": [
    {
     "data": {
      "text/plain": [
       "0    3.51\n",
       "1    3.20\n",
       "2    3.26\n",
       "3    3.16\n",
       "4    3.51\n",
       "5    3.51\n",
       "6    3.30\n",
       "7    3.39\n",
       "8    3.36\n",
       "9    3.35\n",
       "Name: pH, dtype: float64"
      ]
     },
<<<<<<< HEAD
     "execution_count": 48,
=======
     "execution_count": 50,
>>>>>>> 23795514b3f170e99a215b6fe6b340e84cd142a9
     "metadata": {},
     "output_type": "execute_result"
    }
   ],
   "source": [
    "wine_df['pH'].head(10)"
   ]
  },
  {
   "cell_type": "code",
<<<<<<< HEAD
   "execution_count": 49,
=======
   "execution_count": 51,
>>>>>>> 23795514b3f170e99a215b6fe6b340e84cd142a9
   "metadata": {
    "slideshow": {
     "slide_type": "slide"
    }
   },
   "outputs": [
    {
     "data": {
      "text/plain": [
       "0    3.51\n",
       "1    3.20\n",
       "2    3.26\n",
       "3    3.16\n",
       "4    3.51\n",
       "Name: pH, dtype: float64"
      ]
     },
<<<<<<< HEAD
     "execution_count": 49,
=======
     "execution_count": 51,
>>>>>>> 23795514b3f170e99a215b6fe6b340e84cd142a9
     "metadata": {},
     "output_type": "execute_result"
    }
   ],
   "source": [
    "wine_df['pH'][:5]"
   ]
  },
  {
   "cell_type": "code",
<<<<<<< HEAD
   "execution_count": 50,
=======
   "execution_count": 52,
>>>>>>> 23795514b3f170e99a215b6fe6b340e84cd142a9
   "metadata": {
    "slideshow": {
     "slide_type": "slide"
    }
   },
   "outputs": [
    {
     "data": {
      "text/html": [
       "<div>\n",
       "<style scoped>\n",
       "    .dataframe tbody tr th:only-of-type {\n",
       "        vertical-align: middle;\n",
       "    }\n",
       "\n",
       "    .dataframe tbody tr th {\n",
       "        vertical-align: top;\n",
       "    }\n",
       "\n",
       "    .dataframe thead th {\n",
       "        text-align: right;\n",
       "    }\n",
       "</style>\n",
       "<table border=\"1\" class=\"dataframe\">\n",
       "  <thead>\n",
       "    <tr style=\"text-align: right;\">\n",
       "      <th></th>\n",
       "      <th>fixed acidity</th>\n",
       "      <th>volatile acidity</th>\n",
       "      <th>citric acid</th>\n",
       "      <th>residual sugar</th>\n",
       "      <th>chlorides</th>\n",
       "      <th>free sulfur dioxide</th>\n",
       "      <th>total sulfur dioxide</th>\n",
       "      <th>density</th>\n",
       "      <th>pH</th>\n",
       "      <th>sulphates</th>\n",
       "      <th>alcohol</th>\n",
       "      <th>quality</th>\n",
       "    </tr>\n",
       "  </thead>\n",
       "  <tbody>\n",
       "    <tr>\n",
       "      <td>0</td>\n",
       "      <td>7.4</td>\n",
       "      <td>0.70</td>\n",
       "      <td>0.00</td>\n",
       "      <td>1.9</td>\n",
       "      <td>0.076</td>\n",
       "      <td>11.0</td>\n",
       "      <td>34.0</td>\n",
       "      <td>0.9978</td>\n",
       "      <td>3.51</td>\n",
       "      <td>0.56</td>\n",
       "      <td>9.4</td>\n",
       "      <td>5</td>\n",
       "    </tr>\n",
       "    <tr>\n",
       "      <td>1</td>\n",
       "      <td>7.8</td>\n",
       "      <td>0.88</td>\n",
       "      <td>0.00</td>\n",
       "      <td>2.6</td>\n",
       "      <td>0.098</td>\n",
       "      <td>25.0</td>\n",
       "      <td>67.0</td>\n",
       "      <td>0.9968</td>\n",
       "      <td>3.20</td>\n",
       "      <td>0.68</td>\n",
       "      <td>9.8</td>\n",
       "      <td>5</td>\n",
       "    </tr>\n",
       "    <tr>\n",
       "      <td>2</td>\n",
       "      <td>7.8</td>\n",
       "      <td>0.76</td>\n",
       "      <td>0.04</td>\n",
       "      <td>2.3</td>\n",
       "      <td>0.092</td>\n",
       "      <td>15.0</td>\n",
       "      <td>54.0</td>\n",
       "      <td>0.9970</td>\n",
       "      <td>3.26</td>\n",
       "      <td>0.65</td>\n",
       "      <td>9.8</td>\n",
       "      <td>5</td>\n",
       "    </tr>\n",
       "    <tr>\n",
       "      <td>3</td>\n",
       "      <td>11.2</td>\n",
       "      <td>0.28</td>\n",
       "      <td>0.56</td>\n",
       "      <td>1.9</td>\n",
       "      <td>0.075</td>\n",
       "      <td>17.0</td>\n",
       "      <td>60.0</td>\n",
       "      <td>0.9980</td>\n",
       "      <td>3.16</td>\n",
       "      <td>0.58</td>\n",
       "      <td>9.8</td>\n",
       "      <td>6</td>\n",
       "    </tr>\n",
       "    <tr>\n",
       "      <td>4</td>\n",
       "      <td>7.4</td>\n",
       "      <td>0.70</td>\n",
       "      <td>0.00</td>\n",
       "      <td>1.9</td>\n",
       "      <td>0.076</td>\n",
       "      <td>11.0</td>\n",
       "      <td>34.0</td>\n",
       "      <td>0.9978</td>\n",
       "      <td>3.51</td>\n",
       "      <td>0.56</td>\n",
       "      <td>9.4</td>\n",
       "      <td>5</td>\n",
       "    </tr>\n",
       "  </tbody>\n",
       "</table>\n",
       "</div>"
      ],
      "text/plain": [
       "   fixed acidity  volatile acidity  citric acid  residual sugar  chlorides  \\\n",
       "0            7.4              0.70         0.00             1.9      0.076   \n",
       "1            7.8              0.88         0.00             2.6      0.098   \n",
       "2            7.8              0.76         0.04             2.3      0.092   \n",
       "3           11.2              0.28         0.56             1.9      0.075   \n",
       "4            7.4              0.70         0.00             1.9      0.076   \n",
       "\n",
       "   free sulfur dioxide  total sulfur dioxide  density    pH  sulphates  \\\n",
       "0                 11.0                  34.0   0.9978  3.51       0.56   \n",
       "1                 25.0                  67.0   0.9968  3.20       0.68   \n",
       "2                 15.0                  54.0   0.9970  3.26       0.65   \n",
       "3                 17.0                  60.0   0.9980  3.16       0.58   \n",
       "4                 11.0                  34.0   0.9978  3.51       0.56   \n",
       "\n",
       "   alcohol  quality  \n",
       "0      9.4        5  \n",
       "1      9.8        5  \n",
       "2      9.8        5  \n",
       "3      9.8        6  \n",
       "4      9.4        5  "
      ]
     },
<<<<<<< HEAD
     "execution_count": 50,
=======
     "execution_count": 52,
>>>>>>> 23795514b3f170e99a215b6fe6b340e84cd142a9
     "metadata": {},
     "output_type": "execute_result"
    }
   ],
   "source": [
    "wine_df[:5]"
   ]
  },
  {
   "cell_type": "code",
<<<<<<< HEAD
   "execution_count": 51,
=======
   "execution_count": 53,
>>>>>>> 23795514b3f170e99a215b6fe6b340e84cd142a9
   "metadata": {
    "slideshow": {
     "slide_type": "slide"
    }
   },
   "outputs": [
    {
     "data": {
      "text/plain": [
       "0    3.51\n",
       "1    3.20\n",
       "2    3.26\n",
       "3    3.16\n",
       "4    3.51\n",
       "Name: pH, dtype: float64"
      ]
     },
<<<<<<< HEAD
     "execution_count": 51,
=======
     "execution_count": 53,
>>>>>>> 23795514b3f170e99a215b6fe6b340e84cd142a9
     "metadata": {},
     "output_type": "execute_result"
    }
   ],
   "source": [
    "wine_df[:5]['pH']"
   ]
  },
  {
   "cell_type": "code",
<<<<<<< HEAD
   "execution_count": 52,
=======
   "execution_count": 54,
>>>>>>> 23795514b3f170e99a215b6fe6b340e84cd142a9
   "metadata": {
    "slideshow": {
     "slide_type": "slide"
    }
   },
   "outputs": [
    {
     "data": {
      "text/html": [
       "<div>\n",
       "<style scoped>\n",
       "    .dataframe tbody tr th:only-of-type {\n",
       "        vertical-align: middle;\n",
       "    }\n",
       "\n",
       "    .dataframe tbody tr th {\n",
       "        vertical-align: top;\n",
       "    }\n",
       "\n",
       "    .dataframe thead th {\n",
       "        text-align: right;\n",
       "    }\n",
       "</style>\n",
       "<table border=\"1\" class=\"dataframe\">\n",
       "  <thead>\n",
       "    <tr style=\"text-align: right;\">\n",
       "      <th></th>\n",
       "      <th>chlorides</th>\n",
       "      <th>pH</th>\n",
       "    </tr>\n",
       "  </thead>\n",
       "  <tbody>\n",
       "    <tr>\n",
       "      <td>0</td>\n",
       "      <td>0.076</td>\n",
       "      <td>3.51</td>\n",
       "    </tr>\n",
       "    <tr>\n",
       "      <td>1</td>\n",
       "      <td>0.098</td>\n",
       "      <td>3.20</td>\n",
       "    </tr>\n",
       "    <tr>\n",
       "      <td>2</td>\n",
       "      <td>0.092</td>\n",
       "      <td>3.26</td>\n",
       "    </tr>\n",
       "    <tr>\n",
       "      <td>3</td>\n",
       "      <td>0.075</td>\n",
       "      <td>3.16</td>\n",
       "    </tr>\n",
       "    <tr>\n",
       "      <td>4</td>\n",
       "      <td>0.076</td>\n",
       "      <td>3.51</td>\n",
       "    </tr>\n",
       "  </tbody>\n",
       "</table>\n",
       "</div>"
      ],
      "text/plain": [
       "   chlorides    pH\n",
       "0      0.076  3.51\n",
       "1      0.098  3.20\n",
       "2      0.092  3.26\n",
       "3      0.075  3.16\n",
       "4      0.076  3.51"
      ]
     },
<<<<<<< HEAD
     "execution_count": 52,
=======
     "execution_count": 54,
>>>>>>> 23795514b3f170e99a215b6fe6b340e84cd142a9
     "metadata": {},
     "output_type": "execute_result"
    }
   ],
   "source": [
    "wine_df[:5][['chlorides', 'pH']]"
   ]
  },
  {
   "cell_type": "code",
<<<<<<< HEAD
   "execution_count": 53,
=======
   "execution_count": 55,
>>>>>>> 23795514b3f170e99a215b6fe6b340e84cd142a9
   "metadata": {
    "slideshow": {
     "slide_type": "slide"
    }
   },
   "outputs": [
    {
     "data": {
      "text/html": [
       "<div>\n",
       "<style scoped>\n",
       "    .dataframe tbody tr th:only-of-type {\n",
       "        vertical-align: middle;\n",
       "    }\n",
       "\n",
       "    .dataframe tbody tr th {\n",
       "        vertical-align: top;\n",
       "    }\n",
       "\n",
       "    .dataframe thead th {\n",
       "        text-align: right;\n",
       "    }\n",
       "</style>\n",
       "<table border=\"1\" class=\"dataframe\">\n",
       "  <thead>\n",
       "    <tr style=\"text-align: right;\">\n",
       "      <th></th>\n",
       "      <th>chlorides</th>\n",
       "      <th>pH</th>\n",
       "    </tr>\n",
       "  </thead>\n",
       "  <tbody>\n",
       "    <tr>\n",
       "      <td>0</td>\n",
       "      <td>0.076</td>\n",
       "      <td>3.51</td>\n",
       "    </tr>\n",
       "    <tr>\n",
       "      <td>1</td>\n",
       "      <td>0.098</td>\n",
       "      <td>3.20</td>\n",
       "    </tr>\n",
       "    <tr>\n",
       "      <td>2</td>\n",
       "      <td>0.092</td>\n",
       "      <td>3.26</td>\n",
       "    </tr>\n",
       "    <tr>\n",
       "      <td>3</td>\n",
       "      <td>0.075</td>\n",
       "      <td>3.16</td>\n",
       "    </tr>\n",
       "    <tr>\n",
       "      <td>4</td>\n",
       "      <td>0.076</td>\n",
       "      <td>3.51</td>\n",
       "    </tr>\n",
       "  </tbody>\n",
       "</table>\n",
       "</div>"
      ],
      "text/plain": [
       "   chlorides    pH\n",
       "0      0.076  3.51\n",
       "1      0.098  3.20\n",
       "2      0.092  3.26\n",
       "3      0.075  3.16\n",
       "4      0.076  3.51"
      ]
     },
<<<<<<< HEAD
     "execution_count": 53,
=======
     "execution_count": 55,
>>>>>>> 23795514b3f170e99a215b6fe6b340e84cd142a9
     "metadata": {},
     "output_type": "execute_result"
    }
   ],
   "source": [
    "wine_df[['chlorides', 'pH']][:5]"
   ]
  },
  {
   "cell_type": "code",
<<<<<<< HEAD
   "execution_count": 54,
=======
   "execution_count": 56,
>>>>>>> 23795514b3f170e99a215b6fe6b340e84cd142a9
   "metadata": {
    "slideshow": {
     "slide_type": "slide"
    }
   },
   "outputs": [
    {
     "data": {
      "text/plain": [
       "array([5, 6, 7, 4, 8, 3])"
      ]
     },
<<<<<<< HEAD
     "execution_count": 54,
=======
     "execution_count": 56,
>>>>>>> 23795514b3f170e99a215b6fe6b340e84cd142a9
     "metadata": {},
     "output_type": "execute_result"
    }
   ],
   "source": [
    "wine_df['quality'].unique()"
   ]
  },
  {
   "cell_type": "code",
<<<<<<< HEAD
   "execution_count": 55,
=======
   "execution_count": 57,
>>>>>>> 23795514b3f170e99a215b6fe6b340e84cd142a9
   "metadata": {
    "slideshow": {
     "slide_type": "fragment"
    }
   },
   "outputs": [
    {
     "data": {
      "text/plain": [
       "6"
      ]
     },
<<<<<<< HEAD
     "execution_count": 55,
=======
     "execution_count": 57,
>>>>>>> 23795514b3f170e99a215b6fe6b340e84cd142a9
     "metadata": {},
     "output_type": "execute_result"
    }
   ],
   "source": [
    "wine_df['quality'].nunique()"
   ]
  },
  {
   "cell_type": "code",
<<<<<<< HEAD
   "execution_count": 56,
=======
   "execution_count": 58,
>>>>>>> 23795514b3f170e99a215b6fe6b340e84cd142a9
   "metadata": {
    "slideshow": {
     "slide_type": "slide"
    }
   },
   "outputs": [
    {
     "data": {
      "text/plain": [
       "5    681\n",
       "6    638\n",
       "7    199\n",
       "4     53\n",
       "8     18\n",
       "3     10\n",
       "Name: quality, dtype: int64"
      ]
     },
<<<<<<< HEAD
     "execution_count": 56,
=======
     "execution_count": 58,
>>>>>>> 23795514b3f170e99a215b6fe6b340e84cd142a9
     "metadata": {},
     "output_type": "execute_result"
    }
   ],
   "source": [
    "# a histogram by quality\n",
    "wine_df['quality'].value_counts()"
   ]
  },
  {
   "cell_type": "code",
<<<<<<< HEAD
   "execution_count": 57,
=======
   "execution_count": 59,
>>>>>>> 23795514b3f170e99a215b6fe6b340e84cd142a9
   "metadata": {
    "slideshow": {
     "slide_type": "slide"
    }
   },
   "outputs": [
    {
     "data": {
      "text/plain": [
<<<<<<< HEAD
       "<matplotlib.axes._subplots.AxesSubplot at 0x7f995557e290>"
      ]
     },
     "execution_count": 57,
=======
       "<matplotlib.axes._subplots.AxesSubplot at 0x7f2e9bbf18d0>"
      ]
     },
     "execution_count": 59,
>>>>>>> 23795514b3f170e99a215b6fe6b340e84cd142a9
     "metadata": {},
     "output_type": "execute_result"
    },
    {
     "data": {
      "image/png": "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\n",
      "text/plain": [
       "<Figure size 432x288 with 1 Axes>"
      ]
     },
     "metadata": {
      "needs_background": "light"
     },
     "output_type": "display_data"
    }
   ],
   "source": [
    "%matplotlib inline\n",
    "wine_df['quality'].value_counts().plot(kind='bar')"
   ]
  },
  {
   "cell_type": "code",
<<<<<<< HEAD
   "execution_count": 58,
=======
   "execution_count": 60,
>>>>>>> 23795514b3f170e99a215b6fe6b340e84cd142a9
   "metadata": {
    "slideshow": {
     "slide_type": "slide"
    }
   },
   "outputs": [
    {
     "data": {
      "text/plain": [
       "0       False\n",
       "1       False\n",
       "2       False\n",
       "3       False\n",
       "4       False\n",
       "        ...  \n",
       "1594    False\n",
       "1595    False\n",
       "1596    False\n",
       "1597    False\n",
       "1598    False\n",
       "Name: quality, Length: 1599, dtype: bool"
      ]
     },
<<<<<<< HEAD
     "execution_count": 58,
=======
     "execution_count": 60,
>>>>>>> 23795514b3f170e99a215b6fe6b340e84cd142a9
     "metadata": {},
     "output_type": "execute_result"
    }
   ],
   "source": [
    "wine_df['quality'] == 3\n",
    "# This is a big array of Trues and Falses, one for each row in our dataframe. When we index our dataframe with this array, we get just the rows where."
   ]
  },
  {
   "cell_type": "code",
<<<<<<< HEAD
   "execution_count": 59,
=======
   "execution_count": 61,
>>>>>>> 23795514b3f170e99a215b6fe6b340e84cd142a9
   "metadata": {
    "slideshow": {
     "slide_type": "slide"
    }
   },
   "outputs": [
    {
     "data": {
      "text/html": [
       "<div>\n",
       "<style scoped>\n",
       "    .dataframe tbody tr th:only-of-type {\n",
       "        vertical-align: middle;\n",
       "    }\n",
       "\n",
       "    .dataframe tbody tr th {\n",
       "        vertical-align: top;\n",
       "    }\n",
       "\n",
       "    .dataframe thead th {\n",
       "        text-align: right;\n",
       "    }\n",
       "</style>\n",
       "<table border=\"1\" class=\"dataframe\">\n",
       "  <thead>\n",
       "    <tr style=\"text-align: right;\">\n",
       "      <th></th>\n",
       "      <th>fixed acidity</th>\n",
       "      <th>volatile acidity</th>\n",
       "      <th>citric acid</th>\n",
       "      <th>residual sugar</th>\n",
       "      <th>chlorides</th>\n",
       "      <th>free sulfur dioxide</th>\n",
       "      <th>total sulfur dioxide</th>\n",
       "      <th>density</th>\n",
       "      <th>pH</th>\n",
       "      <th>sulphates</th>\n",
       "      <th>alcohol</th>\n",
       "      <th>quality</th>\n",
       "    </tr>\n",
       "  </thead>\n",
       "  <tbody>\n",
       "    <tr>\n",
       "      <td>459</td>\n",
       "      <td>11.6</td>\n",
       "      <td>0.58</td>\n",
       "      <td>0.66</td>\n",
       "      <td>2.2</td>\n",
       "      <td>0.074</td>\n",
       "      <td>10.0</td>\n",
       "      <td>47.0</td>\n",
       "      <td>1.0008</td>\n",
       "      <td>3.25</td>\n",
       "      <td>0.57</td>\n",
       "      <td>9.0</td>\n",
       "      <td>3</td>\n",
       "    </tr>\n",
       "    <tr>\n",
       "      <td>517</td>\n",
       "      <td>10.4</td>\n",
       "      <td>0.61</td>\n",
       "      <td>0.49</td>\n",
       "      <td>2.1</td>\n",
       "      <td>0.200</td>\n",
       "      <td>5.0</td>\n",
       "      <td>16.0</td>\n",
       "      <td>0.9994</td>\n",
       "      <td>3.16</td>\n",
       "      <td>0.63</td>\n",
       "      <td>8.4</td>\n",
       "      <td>3</td>\n",
       "    </tr>\n",
       "  </tbody>\n",
       "</table>\n",
       "</div>"
      ],
      "text/plain": [
       "     fixed acidity  volatile acidity  citric acid  residual sugar  chlorides  \\\n",
       "459           11.6              0.58         0.66             2.2      0.074   \n",
       "517           10.4              0.61         0.49             2.1      0.200   \n",
       "\n",
       "     free sulfur dioxide  total sulfur dioxide  density    pH  sulphates  \\\n",
       "459                 10.0                  47.0   1.0008  3.25       0.57   \n",
       "517                  5.0                  16.0   0.9994  3.16       0.63   \n",
       "\n",
       "     alcohol  quality  \n",
       "459      9.0        3  \n",
       "517      8.4        3  "
      ]
     },
<<<<<<< HEAD
     "execution_count": 59,
=======
     "execution_count": 61,
>>>>>>> 23795514b3f170e99a215b6fe6b340e84cd142a9
     "metadata": {},
     "output_type": "execute_result"
    }
   ],
   "source": [
    "# You can also combine more than one condition with the & operator like this:\n",
    "bad_wine = wine_df['quality'] == 3\n",
    "acidic_wine = wine_df['pH'] < 3.3\n",
    "\n",
    "wine_df[bad_wine & acidic_wine]"
   ]
  },
  {
   "cell_type": "code",
<<<<<<< HEAD
   "execution_count": 60,
=======
   "execution_count": 62,
>>>>>>> 23795514b3f170e99a215b6fe6b340e84cd142a9
   "metadata": {
    "slideshow": {
     "slide_type": "slide"
    }
   },
   "outputs": [
    {
     "data": {
      "text/plain": [
       "0    1\n",
       "1    2\n",
       "2    3\n",
       "dtype: int64"
      ]
     },
<<<<<<< HEAD
     "execution_count": 60,
=======
     "execution_count": 62,
>>>>>>> 23795514b3f170e99a215b6fe6b340e84cd142a9
     "metadata": {},
     "output_type": "execute_result"
    }
   ],
   "source": [
    "# pandas columns are numpy arrays internally\n",
    "import pandas as pd\n",
    "\n",
    "pd.Series([1,2,3])"
   ]
  },
  {
   "cell_type": "code",
<<<<<<< HEAD
   "execution_count": 61,
=======
   "execution_count": 63,
>>>>>>> 23795514b3f170e99a215b6fe6b340e84cd142a9
   "metadata": {
    "slideshow": {
     "slide_type": "fragment"
    }
   },
   "outputs": [
    {
     "data": {
      "text/plain": [
       "array([1, 2, 3])"
      ]
     },
<<<<<<< HEAD
     "execution_count": 61,
=======
     "execution_count": 63,
>>>>>>> 23795514b3f170e99a215b6fe6b340e84cd142a9
     "metadata": {},
     "output_type": "execute_result"
    }
   ],
   "source": [
    "pd.Series([1,2,3]).values"
   ]
  },
  {
   "cell_type": "code",
<<<<<<< HEAD
   "execution_count": 62,
=======
   "execution_count": 64,
>>>>>>> 23795514b3f170e99a215b6fe6b340e84cd142a9
   "metadata": {
    "slideshow": {
     "slide_type": "fragment"
    }
   },
   "outputs": [
    {
     "data": {
      "text/plain": [
       "3.3111131957473416"
      ]
     },
<<<<<<< HEAD
     "execution_count": 62,
=======
     "execution_count": 64,
>>>>>>> 23795514b3f170e99a215b6fe6b340e84cd142a9
     "metadata": {},
     "output_type": "execute_result"
    }
   ],
   "source": [
    "np.mean(wine_df['pH'].values)"
   ]
  },
  {
   "cell_type": "code",
<<<<<<< HEAD
   "execution_count": 63,
=======
   "execution_count": 65,
>>>>>>> 23795514b3f170e99a215b6fe6b340e84cd142a9
   "metadata": {
    "slideshow": {
     "slide_type": "slide"
    }
   },
   "outputs": [
    {
     "name": "stdout",
     "output_type": "stream",
     "text": [
<<<<<<< HEAD
      "<pandas.core.groupby.generic.DataFrameGroupBy object at 0x7f9954fa2950>\n"
=======
      "<pandas.core.groupby.generic.DataFrameGroupBy object at 0x7f2e9badfb90>\n"
>>>>>>> 23795514b3f170e99a215b6fe6b340e84cd142a9
     ]
    }
   ],
   "source": [
    "# group by \n",
    "print(wine_df.groupby('quality'))"
   ]
  },
  {
   "cell_type": "code",
<<<<<<< HEAD
   "execution_count": 64,
=======
   "execution_count": 66,
>>>>>>> 23795514b3f170e99a215b6fe6b340e84cd142a9
   "metadata": {
    "slideshow": {
     "slide_type": "fragment"
    }
   },
   "outputs": [
    {
     "data": {
      "text/plain": [
       "quality\n",
       "3     9.955000\n",
       "4    10.265094\n",
       "5     9.899706\n",
       "6    10.629519\n",
       "7    11.465913\n",
       "8    12.094444\n",
       "Name: alcohol, dtype: float64"
      ]
     },
<<<<<<< HEAD
     "execution_count": 64,
=======
     "execution_count": 66,
>>>>>>> 23795514b3f170e99a215b6fe6b340e84cd142a9
     "metadata": {},
     "output_type": "execute_result"
    }
   ],
   "source": [
    "wine_df.groupby('quality')['alcohol'].mean()"
   ]
  },
  {
   "cell_type": "code",
<<<<<<< HEAD
   "execution_count": 65,
=======
   "execution_count": 67,
>>>>>>> 23795514b3f170e99a215b6fe6b340e84cd142a9
   "metadata": {
    "slideshow": {
     "slide_type": "slide"
    }
   },
   "outputs": [
    {
     "data": {
      "text/html": [
       "<div>\n",
       "<style scoped>\n",
       "    .dataframe tbody tr th:only-of-type {\n",
       "        vertical-align: middle;\n",
       "    }\n",
       "\n",
       "    .dataframe tbody tr th {\n",
       "        vertical-align: top;\n",
       "    }\n",
       "\n",
       "    .dataframe thead th {\n",
       "        text-align: right;\n",
       "    }\n",
       "</style>\n",
       "<table border=\"1\" class=\"dataframe\">\n",
       "  <thead>\n",
       "    <tr style=\"text-align: right;\">\n",
       "      <th></th>\n",
       "      <th>fixed acidity</th>\n",
       "      <th>volatile acidity</th>\n",
       "      <th>citric acid</th>\n",
       "      <th>residual sugar</th>\n",
       "      <th>chlorides</th>\n",
       "      <th>free sulfur dioxide</th>\n",
       "      <th>total sulfur dioxide</th>\n",
       "      <th>density</th>\n",
       "      <th>pH</th>\n",
       "      <th>sulphates</th>\n",
       "      <th>alcohol</th>\n",
       "      <th>quality</th>\n",
       "    </tr>\n",
       "  </thead>\n",
       "  <tbody>\n",
       "    <tr>\n",
       "      <td>652</td>\n",
       "      <td>15.9</td>\n",
       "      <td>0.36</td>\n",
       "      <td>0.65</td>\n",
       "      <td>7.5</td>\n",
       "      <td>0.096</td>\n",
       "      <td>22.0</td>\n",
       "      <td>71.0</td>\n",
       "      <td>0.99760</td>\n",
       "      <td>2.98</td>\n",
       "      <td>0.84</td>\n",
       "      <td>14.9</td>\n",
       "      <td>5</td>\n",
       "    </tr>\n",
       "    <tr>\n",
       "      <td>588</td>\n",
       "      <td>5.0</td>\n",
       "      <td>0.42</td>\n",
       "      <td>0.24</td>\n",
       "      <td>2.0</td>\n",
       "      <td>0.060</td>\n",
       "      <td>19.0</td>\n",
       "      <td>50.0</td>\n",
       "      <td>0.99170</td>\n",
       "      <td>3.72</td>\n",
       "      <td>0.74</td>\n",
       "      <td>14.0</td>\n",
       "      <td>8</td>\n",
       "    </tr>\n",
       "    <tr>\n",
       "      <td>142</td>\n",
       "      <td>5.2</td>\n",
       "      <td>0.34</td>\n",
       "      <td>0.00</td>\n",
       "      <td>1.8</td>\n",
       "      <td>0.050</td>\n",
       "      <td>27.0</td>\n",
       "      <td>63.0</td>\n",
       "      <td>0.99160</td>\n",
       "      <td>3.68</td>\n",
       "      <td>0.79</td>\n",
       "      <td>14.0</td>\n",
       "      <td>6</td>\n",
       "    </tr>\n",
       "    <tr>\n",
       "      <td>144</td>\n",
       "      <td>5.2</td>\n",
       "      <td>0.34</td>\n",
       "      <td>0.00</td>\n",
       "      <td>1.8</td>\n",
       "      <td>0.050</td>\n",
       "      <td>27.0</td>\n",
       "      <td>63.0</td>\n",
       "      <td>0.99160</td>\n",
       "      <td>3.68</td>\n",
       "      <td>0.79</td>\n",
       "      <td>14.0</td>\n",
       "      <td>6</td>\n",
       "    </tr>\n",
       "    <tr>\n",
       "      <td>1270</td>\n",
       "      <td>5.0</td>\n",
       "      <td>0.38</td>\n",
       "      <td>0.01</td>\n",
       "      <td>1.6</td>\n",
       "      <td>0.048</td>\n",
       "      <td>26.0</td>\n",
       "      <td>60.0</td>\n",
       "      <td>0.99084</td>\n",
       "      <td>3.70</td>\n",
       "      <td>0.75</td>\n",
       "      <td>14.0</td>\n",
       "      <td>6</td>\n",
       "    </tr>\n",
       "  </tbody>\n",
       "</table>\n",
       "</div>"
      ],
      "text/plain": [
       "      fixed acidity  volatile acidity  citric acid  residual sugar  chlorides  \\\n",
       "652            15.9              0.36         0.65             7.5      0.096   \n",
       "588             5.0              0.42         0.24             2.0      0.060   \n",
       "142             5.2              0.34         0.00             1.8      0.050   \n",
       "144             5.2              0.34         0.00             1.8      0.050   \n",
       "1270            5.0              0.38         0.01             1.6      0.048   \n",
       "\n",
       "      free sulfur dioxide  total sulfur dioxide  density    pH  sulphates  \\\n",
       "652                  22.0                  71.0  0.99760  2.98       0.84   \n",
       "588                  19.0                  50.0  0.99170  3.72       0.74   \n",
       "142                  27.0                  63.0  0.99160  3.68       0.79   \n",
       "144                  27.0                  63.0  0.99160  3.68       0.79   \n",
       "1270                 26.0                  60.0  0.99084  3.70       0.75   \n",
       "\n",
       "      alcohol  quality  \n",
       "652      14.9        5  \n",
       "588      14.0        8  \n",
       "142      14.0        6  \n",
       "144      14.0        6  \n",
       "1270     14.0        6  "
      ]
     },
<<<<<<< HEAD
     "execution_count": 65,
=======
     "execution_count": 67,
>>>>>>> 23795514b3f170e99a215b6fe6b340e84cd142a9
     "metadata": {},
     "output_type": "execute_result"
    }
   ],
   "source": [
    "wine_sorted = wine_df.sort_values(['alcohol'], ascending=False)\n",
    "wine_sorted.head()"
   ]
  },
  {
   "cell_type": "code",
<<<<<<< HEAD
   "execution_count": 66,
=======
   "execution_count": 68,
>>>>>>> 23795514b3f170e99a215b6fe6b340e84cd142a9
   "metadata": {
    "slideshow": {
     "slide_type": "slide"
    }
   },
   "outputs": [
    {
     "data": {
      "text/html": [
       "<div>\n",
       "<style scoped>\n",
       "    .dataframe tbody tr th:only-of-type {\n",
       "        vertical-align: middle;\n",
       "    }\n",
       "\n",
       "    .dataframe tbody tr th {\n",
       "        vertical-align: top;\n",
       "    }\n",
       "\n",
       "    .dataframe thead th {\n",
       "        text-align: right;\n",
       "    }\n",
       "</style>\n",
       "<table border=\"1\" class=\"dataframe\">\n",
       "  <thead>\n",
       "    <tr style=\"text-align: right;\">\n",
       "      <th></th>\n",
       "      <th>fixed acidity</th>\n",
       "      <th>volatile acidity</th>\n",
       "      <th>citric acid</th>\n",
       "      <th>residual sugar</th>\n",
       "      <th>chlorides</th>\n",
       "      <th>free sulfur dioxide</th>\n",
       "      <th>total sulfur dioxide</th>\n",
       "      <th>density</th>\n",
       "      <th>pH</th>\n",
       "      <th>sulphates</th>\n",
       "      <th>alcohol</th>\n",
       "      <th>quality</th>\n",
       "    </tr>\n",
       "  </thead>\n",
       "  <tbody>\n",
       "    <tr>\n",
       "      <td>371</td>\n",
       "      <td>7.9</td>\n",
       "      <td>0.24</td>\n",
       "      <td>0.40</td>\n",
       "      <td>1.6</td>\n",
       "      <td>0.056</td>\n",
       "      <td>11.0</td>\n",
       "      <td>25.0</td>\n",
       "      <td>0.99670</td>\n",
       "      <td>3.32</td>\n",
       "      <td>0.87</td>\n",
       "      <td>8.7</td>\n",
       "      <td>6</td>\n",
       "    </tr>\n",
       "    <tr>\n",
       "      <td>528</td>\n",
       "      <td>8.2</td>\n",
       "      <td>0.42</td>\n",
       "      <td>0.49</td>\n",
       "      <td>2.6</td>\n",
       "      <td>0.084</td>\n",
       "      <td>32.0</td>\n",
       "      <td>55.0</td>\n",
       "      <td>0.99880</td>\n",
       "      <td>3.34</td>\n",
       "      <td>0.75</td>\n",
       "      <td>8.7</td>\n",
       "      <td>6</td>\n",
       "    </tr>\n",
       "    <tr>\n",
       "      <td>1436</td>\n",
       "      <td>10.0</td>\n",
       "      <td>0.38</td>\n",
       "      <td>0.38</td>\n",
       "      <td>1.6</td>\n",
       "      <td>0.169</td>\n",
       "      <td>27.0</td>\n",
       "      <td>90.0</td>\n",
       "      <td>0.99914</td>\n",
       "      <td>3.15</td>\n",
       "      <td>0.65</td>\n",
       "      <td>8.5</td>\n",
       "      <td>5</td>\n",
       "    </tr>\n",
       "    <tr>\n",
       "      <td>544</td>\n",
       "      <td>14.3</td>\n",
       "      <td>0.31</td>\n",
       "      <td>0.74</td>\n",
       "      <td>1.8</td>\n",
       "      <td>0.075</td>\n",
       "      <td>6.0</td>\n",
       "      <td>15.0</td>\n",
       "      <td>1.00080</td>\n",
       "      <td>2.86</td>\n",
       "      <td>0.79</td>\n",
       "      <td>8.4</td>\n",
       "      <td>6</td>\n",
       "    </tr>\n",
       "    <tr>\n",
       "      <td>517</td>\n",
       "      <td>10.4</td>\n",
       "      <td>0.61</td>\n",
       "      <td>0.49</td>\n",
       "      <td>2.1</td>\n",
       "      <td>0.200</td>\n",
       "      <td>5.0</td>\n",
       "      <td>16.0</td>\n",
       "      <td>0.99940</td>\n",
       "      <td>3.16</td>\n",
       "      <td>0.63</td>\n",
       "      <td>8.4</td>\n",
       "      <td>3</td>\n",
       "    </tr>\n",
       "  </tbody>\n",
       "</table>\n",
       "</div>"
      ],
      "text/plain": [
       "      fixed acidity  volatile acidity  citric acid  residual sugar  chlorides  \\\n",
       "371             7.9              0.24         0.40             1.6      0.056   \n",
       "528             8.2              0.42         0.49             2.6      0.084   \n",
       "1436           10.0              0.38         0.38             1.6      0.169   \n",
       "544            14.3              0.31         0.74             1.8      0.075   \n",
       "517            10.4              0.61         0.49             2.1      0.200   \n",
       "\n",
       "      free sulfur dioxide  total sulfur dioxide  density    pH  sulphates  \\\n",
       "371                  11.0                  25.0  0.99670  3.32       0.87   \n",
       "528                  32.0                  55.0  0.99880  3.34       0.75   \n",
       "1436                 27.0                  90.0  0.99914  3.15       0.65   \n",
       "544                   6.0                  15.0  1.00080  2.86       0.79   \n",
       "517                   5.0                  16.0  0.99940  3.16       0.63   \n",
       "\n",
       "      alcohol  quality  \n",
       "371       8.7        6  \n",
       "528       8.7        6  \n",
       "1436      8.5        5  \n",
       "544       8.4        6  \n",
       "517       8.4        3  "
      ]
     },
<<<<<<< HEAD
     "execution_count": 66,
=======
     "execution_count": 68,
>>>>>>> 23795514b3f170e99a215b6fe6b340e84cd142a9
     "metadata": {},
     "output_type": "execute_result"
    }
   ],
   "source": [
    "wine_sorted.tail()"
   ]
  },
  {
   "cell_type": "code",
<<<<<<< HEAD
   "execution_count": 67,
=======
   "execution_count": 69,
>>>>>>> 23795514b3f170e99a215b6fe6b340e84cd142a9
   "metadata": {
    "slideshow": {
     "slide_type": "slide"
    }
   },
   "outputs": [
    {
     "data": {
      "text/html": [
       "<div>\n",
       "<style scoped>\n",
       "    .dataframe tbody tr th:only-of-type {\n",
       "        vertical-align: middle;\n",
       "    }\n",
       "\n",
       "    .dataframe tbody tr th {\n",
       "        vertical-align: top;\n",
       "    }\n",
       "\n",
       "    .dataframe thead th {\n",
       "        text-align: right;\n",
       "    }\n",
       "</style>\n",
       "<table border=\"1\" class=\"dataframe\">\n",
       "  <thead>\n",
       "    <tr style=\"text-align: right;\">\n",
       "      <th></th>\n",
       "      <th>fixed acidity</th>\n",
       "      <th>volatile acidity</th>\n",
       "      <th>citric acid</th>\n",
       "      <th>residual sugar</th>\n",
       "      <th>chlorides</th>\n",
       "      <th>free sulfur dioxide</th>\n",
       "      <th>total sulfur dioxide</th>\n",
       "      <th>density</th>\n",
       "      <th>pH</th>\n",
       "      <th>sulphates</th>\n",
       "      <th>alcohol</th>\n",
       "      <th>quality</th>\n",
       "    </tr>\n",
       "  </thead>\n",
       "  <tbody>\n",
       "    <tr>\n",
       "      <td>544</td>\n",
       "      <td>14.3</td>\n",
       "      <td>0.31</td>\n",
       "      <td>0.74</td>\n",
       "      <td>1.8</td>\n",
       "      <td>0.075</td>\n",
       "      <td>6.0</td>\n",
       "      <td>15.0</td>\n",
       "      <td>1.0008</td>\n",
       "      <td>2.86</td>\n",
       "      <td>0.79</td>\n",
       "      <td>8.4</td>\n",
       "      <td>6</td>\n",
       "    </tr>\n",
       "    <tr>\n",
       "      <td>545</td>\n",
       "      <td>9.1</td>\n",
       "      <td>0.47</td>\n",
       "      <td>0.49</td>\n",
       "      <td>2.6</td>\n",
       "      <td>0.094</td>\n",
       "      <td>38.0</td>\n",
       "      <td>106.0</td>\n",
       "      <td>0.9982</td>\n",
       "      <td>3.08</td>\n",
       "      <td>0.59</td>\n",
       "      <td>9.1</td>\n",
       "      <td>5</td>\n",
       "    </tr>\n",
       "  </tbody>\n",
       "</table>\n",
       "</div>"
      ],
      "text/plain": [
       "     fixed acidity  volatile acidity  citric acid  residual sugar  chlorides  \\\n",
       "544           14.3              0.31         0.74             1.8      0.075   \n",
       "545            9.1              0.47         0.49             2.6      0.094   \n",
       "\n",
       "     free sulfur dioxide  total sulfur dioxide  density    pH  sulphates  \\\n",
       "544                  6.0                  15.0   1.0008  2.86       0.79   \n",
       "545                 38.0                 106.0   0.9982  3.08       0.59   \n",
       "\n",
       "     alcohol  quality  \n",
       "544      8.4        6  \n",
       "545      9.1        5  "
      ]
     },
<<<<<<< HEAD
     "execution_count": 67,
=======
     "execution_count": 69,
>>>>>>> 23795514b3f170e99a215b6fe6b340e84cd142a9
     "metadata": {},
     "output_type": "execute_result"
    }
   ],
   "source": [
    "# loc gets rows (or columns) with particular labels from the index.\n",
    "wine_df.loc[544:545]"
   ]
  },
  {
   "cell_type": "code",
<<<<<<< HEAD
   "execution_count": 68,
=======
   "execution_count": 70,
>>>>>>> 23795514b3f170e99a215b6fe6b340e84cd142a9
   "metadata": {
    "slideshow": {
     "slide_type": "slide"
    }
   },
   "outputs": [
    {
     "data": {
      "text/html": [
       "<div>\n",
       "<style scoped>\n",
       "    .dataframe tbody tr th:only-of-type {\n",
       "        vertical-align: middle;\n",
       "    }\n",
       "\n",
       "    .dataframe tbody tr th {\n",
       "        vertical-align: top;\n",
       "    }\n",
       "\n",
       "    .dataframe thead th {\n",
       "        text-align: right;\n",
       "    }\n",
       "</style>\n",
       "<table border=\"1\" class=\"dataframe\">\n",
       "  <thead>\n",
       "    <tr style=\"text-align: right;\">\n",
       "      <th></th>\n",
       "      <th>fixed acidity</th>\n",
       "      <th>volatile acidity</th>\n",
       "      <th>citric acid</th>\n",
       "      <th>residual sugar</th>\n",
       "      <th>chlorides</th>\n",
       "      <th>free sulfur dioxide</th>\n",
       "      <th>total sulfur dioxide</th>\n",
       "      <th>density</th>\n",
       "      <th>pH</th>\n",
       "      <th>sulphates</th>\n",
       "      <th>alcohol</th>\n",
       "      <th>quality</th>\n",
       "    </tr>\n",
       "  </thead>\n",
       "  <tbody>\n",
       "    <tr>\n",
       "      <td>544</td>\n",
       "      <td>14.3</td>\n",
       "      <td>0.31</td>\n",
       "      <td>0.74</td>\n",
       "      <td>1.8</td>\n",
       "      <td>0.075</td>\n",
       "      <td>6.0</td>\n",
       "      <td>15.0</td>\n",
       "      <td>1.0008</td>\n",
       "      <td>2.86</td>\n",
       "      <td>0.79</td>\n",
       "      <td>8.4</td>\n",
       "      <td>6</td>\n",
       "    </tr>\n",
       "  </tbody>\n",
       "</table>\n",
       "</div>"
      ],
      "text/plain": [
       "     fixed acidity  volatile acidity  citric acid  residual sugar  chlorides  \\\n",
       "544           14.3              0.31         0.74             1.8      0.075   \n",
       "\n",
       "     free sulfur dioxide  total sulfur dioxide  density    pH  sulphates  \\\n",
       "544                  6.0                  15.0   1.0008  2.86       0.79   \n",
       "\n",
       "     alcohol  quality  \n",
       "544      8.4        6  "
      ]
     },
<<<<<<< HEAD
     "execution_count": 68,
=======
     "execution_count": 70,
>>>>>>> 23795514b3f170e99a215b6fe6b340e84cd142a9
     "metadata": {},
     "output_type": "execute_result"
    }
   ],
   "source": [
    "# iloc gets rows (or columns) at particular positions in the index (so it only takes integers).\n",
    "wine_df.iloc[544:545]"
   ]
  },
  {
   "cell_type": "code",
<<<<<<< HEAD
   "execution_count": 69,
=======
   "execution_count": 71,
>>>>>>> 23795514b3f170e99a215b6fe6b340e84cd142a9
   "metadata": {
    "slideshow": {
     "slide_type": "slide"
    }
   },
   "outputs": [
    {
     "data": {
      "text/plain": [
       "0    3.51\n",
       "1    3.20\n",
       "2    3.26\n",
       "3    3.16\n",
       "Name: pH, dtype: float64"
      ]
     },
<<<<<<< HEAD
     "execution_count": 69,
=======
     "execution_count": 71,
>>>>>>> 23795514b3f170e99a215b6fe6b340e84cd142a9
     "metadata": {},
     "output_type": "execute_result"
    }
   ],
   "source": [
    "wine_df.loc[:3, 'pH']"
   ]
  },
  {
   "cell_type": "code",
<<<<<<< HEAD
   "execution_count": 70,
=======
   "execution_count": 72,
>>>>>>> 23795514b3f170e99a215b6fe6b340e84cd142a9
   "metadata": {
    "slideshow": {
     "slide_type": "slide"
    }
   },
   "outputs": [
    {
     "data": {
      "text/plain": [
       "0    3.51\n",
       "1    3.20\n",
       "2    3.26\n",
       "Name: pH, dtype: float64"
      ]
     },
<<<<<<< HEAD
     "execution_count": 70,
=======
     "execution_count": 72,
>>>>>>> 23795514b3f170e99a215b6fe6b340e84cd142a9
     "metadata": {},
     "output_type": "execute_result"
    }
   ],
   "source": [
    "wine_df.iloc[:3, 8]"
   ]
  },
  {
   "cell_type": "code",
<<<<<<< HEAD
   "execution_count": 71,
=======
   "execution_count": 73,
>>>>>>> 23795514b3f170e99a215b6fe6b340e84cd142a9
   "metadata": {
    "slideshow": {
     "slide_type": "slide"
    }
   },
   "outputs": [
    {
     "data": {
      "text/plain": [
       "3.51"
      ]
     },
<<<<<<< HEAD
     "execution_count": 71,
=======
     "execution_count": 73,
>>>>>>> 23795514b3f170e99a215b6fe6b340e84cd142a9
     "metadata": {},
     "output_type": "execute_result"
    }
   ],
   "source": [
    "wine_df.at[0, 'pH'] # use .at to access one cell by index and column"
   ]
  },
  {
   "cell_type": "code",
<<<<<<< HEAD
   "execution_count": 72,
=======
   "execution_count": 74,
>>>>>>> 23795514b3f170e99a215b6fe6b340e84cd142a9
   "metadata": {
    "slideshow": {
     "slide_type": "fragment"
    }
   },
   "outputs": [
    {
     "data": {
      "text/plain": [
       "3.51"
      ]
     },
<<<<<<< HEAD
     "execution_count": 72,
=======
     "execution_count": 74,
>>>>>>> 23795514b3f170e99a215b6fe6b340e84cd142a9
     "metadata": {},
     "output_type": "execute_result"
    }
   ],
   "source": [
    "wine_df.iat[0, 8]"
   ]
  },
  {
   "cell_type": "code",
<<<<<<< HEAD
   "execution_count": 73,
=======
   "execution_count": 75,
>>>>>>> 23795514b3f170e99a215b6fe6b340e84cd142a9
   "metadata": {
    "slideshow": {
     "slide_type": "fragment"
    }
   },
   "outputs": [
    {
     "data": {
      "text/plain": [
       "3.5"
      ]
     },
<<<<<<< HEAD
     "execution_count": 73,
=======
     "execution_count": 75,
>>>>>>> 23795514b3f170e99a215b6fe6b340e84cd142a9
     "metadata": {},
     "output_type": "execute_result"
    }
   ],
   "source": [
    "wine_df.at[0, 'pH'] = 3.50\n",
    "wine_df.at[0, 'pH']"
   ]
  },
  {
   "cell_type": "code",
<<<<<<< HEAD
   "execution_count": 74,
=======
   "execution_count": 76,
>>>>>>> 23795514b3f170e99a215b6fe6b340e84cd142a9
   "metadata": {
    "slideshow": {
     "slide_type": "slide"
    }
   },
   "outputs": [
    {
     "data": {
      "text/html": [
       "<div>\n",
       "<style scoped>\n",
       "    .dataframe tbody tr th:only-of-type {\n",
       "        vertical-align: middle;\n",
       "    }\n",
       "\n",
       "    .dataframe tbody tr th {\n",
       "        vertical-align: top;\n",
       "    }\n",
       "\n",
       "    .dataframe thead th {\n",
       "        text-align: right;\n",
       "    }\n",
       "</style>\n",
       "<table border=\"1\" class=\"dataframe\">\n",
       "  <thead>\n",
       "    <tr style=\"text-align: right;\">\n",
       "      <th></th>\n",
       "      <th>fixed acidity</th>\n",
       "      <th>volatile acidity</th>\n",
       "      <th>citric acid</th>\n",
       "      <th>residual sugar</th>\n",
       "      <th>chlorides</th>\n",
       "      <th>free sulfur dioxide</th>\n",
       "      <th>total sulfur dioxide</th>\n",
       "      <th>density</th>\n",
       "      <th>pH</th>\n",
       "      <th>sulphates</th>\n",
       "      <th>alcohol</th>\n",
       "      <th>quality</th>\n",
       "      <th>body</th>\n",
       "    </tr>\n",
       "  </thead>\n",
       "  <tbody>\n",
       "    <tr>\n",
       "      <td>0</td>\n",
       "      <td>7.4</td>\n",
       "      <td>0.70</td>\n",
       "      <td>0.00</td>\n",
       "      <td>1.9</td>\n",
       "      <td>0.076</td>\n",
       "      <td>11.0</td>\n",
       "      <td>34.0</td>\n",
       "      <td>0.9978</td>\n",
       "      <td>3.50</td>\n",
       "      <td>0.56</td>\n",
       "      <td>9.4</td>\n",
       "      <td>5</td>\n",
       "      <td>full</td>\n",
       "    </tr>\n",
       "    <tr>\n",
       "      <td>1</td>\n",
       "      <td>7.8</td>\n",
       "      <td>0.88</td>\n",
       "      <td>0.00</td>\n",
       "      <td>2.6</td>\n",
       "      <td>0.098</td>\n",
       "      <td>25.0</td>\n",
       "      <td>67.0</td>\n",
       "      <td>0.9968</td>\n",
       "      <td>3.20</td>\n",
       "      <td>0.68</td>\n",
       "      <td>9.8</td>\n",
       "      <td>5</td>\n",
       "      <td>light</td>\n",
       "    </tr>\n",
       "    <tr>\n",
       "      <td>2</td>\n",
       "      <td>7.8</td>\n",
       "      <td>0.76</td>\n",
       "      <td>0.04</td>\n",
       "      <td>2.3</td>\n",
       "      <td>0.092</td>\n",
       "      <td>15.0</td>\n",
       "      <td>54.0</td>\n",
       "      <td>0.9970</td>\n",
       "      <td>3.26</td>\n",
       "      <td>0.65</td>\n",
       "      <td>9.8</td>\n",
       "      <td>5</td>\n",
       "      <td>NaN</td>\n",
       "    </tr>\n",
       "    <tr>\n",
       "      <td>3</td>\n",
       "      <td>11.2</td>\n",
       "      <td>0.28</td>\n",
       "      <td>0.56</td>\n",
       "      <td>1.9</td>\n",
       "      <td>0.075</td>\n",
       "      <td>17.0</td>\n",
       "      <td>60.0</td>\n",
       "      <td>0.9980</td>\n",
       "      <td>3.16</td>\n",
       "      <td>0.58</td>\n",
       "      <td>9.8</td>\n",
       "      <td>6</td>\n",
       "      <td>NaN</td>\n",
       "    </tr>\n",
       "    <tr>\n",
       "      <td>4</td>\n",
       "      <td>7.4</td>\n",
       "      <td>0.70</td>\n",
       "      <td>0.00</td>\n",
       "      <td>1.9</td>\n",
       "      <td>0.076</td>\n",
       "      <td>11.0</td>\n",
       "      <td>34.0</td>\n",
       "      <td>0.9978</td>\n",
       "      <td>3.51</td>\n",
       "      <td>0.56</td>\n",
       "      <td>9.4</td>\n",
       "      <td>5</td>\n",
       "      <td>NaN</td>\n",
       "    </tr>\n",
       "  </tbody>\n",
       "</table>\n",
       "</div>"
      ],
      "text/plain": [
       "   fixed acidity  volatile acidity  citric acid  residual sugar  chlorides  \\\n",
       "0            7.4              0.70         0.00             1.9      0.076   \n",
       "1            7.8              0.88         0.00             2.6      0.098   \n",
       "2            7.8              0.76         0.04             2.3      0.092   \n",
       "3           11.2              0.28         0.56             1.9      0.075   \n",
       "4            7.4              0.70         0.00             1.9      0.076   \n",
       "\n",
       "   free sulfur dioxide  total sulfur dioxide  density    pH  sulphates  \\\n",
       "0                 11.0                  34.0   0.9978  3.50       0.56   \n",
       "1                 25.0                  67.0   0.9968  3.20       0.68   \n",
       "2                 15.0                  54.0   0.9970  3.26       0.65   \n",
       "3                 17.0                  60.0   0.9980  3.16       0.58   \n",
       "4                 11.0                  34.0   0.9978  3.51       0.56   \n",
       "\n",
       "   alcohol  quality   body  \n",
       "0      9.4        5   full  \n",
       "1      9.8        5  light  \n",
       "2      9.8        5    NaN  \n",
       "3      9.8        6    NaN  \n",
       "4      9.4        5    NaN  "
      ]
     },
<<<<<<< HEAD
     "execution_count": 74,
=======
     "execution_count": 76,
>>>>>>> 23795514b3f170e99a215b6fe6b340e84cd142a9
     "metadata": {},
     "output_type": "execute_result"
    }
   ],
   "source": [
    "wine_df.at[0, 'body'] = 'full'\n",
    "wine_df.at[1, 'body'] = 'light'\n",
    "wine_df.head()"
   ]
  },
  {
   "cell_type": "code",
<<<<<<< HEAD
   "execution_count": 75,
=======
   "execution_count": 77,
>>>>>>> 23795514b3f170e99a215b6fe6b340e84cd142a9
   "metadata": {
    "slideshow": {
     "slide_type": "slide"
    }
   },
   "outputs": [
    {
     "name": "stdout",
     "output_type": "stream",
     "text": [
      "0    False\n",
      "1    False\n",
      "2     True\n",
      "3     True\n",
      "4     True\n",
      "Name: body, dtype: bool\n"
     ]
    }
   ],
   "source": [
    "print(wine_df['body'].isna().head())\n",
    "wine_df.loc[wine_df['body'].isna(), 'quality'] = 0\n",
    "# wine_df.head()"
   ]
  },
  {
   "cell_type": "code",
<<<<<<< HEAD
   "execution_count": 76,
=======
   "execution_count": 78,
>>>>>>> 23795514b3f170e99a215b6fe6b340e84cd142a9
   "metadata": {
    "slideshow": {
     "slide_type": "slide"
    }
   },
   "outputs": [
    {
     "data": {
      "text/html": [
       "<div>\n",
       "<style scoped>\n",
       "    .dataframe tbody tr th:only-of-type {\n",
       "        vertical-align: middle;\n",
       "    }\n",
       "\n",
       "    .dataframe tbody tr th {\n",
       "        vertical-align: top;\n",
       "    }\n",
       "\n",
       "    .dataframe thead th {\n",
       "        text-align: right;\n",
       "    }\n",
       "</style>\n",
       "<table border=\"1\" class=\"dataframe\">\n",
       "  <thead>\n",
       "    <tr style=\"text-align: right;\">\n",
       "      <th></th>\n",
       "      <th>0</th>\n",
       "      <th>1</th>\n",
       "      <th>2</th>\n",
       "      <th>3</th>\n",
       "      <th>4</th>\n",
       "      <th>5</th>\n",
       "      <th>6</th>\n",
       "      <th>7</th>\n",
       "      <th>8</th>\n",
       "      <th>9</th>\n",
       "      <th>...</th>\n",
       "      <th>1589</th>\n",
       "      <th>1590</th>\n",
       "      <th>1591</th>\n",
       "      <th>1592</th>\n",
       "      <th>1593</th>\n",
       "      <th>1594</th>\n",
       "      <th>1595</th>\n",
       "      <th>1596</th>\n",
       "      <th>1597</th>\n",
       "      <th>1598</th>\n",
       "    </tr>\n",
       "  </thead>\n",
       "  <tbody>\n",
       "    <tr>\n",
       "      <td>fixed acidity</td>\n",
       "      <td>7.4</td>\n",
       "      <td>7.8</td>\n",
       "      <td>7.8</td>\n",
       "      <td>11.2</td>\n",
       "      <td>7.4</td>\n",
       "      <td>7.4</td>\n",
       "      <td>7.9</td>\n",
       "      <td>7.3</td>\n",
       "      <td>7.8</td>\n",
       "      <td>7.5</td>\n",
       "      <td>...</td>\n",
       "      <td>6.6</td>\n",
       "      <td>6.3</td>\n",
       "      <td>5.4</td>\n",
       "      <td>6.3</td>\n",
       "      <td>6.8</td>\n",
       "      <td>6.2</td>\n",
       "      <td>5.9</td>\n",
       "      <td>6.3</td>\n",
       "      <td>5.9</td>\n",
       "      <td>6</td>\n",
       "    </tr>\n",
       "    <tr>\n",
       "      <td>volatile acidity</td>\n",
       "      <td>0.7</td>\n",
       "      <td>0.88</td>\n",
       "      <td>0.76</td>\n",
       "      <td>0.28</td>\n",
       "      <td>0.7</td>\n",
       "      <td>0.66</td>\n",
       "      <td>0.6</td>\n",
       "      <td>0.65</td>\n",
       "      <td>0.58</td>\n",
       "      <td>0.5</td>\n",
       "      <td>...</td>\n",
       "      <td>0.725</td>\n",
       "      <td>0.55</td>\n",
       "      <td>0.74</td>\n",
       "      <td>0.51</td>\n",
       "      <td>0.62</td>\n",
       "      <td>0.6</td>\n",
       "      <td>0.55</td>\n",
       "      <td>0.51</td>\n",
       "      <td>0.645</td>\n",
       "      <td>0.31</td>\n",
       "    </tr>\n",
       "    <tr>\n",
       "      <td>citric acid</td>\n",
       "      <td>0</td>\n",
       "      <td>0</td>\n",
       "      <td>0.04</td>\n",
       "      <td>0.56</td>\n",
       "      <td>0</td>\n",
       "      <td>0</td>\n",
       "      <td>0.06</td>\n",
       "      <td>0</td>\n",
       "      <td>0.02</td>\n",
       "      <td>0.36</td>\n",
       "      <td>...</td>\n",
       "      <td>0.2</td>\n",
       "      <td>0.15</td>\n",
       "      <td>0.09</td>\n",
       "      <td>0.13</td>\n",
       "      <td>0.08</td>\n",
       "      <td>0.08</td>\n",
       "      <td>0.1</td>\n",
       "      <td>0.13</td>\n",
       "      <td>0.12</td>\n",
       "      <td>0.47</td>\n",
       "    </tr>\n",
       "    <tr>\n",
       "      <td>residual sugar</td>\n",
       "      <td>1.9</td>\n",
       "      <td>2.6</td>\n",
       "      <td>2.3</td>\n",
       "      <td>1.9</td>\n",
       "      <td>1.9</td>\n",
       "      <td>1.8</td>\n",
       "      <td>1.6</td>\n",
       "      <td>1.2</td>\n",
       "      <td>2</td>\n",
       "      <td>6.1</td>\n",
       "      <td>...</td>\n",
       "      <td>7.8</td>\n",
       "      <td>1.8</td>\n",
       "      <td>1.7</td>\n",
       "      <td>2.3</td>\n",
       "      <td>1.9</td>\n",
       "      <td>2</td>\n",
       "      <td>2.2</td>\n",
       "      <td>2.3</td>\n",
       "      <td>2</td>\n",
       "      <td>3.6</td>\n",
       "    </tr>\n",
       "    <tr>\n",
       "      <td>chlorides</td>\n",
       "      <td>0.076</td>\n",
       "      <td>0.098</td>\n",
       "      <td>0.092</td>\n",
       "      <td>0.075</td>\n",
       "      <td>0.076</td>\n",
       "      <td>0.075</td>\n",
       "      <td>0.069</td>\n",
       "      <td>0.065</td>\n",
       "      <td>0.073</td>\n",
       "      <td>0.071</td>\n",
       "      <td>...</td>\n",
       "      <td>0.073</td>\n",
       "      <td>0.077</td>\n",
       "      <td>0.089</td>\n",
       "      <td>0.076</td>\n",
       "      <td>0.068</td>\n",
       "      <td>0.09</td>\n",
       "      <td>0.062</td>\n",
       "      <td>0.076</td>\n",
       "      <td>0.075</td>\n",
       "      <td>0.067</td>\n",
       "    </tr>\n",
       "    <tr>\n",
       "      <td>free sulfur dioxide</td>\n",
       "      <td>11</td>\n",
       "      <td>25</td>\n",
       "      <td>15</td>\n",
       "      <td>17</td>\n",
       "      <td>11</td>\n",
       "      <td>13</td>\n",
       "      <td>15</td>\n",
       "      <td>15</td>\n",
       "      <td>9</td>\n",
       "      <td>17</td>\n",
       "      <td>...</td>\n",
       "      <td>29</td>\n",
       "      <td>26</td>\n",
       "      <td>16</td>\n",
       "      <td>29</td>\n",
       "      <td>28</td>\n",
       "      <td>32</td>\n",
       "      <td>39</td>\n",
       "      <td>29</td>\n",
       "      <td>32</td>\n",
       "      <td>18</td>\n",
       "    </tr>\n",
       "    <tr>\n",
       "      <td>total sulfur dioxide</td>\n",
       "      <td>34</td>\n",
       "      <td>67</td>\n",
       "      <td>54</td>\n",
       "      <td>60</td>\n",
       "      <td>34</td>\n",
       "      <td>40</td>\n",
       "      <td>59</td>\n",
       "      <td>21</td>\n",
       "      <td>18</td>\n",
       "      <td>102</td>\n",
       "      <td>...</td>\n",
       "      <td>79</td>\n",
       "      <td>35</td>\n",
       "      <td>26</td>\n",
       "      <td>40</td>\n",
       "      <td>38</td>\n",
       "      <td>44</td>\n",
       "      <td>51</td>\n",
       "      <td>40</td>\n",
       "      <td>44</td>\n",
       "      <td>42</td>\n",
       "    </tr>\n",
       "    <tr>\n",
       "      <td>density</td>\n",
       "      <td>0.9978</td>\n",
       "      <td>0.9968</td>\n",
       "      <td>0.997</td>\n",
       "      <td>0.998</td>\n",
       "      <td>0.9978</td>\n",
       "      <td>0.9978</td>\n",
       "      <td>0.9964</td>\n",
       "      <td>0.9946</td>\n",
       "      <td>0.9968</td>\n",
       "      <td>0.9978</td>\n",
       "      <td>...</td>\n",
       "      <td>0.9977</td>\n",
       "      <td>0.99314</td>\n",
       "      <td>0.99402</td>\n",
       "      <td>0.99574</td>\n",
       "      <td>0.99651</td>\n",
       "      <td>0.9949</td>\n",
       "      <td>0.99512</td>\n",
       "      <td>0.99574</td>\n",
       "      <td>0.99547</td>\n",
       "      <td>0.99549</td>\n",
       "    </tr>\n",
       "    <tr>\n",
       "      <td>pH</td>\n",
       "      <td>3.5</td>\n",
       "      <td>3.2</td>\n",
       "      <td>3.26</td>\n",
       "      <td>3.16</td>\n",
       "      <td>3.51</td>\n",
       "      <td>3.51</td>\n",
       "      <td>3.3</td>\n",
       "      <td>3.39</td>\n",
       "      <td>3.36</td>\n",
       "      <td>3.35</td>\n",
       "      <td>...</td>\n",
       "      <td>3.29</td>\n",
       "      <td>3.32</td>\n",
       "      <td>3.67</td>\n",
       "      <td>3.42</td>\n",
       "      <td>3.42</td>\n",
       "      <td>3.45</td>\n",
       "      <td>3.52</td>\n",
       "      <td>3.42</td>\n",
       "      <td>3.57</td>\n",
       "      <td>3.39</td>\n",
       "    </tr>\n",
       "    <tr>\n",
       "      <td>sulphates</td>\n",
       "      <td>0.56</td>\n",
       "      <td>0.68</td>\n",
       "      <td>0.65</td>\n",
       "      <td>0.58</td>\n",
       "      <td>0.56</td>\n",
       "      <td>0.56</td>\n",
       "      <td>0.46</td>\n",
       "      <td>0.47</td>\n",
       "      <td>0.57</td>\n",
       "      <td>0.8</td>\n",
       "      <td>...</td>\n",
       "      <td>0.54</td>\n",
       "      <td>0.82</td>\n",
       "      <td>0.56</td>\n",
       "      <td>0.75</td>\n",
       "      <td>0.82</td>\n",
       "      <td>0.58</td>\n",
       "      <td>0.76</td>\n",
       "      <td>0.75</td>\n",
       "      <td>0.71</td>\n",
       "      <td>0.66</td>\n",
       "    </tr>\n",
       "    <tr>\n",
       "      <td>alcohol</td>\n",
       "      <td>9.4</td>\n",
       "      <td>9.8</td>\n",
       "      <td>9.8</td>\n",
       "      <td>9.8</td>\n",
       "      <td>9.4</td>\n",
       "      <td>9.4</td>\n",
       "      <td>9.4</td>\n",
       "      <td>10</td>\n",
       "      <td>9.5</td>\n",
       "      <td>10.5</td>\n",
       "      <td>...</td>\n",
       "      <td>9.2</td>\n",
       "      <td>11.6</td>\n",
       "      <td>11.6</td>\n",
       "      <td>11</td>\n",
       "      <td>9.5</td>\n",
       "      <td>10.5</td>\n",
       "      <td>11.2</td>\n",
       "      <td>11</td>\n",
       "      <td>10.2</td>\n",
       "      <td>11</td>\n",
       "    </tr>\n",
       "    <tr>\n",
       "      <td>quality</td>\n",
       "      <td>5</td>\n",
       "      <td>5</td>\n",
       "      <td>0</td>\n",
       "      <td>0</td>\n",
       "      <td>0</td>\n",
       "      <td>0</td>\n",
       "      <td>0</td>\n",
       "      <td>0</td>\n",
       "      <td>0</td>\n",
       "      <td>0</td>\n",
       "      <td>...</td>\n",
       "      <td>0</td>\n",
       "      <td>0</td>\n",
       "      <td>0</td>\n",
       "      <td>0</td>\n",
       "      <td>0</td>\n",
       "      <td>0</td>\n",
       "      <td>0</td>\n",
       "      <td>0</td>\n",
       "      <td>0</td>\n",
       "      <td>0</td>\n",
       "    </tr>\n",
       "    <tr>\n",
       "      <td>body</td>\n",
       "      <td>full</td>\n",
       "      <td>light</td>\n",
       "      <td>NaN</td>\n",
       "      <td>NaN</td>\n",
       "      <td>NaN</td>\n",
       "      <td>NaN</td>\n",
       "      <td>NaN</td>\n",
       "      <td>NaN</td>\n",
       "      <td>NaN</td>\n",
       "      <td>NaN</td>\n",
       "      <td>...</td>\n",
       "      <td>NaN</td>\n",
       "      <td>NaN</td>\n",
       "      <td>NaN</td>\n",
       "      <td>NaN</td>\n",
       "      <td>NaN</td>\n",
       "      <td>NaN</td>\n",
       "      <td>NaN</td>\n",
       "      <td>NaN</td>\n",
       "      <td>NaN</td>\n",
       "      <td>NaN</td>\n",
       "    </tr>\n",
       "  </tbody>\n",
       "</table>\n",
       "<p>13 rows × 1599 columns</p>\n",
       "</div>"
      ],
      "text/plain": [
       "                        0       1      2      3       4       5       6     \\\n",
       "fixed acidity            7.4     7.8    7.8   11.2     7.4     7.4     7.9   \n",
       "volatile acidity         0.7    0.88   0.76   0.28     0.7    0.66     0.6   \n",
       "citric acid                0       0   0.04   0.56       0       0    0.06   \n",
       "residual sugar           1.9     2.6    2.3    1.9     1.9     1.8     1.6   \n",
       "chlorides              0.076   0.098  0.092  0.075   0.076   0.075   0.069   \n",
       "free sulfur dioxide       11      25     15     17      11      13      15   \n",
       "total sulfur dioxide      34      67     54     60      34      40      59   \n",
       "density               0.9978  0.9968  0.997  0.998  0.9978  0.9978  0.9964   \n",
       "pH                       3.5     3.2   3.26   3.16    3.51    3.51     3.3   \n",
       "sulphates               0.56    0.68   0.65   0.58    0.56    0.56    0.46   \n",
       "alcohol                  9.4     9.8    9.8    9.8     9.4     9.4     9.4   \n",
       "quality                    5       5      0      0       0       0       0   \n",
       "body                    full   light    NaN    NaN     NaN     NaN     NaN   \n",
       "\n",
       "                        7       8       9     ...    1589     1590     1591  \\\n",
       "fixed acidity            7.3     7.8     7.5  ...     6.6      6.3      5.4   \n",
       "volatile acidity        0.65    0.58     0.5  ...   0.725     0.55     0.74   \n",
       "citric acid                0    0.02    0.36  ...     0.2     0.15     0.09   \n",
       "residual sugar           1.2       2     6.1  ...     7.8      1.8      1.7   \n",
       "chlorides              0.065   0.073   0.071  ...   0.073    0.077    0.089   \n",
       "free sulfur dioxide       15       9      17  ...      29       26       16   \n",
       "total sulfur dioxide      21      18     102  ...      79       35       26   \n",
       "density               0.9946  0.9968  0.9978  ...  0.9977  0.99314  0.99402   \n",
       "pH                      3.39    3.36    3.35  ...    3.29     3.32     3.67   \n",
       "sulphates               0.47    0.57     0.8  ...    0.54     0.82     0.56   \n",
       "alcohol                   10     9.5    10.5  ...     9.2     11.6     11.6   \n",
       "quality                    0       0       0  ...       0        0        0   \n",
       "body                     NaN     NaN     NaN  ...     NaN      NaN      NaN   \n",
       "\n",
       "                         1592     1593    1594     1595     1596     1597  \\\n",
       "fixed acidity             6.3      6.8     6.2      5.9      6.3      5.9   \n",
       "volatile acidity         0.51     0.62     0.6     0.55     0.51    0.645   \n",
       "citric acid              0.13     0.08    0.08      0.1     0.13     0.12   \n",
       "residual sugar            2.3      1.9       2      2.2      2.3        2   \n",
       "chlorides               0.076    0.068    0.09    0.062    0.076    0.075   \n",
       "free sulfur dioxide        29       28      32       39       29       32   \n",
       "total sulfur dioxide       40       38      44       51       40       44   \n",
       "density               0.99574  0.99651  0.9949  0.99512  0.99574  0.99547   \n",
       "pH                       3.42     3.42    3.45     3.52     3.42     3.57   \n",
       "sulphates                0.75     0.82    0.58     0.76     0.75     0.71   \n",
       "alcohol                    11      9.5    10.5     11.2       11     10.2   \n",
       "quality                     0        0       0        0        0        0   \n",
       "body                      NaN      NaN     NaN      NaN      NaN      NaN   \n",
       "\n",
       "                         1598  \n",
       "fixed acidity               6  \n",
       "volatile acidity         0.31  \n",
       "citric acid              0.47  \n",
       "residual sugar            3.6  \n",
       "chlorides               0.067  \n",
       "free sulfur dioxide        18  \n",
       "total sulfur dioxide       42  \n",
       "density               0.99549  \n",
       "pH                       3.39  \n",
       "sulphates                0.66  \n",
       "alcohol                    11  \n",
       "quality                     0  \n",
       "body                      NaN  \n",
       "\n",
       "[13 rows x 1599 columns]"
      ]
     },
<<<<<<< HEAD
     "execution_count": 76,
=======
     "execution_count": 78,
>>>>>>> 23795514b3f170e99a215b6fe6b340e84cd142a9
     "metadata": {},
     "output_type": "execute_result"
    }
   ],
   "source": [
    "# transpose\n",
    "wine_df.T"
   ]
  },
  {
   "cell_type": "code",
<<<<<<< HEAD
   "execution_count": 77,
=======
   "execution_count": 79,
>>>>>>> 23795514b3f170e99a215b6fe6b340e84cd142a9
   "metadata": {
    "slideshow": {
     "slide_type": "slide"
    }
   },
   "outputs": [],
   "source": [
    "wine_df.T.to_csv('transposed.csv', index=False)"
   ]
  },
  {
   "cell_type": "code",
<<<<<<< HEAD
   "execution_count": 78,
=======
   "execution_count": 80,
>>>>>>> 23795514b3f170e99a215b6fe6b340e84cd142a9
   "metadata": {
    "slideshow": {
     "slide_type": "slide"
    }
   },
   "outputs": [
    {
     "data": {
      "text/plain": [
       "\u001b[0;31mSignature:\u001b[0m\n",
       "\u001b[0mpd\u001b[0m\u001b[0;34m.\u001b[0m\u001b[0mmerge\u001b[0m\u001b[0;34m(\u001b[0m\u001b[0;34m\u001b[0m\n",
       "\u001b[0;34m\u001b[0m    \u001b[0mleft\u001b[0m\u001b[0;34m,\u001b[0m\u001b[0;34m\u001b[0m\n",
       "\u001b[0;34m\u001b[0m    \u001b[0mright\u001b[0m\u001b[0;34m,\u001b[0m\u001b[0;34m\u001b[0m\n",
       "\u001b[0;34m\u001b[0m    \u001b[0mhow\u001b[0m\u001b[0;34m=\u001b[0m\u001b[0;34m'inner'\u001b[0m\u001b[0;34m,\u001b[0m\u001b[0;34m\u001b[0m\n",
       "\u001b[0;34m\u001b[0m    \u001b[0mon\u001b[0m\u001b[0;34m=\u001b[0m\u001b[0;32mNone\u001b[0m\u001b[0;34m,\u001b[0m\u001b[0;34m\u001b[0m\n",
       "\u001b[0;34m\u001b[0m    \u001b[0mleft_on\u001b[0m\u001b[0;34m=\u001b[0m\u001b[0;32mNone\u001b[0m\u001b[0;34m,\u001b[0m\u001b[0;34m\u001b[0m\n",
       "\u001b[0;34m\u001b[0m    \u001b[0mright_on\u001b[0m\u001b[0;34m=\u001b[0m\u001b[0;32mNone\u001b[0m\u001b[0;34m,\u001b[0m\u001b[0;34m\u001b[0m\n",
       "\u001b[0;34m\u001b[0m    \u001b[0mleft_index\u001b[0m\u001b[0;34m=\u001b[0m\u001b[0;32mFalse\u001b[0m\u001b[0;34m,\u001b[0m\u001b[0;34m\u001b[0m\n",
       "\u001b[0;34m\u001b[0m    \u001b[0mright_index\u001b[0m\u001b[0;34m=\u001b[0m\u001b[0;32mFalse\u001b[0m\u001b[0;34m,\u001b[0m\u001b[0;34m\u001b[0m\n",
       "\u001b[0;34m\u001b[0m    \u001b[0msort\u001b[0m\u001b[0;34m=\u001b[0m\u001b[0;32mFalse\u001b[0m\u001b[0;34m,\u001b[0m\u001b[0;34m\u001b[0m\n",
       "\u001b[0;34m\u001b[0m    \u001b[0msuffixes\u001b[0m\u001b[0;34m=\u001b[0m\u001b[0;34m(\u001b[0m\u001b[0;34m'_x'\u001b[0m\u001b[0;34m,\u001b[0m \u001b[0;34m'_y'\u001b[0m\u001b[0;34m)\u001b[0m\u001b[0;34m,\u001b[0m\u001b[0;34m\u001b[0m\n",
       "\u001b[0;34m\u001b[0m    \u001b[0mcopy\u001b[0m\u001b[0;34m=\u001b[0m\u001b[0;32mTrue\u001b[0m\u001b[0;34m,\u001b[0m\u001b[0;34m\u001b[0m\n",
       "\u001b[0;34m\u001b[0m    \u001b[0mindicator\u001b[0m\u001b[0;34m=\u001b[0m\u001b[0;32mFalse\u001b[0m\u001b[0;34m,\u001b[0m\u001b[0;34m\u001b[0m\n",
       "\u001b[0;34m\u001b[0m    \u001b[0mvalidate\u001b[0m\u001b[0;34m=\u001b[0m\u001b[0;32mNone\u001b[0m\u001b[0;34m,\u001b[0m\u001b[0;34m\u001b[0m\n",
       "\u001b[0;34m\u001b[0m\u001b[0;34m)\u001b[0m\u001b[0;34m\u001b[0m\u001b[0;34m\u001b[0m\u001b[0m\n",
       "\u001b[0;31mDocstring:\u001b[0m\n",
       "Merge DataFrame or named Series objects with a database-style join.\n",
       "\n",
       "The join is done on columns or indexes. If joining columns on\n",
       "columns, the DataFrame indexes *will be ignored*. Otherwise if joining indexes\n",
       "on indexes or indexes on a column or columns, the index will be passed on.\n",
       "\n",
       "Parameters\n",
       "----------\n",
       "left : DataFrame\n",
       "right : DataFrame or named Series\n",
       "    Object to merge with.\n",
       "how : {'left', 'right', 'outer', 'inner'}, default 'inner'\n",
       "    Type of merge to be performed.\n",
       "\n",
       "    * left: use only keys from left frame, similar to a SQL left outer join;\n",
       "      preserve key order.\n",
       "    * right: use only keys from right frame, similar to a SQL right outer join;\n",
       "      preserve key order.\n",
       "    * outer: use union of keys from both frames, similar to a SQL full outer\n",
       "      join; sort keys lexicographically.\n",
       "    * inner: use intersection of keys from both frames, similar to a SQL inner\n",
       "      join; preserve the order of the left keys.\n",
       "on : label or list\n",
       "    Column or index level names to join on. These must be found in both\n",
       "    DataFrames. If `on` is None and not merging on indexes then this defaults\n",
       "    to the intersection of the columns in both DataFrames.\n",
       "left_on : label or list, or array-like\n",
       "    Column or index level names to join on in the left DataFrame. Can also\n",
       "    be an array or list of arrays of the length of the left DataFrame.\n",
       "    These arrays are treated as if they are columns.\n",
       "right_on : label or list, or array-like\n",
       "    Column or index level names to join on in the right DataFrame. Can also\n",
       "    be an array or list of arrays of the length of the right DataFrame.\n",
       "    These arrays are treated as if they are columns.\n",
       "left_index : bool, default False\n",
       "    Use the index from the left DataFrame as the join key(s). If it is a\n",
       "    MultiIndex, the number of keys in the other DataFrame (either the index\n",
       "    or a number of columns) must match the number of levels.\n",
       "right_index : bool, default False\n",
       "    Use the index from the right DataFrame as the join key. Same caveats as\n",
       "    left_index.\n",
       "sort : bool, default False\n",
       "    Sort the join keys lexicographically in the result DataFrame. If False,\n",
       "    the order of the join keys depends on the join type (how keyword).\n",
       "suffixes : tuple of (str, str), default ('_x', '_y')\n",
       "    Suffix to apply to overlapping column names in the left and right\n",
       "    side, respectively. To raise an exception on overlapping columns use\n",
       "    (False, False).\n",
       "copy : bool, default True\n",
       "    If False, avoid copy if possible.\n",
       "indicator : bool or str, default False\n",
       "    If True, adds a column to output DataFrame called \"_merge\" with\n",
       "    information on the source of each row.\n",
       "    If string, column with information on source of each row will be added to\n",
       "    output DataFrame, and column will be named value of string.\n",
       "    Information column is Categorical-type and takes on a value of \"left_only\"\n",
       "    for observations whose merge key only appears in 'left' DataFrame,\n",
       "    \"right_only\" for observations whose merge key only appears in 'right'\n",
       "    DataFrame, and \"both\" if the observation's merge key is found in both.\n",
       "\n",
       "validate : str, optional\n",
       "    If specified, checks if merge is of specified type.\n",
       "\n",
       "    * \"one_to_one\" or \"1:1\": check if merge keys are unique in both\n",
       "      left and right datasets.\n",
       "    * \"one_to_many\" or \"1:m\": check if merge keys are unique in left\n",
       "      dataset.\n",
       "    * \"many_to_one\" or \"m:1\": check if merge keys are unique in right\n",
       "      dataset.\n",
       "    * \"many_to_many\" or \"m:m\": allowed, but does not result in checks.\n",
       "\n",
       "    .. versionadded:: 0.21.0\n",
       "\n",
       "Returns\n",
       "-------\n",
       "DataFrame\n",
       "    A DataFrame of the two merged objects.\n",
       "\n",
       "See Also\n",
       "--------\n",
       "merge_ordered : Merge with optional filling/interpolation.\n",
       "merge_asof : Merge on nearest keys.\n",
       "DataFrame.join : Similar method using indices.\n",
       "\n",
       "Notes\n",
       "-----\n",
       "Support for specifying index levels as the `on`, `left_on`, and\n",
       "`right_on` parameters was added in version 0.23.0\n",
       "Support for merging named Series objects was added in version 0.24.0\n",
       "\n",
       "Examples\n",
       "--------\n",
       "\n",
       ">>> df1 = pd.DataFrame({'lkey': ['foo', 'bar', 'baz', 'foo'],\n",
       "...                     'value': [1, 2, 3, 5]})\n",
       ">>> df2 = pd.DataFrame({'rkey': ['foo', 'bar', 'baz', 'foo'],\n",
       "...                     'value': [5, 6, 7, 8]})\n",
       ">>> df1\n",
       "    lkey value\n",
       "0   foo      1\n",
       "1   bar      2\n",
       "2   baz      3\n",
       "3   foo      5\n",
       ">>> df2\n",
       "    rkey value\n",
       "0   foo      5\n",
       "1   bar      6\n",
       "2   baz      7\n",
       "3   foo      8\n",
       "\n",
       "Merge df1 and df2 on the lkey and rkey columns. The value columns have\n",
       "the default suffixes, _x and _y, appended.\n",
       "\n",
       ">>> df1.merge(df2, left_on='lkey', right_on='rkey')\n",
       "  lkey  value_x rkey  value_y\n",
       "0  foo        1  foo        5\n",
       "1  foo        1  foo        8\n",
       "2  foo        5  foo        5\n",
       "3  foo        5  foo        8\n",
       "4  bar        2  bar        6\n",
       "5  baz        3  baz        7\n",
       "\n",
       "Merge DataFrames df1 and df2 with specified left and right suffixes\n",
       "appended to any overlapping columns.\n",
       "\n",
       ">>> df1.merge(df2, left_on='lkey', right_on='rkey',\n",
       "...           suffixes=('_left', '_right'))\n",
       "  lkey  value_left rkey  value_right\n",
       "0  foo           1  foo            5\n",
       "1  foo           1  foo            8\n",
       "2  foo           5  foo            5\n",
       "3  foo           5  foo            8\n",
       "4  bar           2  bar            6\n",
       "5  baz           3  baz            7\n",
       "\n",
       "Merge DataFrames df1 and df2, but raise an exception if the DataFrames have\n",
       "any overlapping columns.\n",
       "\n",
       ">>> df1.merge(df2, left_on='lkey', right_on='rkey', suffixes=(False, False))\n",
       "Traceback (most recent call last):\n",
       "...\n",
       "ValueError: columns overlap but no suffix specified:\n",
       "    Index(['value'], dtype='object')\n",
       "\u001b[0;31mFile:\u001b[0m      ~/anaconda3/lib/python3.7/site-packages/pandas/core/reshape/merge.py\n",
       "\u001b[0;31mType:\u001b[0m      function\n"
      ]
     },
     "metadata": {},
     "output_type": "display_data"
    }
   ],
   "source": [
    "pd.merge?"
   ]
  },
  {
   "cell_type": "markdown",
   "metadata": {
    "slideshow": {
     "slide_type": "slide"
    }
   },
   "source": [
    "## Section 2: Visualization"
   ]
  },
  {
   "cell_type": "code",
<<<<<<< HEAD
   "execution_count": 79,
=======
   "execution_count": 81,
>>>>>>> 23795514b3f170e99a215b6fe6b340e84cd142a9
   "metadata": {},
   "outputs": [
    {
     "name": "stdout",
     "output_type": "stream",
     "text": [
      "{'data': array([[5.1, 3.5, 1.4, 0.2],\n",
      "       [4.9, 3. , 1.4, 0.2],\n",
      "       [4.7, 3.2, 1.3, 0.2],\n",
      "       [4.6, 3.1, 1.5, 0.2],\n",
      "       [5. , 3.6, 1.4, 0.2],\n",
      "       [5.4, 3.9, 1.7, 0.4],\n",
      "       [4.6, 3.4, 1.4, 0.3],\n",
      "       [5. , 3.4, 1.5, 0.2],\n",
      "       [4.4, 2.9, 1.4, 0.2],\n",
      "       [4.9, 3.1, 1.5, 0.1],\n",
      "       [5.4, 3.7, 1.5, 0.2],\n",
      "       [4.8, 3.4, 1.6, 0.2],\n",
      "       [4.8, 3. , 1.4, 0.1],\n",
      "       [4.3, 3. , 1.1, 0.1],\n",
      "       [5.8, 4. , 1.2, 0.2],\n",
      "       [5.7, 4.4, 1.5, 0.4],\n",
      "       [5.4, 3.9, 1.3, 0.4],\n",
      "       [5.1, 3.5, 1.4, 0.3],\n",
      "       [5.7, 3.8, 1.7, 0.3],\n",
      "       [5.1, 3.8, 1.5, 0.3],\n",
      "       [5.4, 3.4, 1.7, 0.2],\n",
      "       [5.1, 3.7, 1.5, 0.4],\n",
      "       [4.6, 3.6, 1. , 0.2],\n",
      "       [5.1, 3.3, 1.7, 0.5],\n",
      "       [4.8, 3.4, 1.9, 0.2],\n",
      "       [5. , 3. , 1.6, 0.2],\n",
      "       [5. , 3.4, 1.6, 0.4],\n",
      "       [5.2, 3.5, 1.5, 0.2],\n",
      "       [5.2, 3.4, 1.4, 0.2],\n",
      "       [4.7, 3.2, 1.6, 0.2],\n",
      "       [4.8, 3.1, 1.6, 0.2],\n",
      "       [5.4, 3.4, 1.5, 0.4],\n",
      "       [5.2, 4.1, 1.5, 0.1],\n",
      "       [5.5, 4.2, 1.4, 0.2],\n",
      "       [4.9, 3.1, 1.5, 0.2],\n",
      "       [5. , 3.2, 1.2, 0.2],\n",
      "       [5.5, 3.5, 1.3, 0.2],\n",
      "       [4.9, 3.6, 1.4, 0.1],\n",
      "       [4.4, 3. , 1.3, 0.2],\n",
      "       [5.1, 3.4, 1.5, 0.2],\n",
      "       [5. , 3.5, 1.3, 0.3],\n",
      "       [4.5, 2.3, 1.3, 0.3],\n",
      "       [4.4, 3.2, 1.3, 0.2],\n",
      "       [5. , 3.5, 1.6, 0.6],\n",
      "       [5.1, 3.8, 1.9, 0.4],\n",
      "       [4.8, 3. , 1.4, 0.3],\n",
      "       [5.1, 3.8, 1.6, 0.2],\n",
      "       [4.6, 3.2, 1.4, 0.2],\n",
      "       [5.3, 3.7, 1.5, 0.2],\n",
      "       [5. , 3.3, 1.4, 0.2],\n",
      "       [7. , 3.2, 4.7, 1.4],\n",
      "       [6.4, 3.2, 4.5, 1.5],\n",
      "       [6.9, 3.1, 4.9, 1.5],\n",
      "       [5.5, 2.3, 4. , 1.3],\n",
      "       [6.5, 2.8, 4.6, 1.5],\n",
      "       [5.7, 2.8, 4.5, 1.3],\n",
      "       [6.3, 3.3, 4.7, 1.6],\n",
      "       [4.9, 2.4, 3.3, 1. ],\n",
      "       [6.6, 2.9, 4.6, 1.3],\n",
      "       [5.2, 2.7, 3.9, 1.4],\n",
      "       [5. , 2. , 3.5, 1. ],\n",
      "       [5.9, 3. , 4.2, 1.5],\n",
      "       [6. , 2.2, 4. , 1. ],\n",
      "       [6.1, 2.9, 4.7, 1.4],\n",
      "       [5.6, 2.9, 3.6, 1.3],\n",
      "       [6.7, 3.1, 4.4, 1.4],\n",
      "       [5.6, 3. , 4.5, 1.5],\n",
      "       [5.8, 2.7, 4.1, 1. ],\n",
      "       [6.2, 2.2, 4.5, 1.5],\n",
      "       [5.6, 2.5, 3.9, 1.1],\n",
      "       [5.9, 3.2, 4.8, 1.8],\n",
      "       [6.1, 2.8, 4. , 1.3],\n",
      "       [6.3, 2.5, 4.9, 1.5],\n",
      "       [6.1, 2.8, 4.7, 1.2],\n",
      "       [6.4, 2.9, 4.3, 1.3],\n",
      "       [6.6, 3. , 4.4, 1.4],\n",
      "       [6.8, 2.8, 4.8, 1.4],\n",
      "       [6.7, 3. , 5. , 1.7],\n",
      "       [6. , 2.9, 4.5, 1.5],\n",
      "       [5.7, 2.6, 3.5, 1. ],\n",
      "       [5.5, 2.4, 3.8, 1.1],\n",
      "       [5.5, 2.4, 3.7, 1. ],\n",
      "       [5.8, 2.7, 3.9, 1.2],\n",
      "       [6. , 2.7, 5.1, 1.6],\n",
      "       [5.4, 3. , 4.5, 1.5],\n",
      "       [6. , 3.4, 4.5, 1.6],\n",
      "       [6.7, 3.1, 4.7, 1.5],\n",
      "       [6.3, 2.3, 4.4, 1.3],\n",
      "       [5.6, 3. , 4.1, 1.3],\n",
      "       [5.5, 2.5, 4. , 1.3],\n",
      "       [5.5, 2.6, 4.4, 1.2],\n",
      "       [6.1, 3. , 4.6, 1.4],\n",
      "       [5.8, 2.6, 4. , 1.2],\n",
      "       [5. , 2.3, 3.3, 1. ],\n",
      "       [5.6, 2.7, 4.2, 1.3],\n",
      "       [5.7, 3. , 4.2, 1.2],\n",
      "       [5.7, 2.9, 4.2, 1.3],\n",
      "       [6.2, 2.9, 4.3, 1.3],\n",
      "       [5.1, 2.5, 3. , 1.1],\n",
      "       [5.7, 2.8, 4.1, 1.3],\n",
      "       [6.3, 3.3, 6. , 2.5],\n",
      "       [5.8, 2.7, 5.1, 1.9],\n",
      "       [7.1, 3. , 5.9, 2.1],\n",
      "       [6.3, 2.9, 5.6, 1.8],\n",
      "       [6.5, 3. , 5.8, 2.2],\n",
      "       [7.6, 3. , 6.6, 2.1],\n",
      "       [4.9, 2.5, 4.5, 1.7],\n",
      "       [7.3, 2.9, 6.3, 1.8],\n",
      "       [6.7, 2.5, 5.8, 1.8],\n",
      "       [7.2, 3.6, 6.1, 2.5],\n",
      "       [6.5, 3.2, 5.1, 2. ],\n",
      "       [6.4, 2.7, 5.3, 1.9],\n",
      "       [6.8, 3. , 5.5, 2.1],\n",
      "       [5.7, 2.5, 5. , 2. ],\n",
      "       [5.8, 2.8, 5.1, 2.4],\n",
      "       [6.4, 3.2, 5.3, 2.3],\n",
      "       [6.5, 3. , 5.5, 1.8],\n",
      "       [7.7, 3.8, 6.7, 2.2],\n",
      "       [7.7, 2.6, 6.9, 2.3],\n",
      "       [6. , 2.2, 5. , 1.5],\n",
      "       [6.9, 3.2, 5.7, 2.3],\n",
      "       [5.6, 2.8, 4.9, 2. ],\n",
      "       [7.7, 2.8, 6.7, 2. ],\n",
      "       [6.3, 2.7, 4.9, 1.8],\n",
      "       [6.7, 3.3, 5.7, 2.1],\n",
      "       [7.2, 3.2, 6. , 1.8],\n",
      "       [6.2, 2.8, 4.8, 1.8],\n",
      "       [6.1, 3. , 4.9, 1.8],\n",
      "       [6.4, 2.8, 5.6, 2.1],\n",
      "       [7.2, 3. , 5.8, 1.6],\n",
      "       [7.4, 2.8, 6.1, 1.9],\n",
      "       [7.9, 3.8, 6.4, 2. ],\n",
      "       [6.4, 2.8, 5.6, 2.2],\n",
      "       [6.3, 2.8, 5.1, 1.5],\n",
      "       [6.1, 2.6, 5.6, 1.4],\n",
      "       [7.7, 3. , 6.1, 2.3],\n",
      "       [6.3, 3.4, 5.6, 2.4],\n",
      "       [6.4, 3.1, 5.5, 1.8],\n",
      "       [6. , 3. , 4.8, 1.8],\n",
      "       [6.9, 3.1, 5.4, 2.1],\n",
      "       [6.7, 3.1, 5.6, 2.4],\n",
      "       [6.9, 3.1, 5.1, 2.3],\n",
      "       [5.8, 2.7, 5.1, 1.9],\n",
      "       [6.8, 3.2, 5.9, 2.3],\n",
      "       [6.7, 3.3, 5.7, 2.5],\n",
      "       [6.7, 3. , 5.2, 2.3],\n",
      "       [6.3, 2.5, 5. , 1.9],\n",
      "       [6.5, 3. , 5.2, 2. ],\n",
      "       [6.2, 3.4, 5.4, 2.3],\n",
      "       [5.9, 3. , 5.1, 1.8]]), 'target': array([0, 0, 0, 0, 0, 0, 0, 0, 0, 0, 0, 0, 0, 0, 0, 0, 0, 0, 0, 0, 0, 0,\n",
      "       0, 0, 0, 0, 0, 0, 0, 0, 0, 0, 0, 0, 0, 0, 0, 0, 0, 0, 0, 0, 0, 0,\n",
      "       0, 0, 0, 0, 0, 0, 1, 1, 1, 1, 1, 1, 1, 1, 1, 1, 1, 1, 1, 1, 1, 1,\n",
      "       1, 1, 1, 1, 1, 1, 1, 1, 1, 1, 1, 1, 1, 1, 1, 1, 1, 1, 1, 1, 1, 1,\n",
      "       1, 1, 1, 1, 1, 1, 1, 1, 1, 1, 1, 1, 2, 2, 2, 2, 2, 2, 2, 2, 2, 2,\n",
      "       2, 2, 2, 2, 2, 2, 2, 2, 2, 2, 2, 2, 2, 2, 2, 2, 2, 2, 2, 2, 2, 2,\n",
      "       2, 2, 2, 2, 2, 2, 2, 2, 2, 2, 2, 2, 2, 2, 2, 2, 2, 2]), 'target_names': array(['setosa', 'versicolor', 'virginica'], dtype='<U10'), 'DESCR': '.. _iris_dataset:\\n\\nIris plants dataset\\n--------------------\\n\\n**Data Set Characteristics:**\\n\\n    :Number of Instances: 150 (50 in each of three classes)\\n    :Number of Attributes: 4 numeric, predictive attributes and the class\\n    :Attribute Information:\\n        - sepal length in cm\\n        - sepal width in cm\\n        - petal length in cm\\n        - petal width in cm\\n        - class:\\n                - Iris-Setosa\\n                - Iris-Versicolour\\n                - Iris-Virginica\\n                \\n    :Summary Statistics:\\n\\n    ============== ==== ==== ======= ===== ====================\\n                    Min  Max   Mean    SD   Class Correlation\\n    ============== ==== ==== ======= ===== ====================\\n    sepal length:   4.3  7.9   5.84   0.83    0.7826\\n    sepal width:    2.0  4.4   3.05   0.43   -0.4194\\n    petal length:   1.0  6.9   3.76   1.76    0.9490  (high!)\\n    petal width:    0.1  2.5   1.20   0.76    0.9565  (high!)\\n    ============== ==== ==== ======= ===== ====================\\n\\n    :Missing Attribute Values: None\\n    :Class Distribution: 33.3% for each of 3 classes.\\n    :Creator: R.A. Fisher\\n    :Donor: Michael Marshall (MARSHALL%PLU@io.arc.nasa.gov)\\n    :Date: July, 1988\\n\\nThe famous Iris database, first used by Sir R.A. Fisher. The dataset is taken\\nfrom Fisher\\'s paper. Note that it\\'s the same as in R, but not as in the UCI\\nMachine Learning Repository, which has two wrong data points.\\n\\nThis is perhaps the best known database to be found in the\\npattern recognition literature.  Fisher\\'s paper is a classic in the field and\\nis referenced frequently to this day.  (See Duda & Hart, for example.)  The\\ndata set contains 3 classes of 50 instances each, where each class refers to a\\ntype of iris plant.  One class is linearly separable from the other 2; the\\nlatter are NOT linearly separable from each other.\\n\\n.. topic:: References\\n\\n   - Fisher, R.A. \"The use of multiple measurements in taxonomic problems\"\\n     Annual Eugenics, 7, Part II, 179-188 (1936); also in \"Contributions to\\n     Mathematical Statistics\" (John Wiley, NY, 1950).\\n   - Duda, R.O., & Hart, P.E. (1973) Pattern Classification and Scene Analysis.\\n     (Q327.D83) John Wiley & Sons.  ISBN 0-471-22361-1.  See page 218.\\n   - Dasarathy, B.V. (1980) \"Nosing Around the Neighborhood: A New System\\n     Structure and Classification Rule for Recognition in Partially Exposed\\n     Environments\".  IEEE Transactions on Pattern Analysis and Machine\\n     Intelligence, Vol. PAMI-2, No. 1, 67-71.\\n   - Gates, G.W. (1972) \"The Reduced Nearest Neighbor Rule\".  IEEE Transactions\\n     on Information Theory, May 1972, 431-433.\\n   - See also: 1988 MLC Proceedings, 54-64.  Cheeseman et al\"s AUTOCLASS II\\n     conceptual clustering system finds 3 classes in the data.\\n   - Many, many more ...', 'feature_names': ['sepal length (cm)', 'sepal width (cm)', 'petal length (cm)', 'petal width (cm)'], 'filename': '/home/shane/anaconda3/lib/python3.7/site-packages/sklearn/datasets/data/iris.csv'}\n"
     ]
    }
   ],
   "source": [
    "# Given a numpy array we can create a pandas data frame\n",
    "\n",
    "import numpy as np\n",
    "import pandas as pd\n",
    "import matplotlib.pyplot as plt\n",
    "%matplotlib inline\n",
    "\n",
    "from sklearn import datasets\n",
    "iris = datasets.load_iris()\n",
    "print(iris)"
   ]
  },
  {
   "cell_type": "code",
<<<<<<< HEAD
   "execution_count": 80,
=======
   "execution_count": 82,
>>>>>>> 23795514b3f170e99a215b6fe6b340e84cd142a9
   "metadata": {},
   "outputs": [
    {
     "data": {
      "text/html": [
       "<div>\n",
       "<style scoped>\n",
       "    .dataframe tbody tr th:only-of-type {\n",
       "        vertical-align: middle;\n",
       "    }\n",
       "\n",
       "    .dataframe tbody tr th {\n",
       "        vertical-align: top;\n",
       "    }\n",
       "\n",
       "    .dataframe thead th {\n",
       "        text-align: right;\n",
       "    }\n",
       "</style>\n",
       "<table border=\"1\" class=\"dataframe\">\n",
       "  <thead>\n",
       "    <tr style=\"text-align: right;\">\n",
       "      <th></th>\n",
       "      <th>sepal_length</th>\n",
       "      <th>sepal_width</th>\n",
       "      <th>petal_length</th>\n",
       "      <th>petal_width</th>\n",
       "      <th>species</th>\n",
       "      <th>species_name</th>\n",
       "    </tr>\n",
       "  </thead>\n",
       "  <tbody>\n",
       "    <tr>\n",
       "      <td>0</td>\n",
       "      <td>5.1</td>\n",
       "      <td>3.5</td>\n",
       "      <td>1.4</td>\n",
       "      <td>0.2</td>\n",
       "      <td>0.0</td>\n",
       "      <td>Setosa</td>\n",
       "    </tr>\n",
       "    <tr>\n",
       "      <td>1</td>\n",
       "      <td>4.9</td>\n",
       "      <td>3.0</td>\n",
       "      <td>1.4</td>\n",
       "      <td>0.2</td>\n",
       "      <td>0.0</td>\n",
       "      <td>Setosa</td>\n",
       "    </tr>\n",
       "    <tr>\n",
       "      <td>2</td>\n",
       "      <td>4.7</td>\n",
       "      <td>3.2</td>\n",
       "      <td>1.3</td>\n",
       "      <td>0.2</td>\n",
       "      <td>0.0</td>\n",
       "      <td>Setosa</td>\n",
       "    </tr>\n",
       "    <tr>\n",
       "      <td>3</td>\n",
       "      <td>4.6</td>\n",
       "      <td>3.1</td>\n",
       "      <td>1.5</td>\n",
       "      <td>0.2</td>\n",
       "      <td>0.0</td>\n",
       "      <td>Setosa</td>\n",
       "    </tr>\n",
       "    <tr>\n",
       "      <td>4</td>\n",
       "      <td>5.0</td>\n",
       "      <td>3.6</td>\n",
       "      <td>1.4</td>\n",
       "      <td>0.2</td>\n",
       "      <td>0.0</td>\n",
       "      <td>Setosa</td>\n",
       "    </tr>\n",
       "  </tbody>\n",
       "</table>\n",
       "</div>"
      ],
      "text/plain": [
       "   sepal_length  sepal_width  petal_length  petal_width  species species_name\n",
       "0           5.1          3.5           1.4          0.2      0.0       Setosa\n",
       "1           4.9          3.0           1.4          0.2      0.0       Setosa\n",
       "2           4.7          3.2           1.3          0.2      0.0       Setosa\n",
       "3           4.6          3.1           1.5          0.2      0.0       Setosa\n",
       "4           5.0          3.6           1.4          0.2      0.0       Setosa"
      ]
     },
<<<<<<< HEAD
     "execution_count": 80,
=======
     "execution_count": 82,
>>>>>>> 23795514b3f170e99a215b6fe6b340e84cd142a9
     "metadata": {},
     "output_type": "execute_result"
    }
   ],
   "source": [
    "columns = (\"sepal_length\", \"sepal_width\", \"petal_length\", \"petal_width\", \"species\")\n",
    "\n",
    "iris_df = pd.DataFrame(data= np.c_[iris[\"data\"], iris[\"target\"]], columns=columns)\n",
    "iris_df[\"species_name\"] = iris_df[\"species\"].map({0.0: \"Setosa\", 1.0: \"Versicolour\", 2.0: \"Virginica\"})\n",
    "\n",
    "iris_df.head()"
   ]
  },
  {
   "cell_type": "code",
<<<<<<< HEAD
   "execution_count": 81,
=======
   "execution_count": 83,
>>>>>>> 23795514b3f170e99a215b6fe6b340e84cd142a9
   "metadata": {},
   "outputs": [
    {
     "data": {
      "image/png": "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\n",
      "text/plain": [
       "<Figure size 432x288 with 1 Axes>"
      ]
     },
     "metadata": {
      "needs_background": "light"
     },
     "output_type": "display_data"
    }
   ],
   "source": [
    "# convention is to rename pyplot to plt\n",
    "import matplotlib.pyplot as plt\n",
    "\n",
    "# magic command to display matplotlib plots inline\n",
    "%matplotlib inline\n",
    "\n",
    "# Plot\n",
    "plt.scatter(\n",
    "    iris_df[\"sepal_length\"], # X axis is the sepal length\n",
    "    iris_df[\"sepal_width\"],  # Y axis is the sepal width\n",
    "    c=iris_df[\"species\"]     # Color is the species\n",
    ")\n",
    "\n",
    "# create labels\n",
    "plt.xlabel('Sepal length')\n",
    "plt.ylabel('Sepal width')\n",
    "\n",
    "# show\n",
    "plt.show()"
   ]
  },
  {
   "cell_type": "code",
<<<<<<< HEAD
   "execution_count": 90,
=======
   "execution_count": 84,
>>>>>>> 23795514b3f170e99a215b6fe6b340e84cd142a9
   "metadata": {},
   "outputs": [
    {
     "data": {
<<<<<<< HEAD
      "image/png": "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\n",
=======
      "image/png": "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\n",
>>>>>>> 23795514b3f170e99a215b6fe6b340e84cd142a9
      "text/plain": [
       "<Figure size 432x288 with 1 Axes>"
      ]
     },
     "metadata": {
      "needs_background": "light"
     },
     "output_type": "display_data"
    }
   ],
   "source": [
    "# Let's set some limits on the axes\n",
    "plt.scatter(\n",
    "    iris_df[\"sepal_length\"], iris_df[\"sepal_width\"],\n",
    "    c=iris_df[\"species\"],\n",
    "    cmap=plt.cm.Set1, # Set2, etc\n",
    "    alpha=0.5,\n",
    "    s=iris_df[\"petal_length\"] * 20,\n",
    "    #marker=\"x\",\n",
    ")\n",
    "\n",
    "# name the labels, for clarity\n",
    "plt.xlabel('Sepal length')\n",
    "plt.ylabel('Sepal width')\n",
    "\n",
    "# Remove ticks\n",
    "plt.xticks(())\n",
    "#plt.yticks(())\n",
    "\n",
    "plt.show()"
   ]
  },
  {
   "cell_type": "code",
<<<<<<< HEAD
   "execution_count": 91,
=======
   "execution_count": 85,
>>>>>>> 23795514b3f170e99a215b6fe6b340e84cd142a9
   "metadata": {},
   "outputs": [
    {
     "data": {
      "image/png": "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\n",
      "text/plain": [
       "<Figure size 432x288 with 1 Axes>"
      ]
     },
     "metadata": {
      "needs_background": "light"
     },
     "output_type": "display_data"
    }
   ],
   "source": [
    "# Histograms:  https://matplotlib.org/api/_as_gen/matplotlib.pyplot.hist.html\n",
    "\n",
    "plt.hist(iris_df[\"sepal_width\"])\n",
    "plt.xlabel('Sepal width')\n",
    "plt.ylabel('Count')\n",
    "plt.show()"
   ]
  },
  {
   "cell_type": "code",
<<<<<<< HEAD
   "execution_count": 92,
=======
   "execution_count": 86,
>>>>>>> 23795514b3f170e99a215b6fe6b340e84cd142a9
   "metadata": {},
   "outputs": [
    {
     "data": {
      "image/png": "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\n",
      "text/plain": [
       "<Figure size 432x288 with 1 Axes>"
      ]
     },
     "metadata": {
      "needs_background": "light"
     },
     "output_type": "display_data"
    }
   ],
   "source": [
    "# Bar plots https://matplotlib.org/api/_as_gen/matplotlib.pyplot.bar.html\n",
    "\n",
    "species = (\"Setosa\", \"Versicolour\", \"Virginica\")\n",
    "y_pos = np.arange(len(species))\n",
    "mean_widths = tuple(np.mean(iris_df.loc[iris_df[\"species_name\"] == x, \"sepal_width\"]) for x in species)\n",
    " \n",
    "plt.bar(y_pos, mean_widths)\n",
    "plt.xticks(y_pos, species)\n",
    "plt.ylabel('Mean Sepal Width')\n",
    "plt.title('Sepal Widths Per Species')\n",
    " \n",
    "plt.show()"
   ]
  },
  {
   "cell_type": "code",
<<<<<<< HEAD
   "execution_count": 93,
=======
   "execution_count": 87,
>>>>>>> 23795514b3f170e99a215b6fe6b340e84cd142a9
   "metadata": {},
   "outputs": [
    {
     "data": {
      "image/png": "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\n",
      "text/plain": [
       "<Figure size 432x288 with 1 Axes>"
      ]
     },
     "metadata": {
      "needs_background": "light"
     },
     "output_type": "display_data"
    }
   ],
   "source": [
    "plt.bar(y_pos, mean_widths, color=\"red\" )#, color=(\"red\", \"yellow\", \"green\"), edgecolor=(\"blue\", \"green\", \"black\")) # bottom=0, align='edge', width=(.1, .2, .3) , alpha=0.5)\n",
    "# barh / yticks\n",
    "plt.xticks(y_pos, species)\n",
    "plt.ylabel('Mean Sepal Width')\n",
    "plt.title('Sepal Widths Per Species')\n",
    " \n",
    "plt.show()"
   ]
  },
  {
   "cell_type": "code",
<<<<<<< HEAD
   "execution_count": 94,
=======
   "execution_count": 88,
>>>>>>> 23795514b3f170e99a215b6fe6b340e84cd142a9
   "metadata": {},
   "outputs": [
    {
     "data": {
      "image/png": "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\n",
      "text/plain": [
       "<Figure size 432x288 with 1 Axes>"
      ]
     },
     "metadata": {
      "needs_background": "light"
     },
     "output_type": "display_data"
    }
   ],
   "source": [
    "# Box plots:\n",
    "# https://matplotlib.org/api/_as_gen/matplotlib.pyplot.boxplot.html\n",
    "\n",
    "data_to_plot = list(iris_df.loc[iris_df[\"species_name\"] == x, \"sepal_width\"] for x in species)\n",
    "plt.boxplot(data_to_plot)\n",
    "plt.xticks((1, 2, 3), species)\n",
    "plt.show()"
   ]
  },
  {
   "cell_type": "code",
<<<<<<< HEAD
   "execution_count": 102,
=======
   "execution_count": 89,
>>>>>>> 23795514b3f170e99a215b6fe6b340e84cd142a9
   "metadata": {},
   "outputs": [
    {
     "data": {
<<<<<<< HEAD
      "image/png": "iVBORw0KGgoAAAANSUhEUgAAAaEAAAD4CAYAAABFXllJAAAABHNCSVQICAgIfAhkiAAAAAlwSFlzAAALEgAACxIB0t1+/AAAADh0RVh0U29mdHdhcmUAbWF0cGxvdGxpYiB2ZXJzaW9uMy4xLjEsIGh0dHA6Ly9tYXRwbG90bGliLm9yZy8QZhcZAAAgAElEQVR4nO3deXxU1d3H8c8vk8nOYgMqa7HyaCNoXeKOKBo3FsFqK6gogiKKqMUFNdVqbRDcWo1SqoK4NS5YUBYXZClFRQluKPHx0bpvCCKQfTvPHxkwhEAmyczczMz3/XrNi8m95575HW4y35x7J/eacw4REREvJHhdgIiIxC+FkIiIeEYhJCIinlEIiYiIZxRCIiLimUSvC2irOnXq5Hr16uV1GSIiUWX16tXrnXOdg22vENqJXr16UVhY6HUZIiJRxcw+b057HY4TERHPaCYkceHjjz9m5syHW7RtQkICl1wyjm7duoWsnuXLl/Piiy8F3b5L1y5cNn48ZhayGkTaAoWQxIVHH32Uu5+YT8ovD2j2trU/fs3S/7zKimWLQxIC33//PUOG/RZ+nYMl+oPapvj1Ozj/vPNo3759q19fpC1RCEncSOnRl45HDW/2dq62hrVPXsPMmQ8zZszoVtdx0SXj8WcdT8YxI4PeprxwTqtfV6Qt0jkhkSZYgo/UEy7jD1dfy7ffftuqvubMmcO/X3uTtCOaH4YisUghJBKEpD1+RVKfHMaMvaTFffz0009cNO5SUo+/lAR/cgirE4leCiGRIKUfcRavFr7D7NmzW7T95X+4CnoeQkrP/UNcmUj0UgiJBMkSk0g9YTxjLxnPxo0bm7XtkiVLmDNvIWn9zg9TdSLRSSEk0gwp3fcjYa/DufTyK4PeprS0lJGjxpB63FgSktPCWJ1I9FEIiTRT2tEjmf/CyyxatCio9tfl3kjFbnuR1vuwMFcmEn0UQiLNlJCcRtqAcYy8YAzFxcW7bLtq1SpmznqE1GMvjFB1ItFFISTSAql7Z1PdeV+uvS53p20qKysZMXIUqcdcgC+tQwSrE4keCiGRFkrtP5pHn/gnK1eubHT95NumsNHakZZ1bIQrE4keCiGRFvKltie1/2hGjBxFRUXFduvWrl3LHXf/jdQB43S9N5FdUAiJtELar49hc1Imt9z6l23LampqOPu8UaQeMYLE9kHfVkUkLimERFrBzEg9biz35N/PmjVrALg3/z6+2FhB+oGneFydSNunEBJppcR2nUg96hxGjBzFJ598wk0330LqCeMx04+XSFP0UyISAukHnMw3xbUcdvgRJB80FP8vQnfvIZFYphCSkIvHE/FmRuoJ49lwWSXp2cO8LidqxOP3imxPISQSIv7dugBgPt2mSyRYCiEREfGMQkhERDyjEBIREc8ohERExDMKIRER8YxCSEREPKMQEhERzyiERETEMwohERHxjEJIREQ8oxASERHPhDSEzGyZmZ3cYNmVZjbTzGa3oL+HzGy/JtqMM7Pzmtu3iIh4L9QzoQJgeINlw4GHnXNnNmxsZru80qNz7kLn3Nom2kx3zj3a7EqjWEFBAX379sXn89G3b18KCgq8LiluWeJmUnv+A/Nt8boUacSECRNISUnBzEhJSWHChAlelyQNhDqEZgODzSwZwMx6AV2Br8zs/cCyUWb2jJnNA142swQzm2ZmH5jZfDNbaGZnBtouM7PswPNiM8szs3fNbKWZ7RFYfrOZXR143tvMXgm0ecvM9jazDDNbHPh6jZkNDfGYI6qgoIDc3Fzy8/MpLy8nPz+f3NxcBZFHkjIX40v7jKROi70uRRqYMGEC06dPZ/LkyZSUlDB58mSmT5+uIGpjQhpCzrkNwJvA1vsaDweeAlyDpkcC5zvnjgd+C/QC9gcuDKxrTDqw0jn3G2A5cFEjbZ4A7g+0OQr4FigHTnfOHQwMAO6yKL6JSV5eHjNmzGDAgAH4/X4GDBjAjBkzyMvL87q0uGOJm/F3XI2Zw9+xULOhNubBBx9k6tSpTJw4kbS0NCZOnMjUqVN58MEHvS5N6gnHjU+2HpJ7LvDv6EbaLHLO/Rh43g94xjlXC3xnZkt30m8lMD/wfDVwYv2VZtYO6OacmwPgnCsPLPcDk82sP1ALdAP2AL5r+AJmNhYYC9CzZ8+gBhtpRUVF9OvXb7tl/fr1o6ioyKOKGtcWc77D0WeHtL+kzMX8/PuVq5sNbQrpS2ynQ4cO4es8BlVUVDBu3Ljtlo0bN46rrrrKo4qkMeH4dNxc4AQzOxhIdc691UibknrPg323qnLObf2Jr2HHAN1ZP+cAnYFDnHMHAt8DKY01dM494JzLds5ld+7cOciyIisrK4sVK1Zst2zFihVkZWV5VFHjnHNt6nHjjTeGdHzbZkEJNXVfJ9Tg71jIel/4PnC6adMmz/8fQ/0Ip+TkZKZPn77dsunTp5OcnBzW15XmCflPjHOuGFgGzKRuVtSUFcAZgXNDewDHtfB1N1N37mkYgJklm1ka0AFY55yrMrMBwC9b0n9bkZuby5gxY1i6dClVVVUsXbqUMWPGkJub63VpcWX7WdBWjukdNVtpKy666CImTZrE3XffTWlpKXfffTeTJk3ioosaO5IvXgnXfYgLgH+x4yflGvMscALwPvAR8AYtP6gxEviHmf0ZqAJ+R915onlmVgi8A3zYwr7bhBEjRgB1J12LiorIysoiLy9v23KJDF/aF9tmQVtZQg3v6LfsNiM/Px+AG264gauuuork5GTGjRu3bbm0DRbuKXFQRZhlOOeKzSyTug82HO2c2+GcTSRlZ2e7wsJCL0uIWmYW9kMtzXXTTTdx75JP6NgvtOeFGvos5Wx6lf8z5P1+d+9ZrPvuG9q3bx/yvr3UFr9XpHXMbLVzLjvY9uGaCTXXfDPrCCQBt3odQCIiEhltIoScc8d5XYOIiESerh0nIiKeUQiJiIhnFEIiIuIZhZCIiHhGISQiIp5RCImIiGcUQiIi4hmFkIiIeEYhJBIiNeXFALoMjUgzKIREQqRs+UwASj/8j8eViEQPhZCEXDzOBMo+fRvf92t5pd+zlC2fSU3ZZq9Ligrx+L0i21MIibRSbWUZpUv+zqyHHiAnJ4fzzj1726xIRHZNISTSSqWvPcEpOcdx6qmnAnDHlMn4139E2Se6FYhIUxRCIq1Q8XURNR+/yvT77t22LD09nccenkHp0unUVpR6WJ1I26cQEmkhV11F6eJpTL8/n8zMzO3W5eTkcNrAkyl97XGPqhOJDgohkRYqefMZjjiwD7///e8bXX/fPX+l9tM3KP/qgwhXJhI9FEIiLVC57lMq3nuRmQ9Ox8wabbPbbrvx4N/vp2zxNFx1ZYQrFIkOCiGRZnK1NZQtmcadU2+jW7duu2x7xhlncPShB1Gy8qkIVScSXRRCIs1U8tY89u3embFjLwqq/cwH/k7lB69Q+f1/w1yZSPRRCIk0Q9XGbylfNZvHZ83Y6WG4hvbcc0/+euftlC2+D1dbE+YKRaKLQkgkSM45ypZM44+519O7d+9mbTt69AXst1c3Sgrnhqk6keikEBIJUsmal+mSBldPnNjsbc2Mx2fNoHz1HKp+/DoM1YlEJ4WQSBCqt2yg7NXHKXhsFomJiS3qY6+99uLmm26ibMk0nKsNcYUi0UkhJNIE5xxly/7B5ZddygEHHNCqvv5w5eV0b++n5N2XQlSdSHRr2a90IlGoeuM3LbqeW+X6z+lQsZ6bb7qx1TX4fD4KHpvFYUcdQ0JaB8yXFNR2tTX6QIPEJoWQxIWcnBwWL38Nfmj+vX58Ph9/feqfJCcnh6SWPn36cOftU3i84Omgt+l+5u9IS0sLyeuLtCWm+3k0Ljs72xUW6irIIiLNYWarnXPZwbbXOSEREfGMQkhERDyjEBIREc8ohERExDP6dJyEVVlZWcj79Pl8JCUF99Hm1qqsrKSmGR+P9vv9Lf5jVpF4pJ8WCZuXXnqJgQMHkRDiN2UDnnn6KYYOHRrSfhuaM2cOZw0fQbCfH3W1tfzmkGxWr3wtrHWJxBKFkITNN998Q+ZBOaTlTAhpvxXf/C/njhrNyhXL6dOnT0j73mrNmjWcd8EYMoffRnKXfYLapmrjt3y94Naw1CMSq3ROSKJOctd9Sel3ASeeOogNGzaEvP/169dz0sDBpPQfE3QAiUjLKIQkKqX3GUBl90MZNPS3VFVVhazfqqoqBp52OlU9jyB9v+NC1q+INE4hJFErvd9IPtpQwfgJV4Ssz4svvYyPf6om/ehzQtaniOycQkiiliX4yDhlIk89t5C/T5/e6v7uu/9+nl3wMhknT8QSfCGoUESaohCSqJaQnE7GkBu45rpcli9f3uJ+li1bxnW5N5Ex5AYSknWhUJFIUQhJ1PP/ohvpJ1/J0N+eyeeff97s7T/99FOGnfE70k+ZiH+3rmGoUER2RiEkMSF1r4NJPGgYOacMori4OOjttmzZQs4pg/AfcgapvQ4MY4Ui0hiFkMSMtINPY2Nqd846ZyS1tU3fPru2tpbfDT+HTe16kXbQ4AhUKCINKYQkZpgZ6ceP47X3/o+bbr6lyfY3/PEm3ij6jPQBYzGzCFQoIg0phCSmWKKfjEHXcc+0fzB79uydtnvyyae4/4EZZAyahPn8EaxQROpTCEnM8WXsRsbg6xl14VjefffdHda//fbbXDjuEtoNuQFfekcPKhSRrRRCEpOS9+xN6rEXcdLAwaxbt27b8u+//56TBw0h9biLSdrjVx5WKCKgEJIYlp7Vn5pf9WPgaadTWVlJRUUFpwweSm3vY0n/dT+vyxMRdBVtiXHpR53Np/OncOHFl1BbW8sXZX4yjh/udVkiEqAQkphmlkD6SVfy3NOTMEug/e+nYKYDACJthX4aw0Qf+W07EpLT6DD8Dn668AcSklK9Lidq6HtYIkEhJHEhwZ/idQki0giFkIiIeEYhJCIinlEIiYiIZxRCIiLiGYWQiIh4RiEkIiKeUQiJiIhnFEIiIuIZhZCIiHhGISQiIp5RCImIiGd2GUJmtszMTm6w7Eozm9aaFzWzP5tZTgu2O87M5rfmtSU+WOJmUnv+A/Nt8boUEdmFpmZCBUDDm68MDyzfJavTaP/OuZucc68EV2Lo7ao2iQ1JmYvxpX1GUqfFXpciIrvQ1BvxbGCwmSUDmFkvoCuwwsyuMbNVZvaemd2ydb2ZFQVmSm8BPcxslpm9b2ZrzOwPgXazzOzMwPNDzew1M3vXzN40s3ZmlmJmDwe2edvMBjQszMx+YWZzA6+/0swOCCy/2cyurtfu/UBdO9TWuv86aasscTP+jqsxc/g7Fmo2JNKG7fKmds65DWb2JnAK8Bx1s6CngBOB/wEOAwx43sz6A18A+wIXOOcuNbNDgG7Oub4AZtaxfv9mlhTo7yzn3Cozaw+UAVcEXn9/M/s18LKZ7dOgvFuAt51zw8zseOBR4MAmxruttsZWmtlYYCxAz549m+iqabofC6TtezRpEX7NpMzFgAt85UjqtJiK74dF5LXXrVun/S7SDMEckqp/SG7robiTAo+3qZtV/Jq6UAL43Dm3MvD8v8CvzCzfzE4BNjfoe1/gW+fcKgDn3GbnXDXQD3gssOxD4HOgYQjVb7MEyDSzDk2MpX5tO3DOPeCcy3bOZXfu3LmJrprmnIvrx8yZM0nPyGj1/2NzbJsFJdTUfZ1QE9HZ0O677+75/3uoHiKREEwIzQVOMLODgVTn3FvUzX5uc84dGHj0ds7NCLQv2bqhc24j8BtgGTAeeKhB38bPv7I2XN6Uxto4oJrtx1X/bmYlSEzbfha0ldO5IZE2qskQcs4VUxciM/n5AwkvAaPNLAPAzLqZ2e4NtzWzTkCCc+5Z4Ebg4AZNPgS6mtmhgfbtzCwRWA6cE1i2D9AT+N8G29Zvcxyw3jm3Gfhs6+sEgnOvpsYoscOX9sW2WdBWllCDL+1zjyoSkV3Z5TmhegqAfxE4LOece9nMsoDXA8e/i4FzgZoG23UDHq73SbTr6690zlWa2VlAvpmlUnc+KAeYBkw3szXUzWxGOecqGhxrvznQ93tAKXB+YPmzwHlm9g6wCvgoyDFKDCj99Iqdr0w5O3KFiEhQggoh59wcGhz+cs7dA9zTSPO+9dq8y46zH5xzo+o9XwUc0Ug/oxoucM4to25WhnPuR2BoI23KqDtf1Zi+O1kuIiIe0N/KiIiIZxRCIiLiGYWQiIh4RiEkIiKeUQiJiIhnFEIiIuIZhZCIiHhGISQiIp5RCImIiGcUQiIi4hmFkMQ8V1vDludu3fZcRNoOhVCY6H4sbUfJv2fSp0s7+i3LpmT5LK/LiRr6HpZICPYq2iJRqeS9l0hb9z7Pv12Ic44DDsqmeM0iMvY/0evSRASFkMSw8q8+oOL1J1ix8jU6dqy7s/zLL8zn8KP6Ub5bd1K6Z3lcoYjocJzEpOrN6yheeCdPPvEY++6777blWVlZ/POxRyheOJXqzT94WKGIgEJIYlBtZTnF827jxuuvYeDAgTusHzx4MNdfcxXF82+jtqrcgwpFZCuFkMQU5xwli+7l5GMO49qrr95puxuum0TOkQdTsug+nYAX8ZBCSGJKyRtP081fyiMzH6LB7eC3Y2Y8NmsmXRI2U/Lm7AhWKCL1KYQkZpR+9Bp8+AovLXielJSUJtunpqby0oLnYe1LlP7fyghUKCINKYQkJlT+8BmlS/7OC/Oeo0uXLkFv161bNxY8P5fSV+6n8ofPwlegiDRKISRRr6Z0E8XzJjP9vnwOPfTQZm9/+OGHc/+9f6N43m3UlG0OQ4UisjMKIYlqrqaakoW3c9H553Duuee0uJ/zzz+P0eeeRcnCO3A11SGsUER2RSEkUa3k3w9x8N5duX3Kba3u6647buc3v+xMyb9nhKAyEQmGQkiiVsk7C2n340f865kn8fl8re7P5/Mx99mnSV9fRMm7L4agQhFpikJIolL5F+9R+eZTLHpxAe3btw9Zvx06dGDRiwuoWFlA+Zfvh6xfEWmcQkiiTtVP31H8wl08+/ST9O7dO+T977PPPjzz5BMUL7yT6k3fh7x/EfmZLmAqYZOens6WD1+ndv1nIe237Kcf+MvNfyInJyek/dZ38sknc/Mfr+dPt15DasfOQW1TU1VJZruMsNUkEotMlyxpXHZ2tissLPS6jKjmnOOdd94J+WVxUlJSyMrK2uUVEULBOUdRURHl5cFfX65r167sueeeYaxKpG0zs9XOuexg22smJGFjZhx00EFel9FiZsZ+++3ndRkiMU3nhERExDMKIRER8YxCSEREPKMQEhERz+iDCSJRZs7cuSxesizo9n5/ItdcNZGuXbuGryigrKyMv+RNZtPmLSHv+w9XTGDvvfcOeb/iPYWQSJS58c95fGF7kthhj6Da1/z4JYsWD2HV6ytITU0NS03OOUaOGs0r7/yXhG77h7Tv8v+uoke3LkyaNCmk/UrboBASiUJpWceS0j0rqLbOOb594S7Ou2AMTxc8EZa/r5o8ZSqvvP427X+XR4K/6RsKNkv5ptD2J22KzgmJxDgzI/3Ey1j06mpum3p7yPufP38+t91xNxmDrw99AEnMUwiJxIEEfwoZQ65n8u13smDBgpD1W1RUxNkjz6fdoGtJbN8pZP1K/FAIicSJxPadyRg4iRHnnkdRUVGr+/vxxx858ZRBJB99Psndgjs0KNKQQkgkjqR0zyL5yHM58dRBbNy4scX9VFdXM+T0MynvehDpfU8IYYUSbxRCInEm/YCTKN/zQIacfibV1S27lfmEKyZS9N0W0o85P8TVSbxRCInEofT+o1j7zWYuv/KqZm/7wIMP8sSzc0k/9WosofV3tJX4phASiUOW4CN94NU8PnsOD82YEfR2r776KhOvuY52Q27Al6J7J0nrKYRE4pQvJYN2g2/gyquu5bXXXmuy/RdffMGQYb8l/cTL8Wf2iECFEg8UQiJxzN+pB+knTmDwsN/y5Zdf7rRdaWkpJw0cgu+AIaTuHfT9ykSapBASiXOpex+Kb/9BnDRwCKWlpTusd84x/Nzz+CFxd9Kyh3lQocQyhZCIkJZ9Out8nRgx8vwdbsd+y61/4T9vrSUj59Kw31Jd4o9CSEQwMzJyxrN89Qfc+pe8bcvnzp3LXffcT/qg67DEJA8rlFilC5iKCACWmET6oOu4/W/XcMD+fdl7770ZOWo0GUNvJLFdptflSYxSCInINontMmk3aBIjLxhDeloaKf1Hk9xlH6/Lkhimw3EiuxCP50CSu+5L2gnj+e6izaTvN8DrcqSBWPueVAiJyA5Sex/udQkSJxRCIiLiGYWQiIh4RiEkIiKeUQiJiIhnFEIiIuIZhZCIiHhGISQiIp5RCImIiGcUQiIi4hmFkIiIeEYhJCIinvE0hMws18w+MLP3zOwdM9vpBavMbJSZdY1kfSIiEl6ehZCZHQkMBg52zh0A5AA7v8k9jAIUQi1UUFBA37598fl89O3bl4KCAq9LkihiiZtJ7fkPzLfF61IkjLx4n/ByJtQFWO+cqwBwzq13zn1jZoeY2b/NbLWZvWRmXczsTCAbeCIwY0o1sxPM7G0zW2NmM80sGcDMppjZ2sDs6s7AsiFm9kag/Stmtodno/ZAQUEBubm55OfnU15eTn5+Prm5uQoiCVpS5mJ8aZ+R1Gmx16VImHj1PuFlCL0M9DCzj8xsmpkda2Z+IB840zl3CDATyHPOzQYKgXOccwcCDpgFnOWc25+6m/NdYma/AE4H+gRmV38JvNYK4Ajn3EHAk8C1kRum9/Ly8pgxYwYDBgzA7/czYMAAZsyYQV5eXtMbS9yzxM34O67GzOHvWKjZUIzy6n3CnHNhfYFdvriZDzgGGABcTF1oTAb+G2jiA751zp1kZsuAq51zhWb2GyDfOdc/0M8JwHjg98Bq6gJrATDfOVdpZvsDd1E3+0oCPnXOndJIPWOBsQA9e/Y85PPPPw/PwCPM5/NRXl6O3+/ftqyqqoqUlBRqamo8rKzta4s3ELPkdHY/82ZSumeF9XU+SzmbXuX/JHmPOXXhk1CDq/VR9dOhVHw/LKyvXd/m5bPY+PrsiL1eNAjH+3ao3ifMbLVzLjvY9p5+MME5V+OcW+ac+xNwGXAG8IFz7sDAY3/n3EmNbNroO4Nzrho4DHgWGAa8GFiVD9wXmDVdDKTsZPsHnHPZzrnszp07t25wbUhWVhYrVqzYbtmKFSvIygrvm1iscM61qcd++0Vuv22bBSXUvQlZQo0ns6EpU6Z4/v/eVh7h4tX7hJcfTNjXzP6n3qIDgSKgc+BDC5iZ38z6BNZvAdoFnn8I9DKz3oGvRwL/NrMMoINzbiFwZaBPgA7A14Hn54dlQG1Ybm4uY8aMYenSpVRVVbF06VLGjBlDbm6u16VJG5eUuZi6o9/1OZ0bikFevU8khrX3XcsA8s2sI1ANfEzdobAHgHvNrEOgvr8BH1B3Dmi6mZUBRwIXAM+YWSKwCpgO/AJ4zsxSqJst/SHwWjcH2n4NrAT2isQA24oRI0YAMGHCBIqKisjKyiIvL2/bcpGd8aV9sW0WtJUl1OBLi41D1fIzr94nPD0n1JZlZ2e7wsJCr8sQj5lZWA+BtETfgw9l/X5nReyckNc2L5/FpKHZTJo0yetS2oS2+D1ZX1SdExIRkfimEBIREc8ohERExDMKIRER8YxCSEREPKMQEhERzyiERETEMwohERHxjEJIREQ8oxASERHPKIREZAcVX3/odQkSJxRCIrKdqh+/Zsu8yQCUffqWx9VIrFMIiexCW75QZDjUVpRQPC+PO6dOZvnx8yh56W9U/fh10xtKxMTa96RCSEQAcLU1FL9wF2cNHcS4iy+mf//+3DElj+J5k6mtKPG6PIlRCiERAaBkxWPs2zmV+/Pv2bbsknHj+P1pp1L84t24Wt0KXkJPISQilHywhKSvVjF/7rP4/f7t1k277172yUym5NXHPapOYplCSCTOVXzzv5T/52EWvbCAzMzMHdb7/X4WPPcvkr58k5K1Sz2oUGKZQkgkjlVvWc+WBVN5/JGH6dOnz07bZWZm8vLC+ZQvn0nFtx9FsEKJdQohkThVW1VB8fypXHvlBIYOHdpk+759+/LYrJkUz59K9ZYNEahQ4oFCSCQOOecoWTyNY7P7cOMfc4PebtiwYVx1xXhKFkzBVVeGsUKJFwohkThUsupf7F6znoLHHsHMmrXtn278I/0P6UPxK9Ni7m9WJPIUQiJxpvSTVdS+v5CXF84jLS2t2dubGQWPPULn6nWUFs4NQ4USTxRCInGkav2XlC7KZ8Fzc+jRo0eL+0lLS2PRC/OpeW8eZZ+sCmGFEm8UQiJxoqZsC1vm5XHPXXdw5JFHtrq/Hj16MP+5OZQsyqdqw5chqFDikUJIJA642hpKXriTkWedwZgxo0PW71FHHcVf75zKlnmTqSkvDlm/Ej8UQiJxoGT5w/Tp1pF77r4z5H1fdOGFnPu70ylZeKcu7SPNluh1ASLSfBVfvEdNyY9Bta1e/zkZ37/H828VkpgYnh/5e/96F+/lnMzaV6bh++XBIe27csNXQHZI+5S2QyEkEmXGjhnN/IUvQOVPQbVPyvRz10ML2W233cJWU2JiIvPmzGbc+MvZuOn90Hbee3dOOumk0PYpbYbpc/6Ny87OdoWFhV6XISISVcxstXMu6KmrzgmJiIhnFEIiIuIZHY7bCTP7Afi8FV10AtaHqJxoo7HHr3gefzyPHX4e/y+dc52D3UghFCZmVtic46KxRGOPz7FDfI8/nscOLR+/DseJiIhnFEIiIuIZhVD4POB1AR7S2ONXPI8/nscOLRy/zgmJiIhnNBMSERHPKIRERMQzCqEWMrMeZrbUzIrM7AMzu6KRNmZm95rZx2b2npmF9sqOHgpy/MeZ2SYzeyfwuMmLWkPNzFLM7E0zezcw9lsaaZNsZk8F9v0bZtYr8pWGR5DjH2VmP9Tb9xd6UWu4mJnPzN42s/mNrIvZfQ9Njr3Z+10XMG25auAq59xbZtYOWG1mi5xza+u1ORX4n8DjcODvgX9jQTDjB/iPc26wB/WFUwVwvHOu2Mz8wAoze8E5t7JemzHARudcbzMbDkwFzvKi2DAIZvwATznnLpcRQ0wAAAKvSURBVPOgvki4AigC2jeyLpb3Pex67NDM/a6ZUAs55751zr0VeL6Fup3SrUGzocCjrs5KoKOZdYlwqWER5PhjUmB/br2Dmz/waPgJn6HAI4Hns4ETzMwiVGJYBTn+mGVm3YFBwEM7aRKz+z6IsTebQigEAtPtg4A3GqzqBtS/7/FXxOAb9S7GD3Bk4LDNC2bWJ6KFhVHgkMQ7wDpgkXNup/veOVcNbAIyI1tl+AQxfoAzAoehZ5tZjwiXGE5/A64FaneyPpb3fVNjh2bud4VQK5lZBvAscKVzbnPD1Y1sElO/MTYx/reou47Ub4B8YG6k6wsX51yNc+5AoDtwmJn1bdAkpvd9EOOfB/Ryzh0AvMLPM4OoZmaDgXXOudW7atbIsqjf90GOvdn7XSHUCoHj4c8CTzjn/tVIk6+A+r8JdAe+iURtkdDU+J1zm7cetnHOLQT8ZtYpwmWGlXPuJ2AZcEqDVdv2vZklAh2A4G6FGkV2Nn7n3AbnXEXgyweBQyJcWrgcDZxmZp8BTwLHm9njDdrE6r5vcuwt2e8KoRYKHOOdARQ55+7eSbPngfMCn5I7AtjknPs2YkWGUTDjN7M9tx4LN7PDqPt+2xC5KsPDzDqbWcfA81QgB/iwQbPngfMDz88ElrgY+cvwYMbf4NznadSdM4x6zrnrnXPdnXO9gOHU7ddzGzSLyX0fzNhbst/16biWOxoYCawJHBsHuAHoCeCcmw4sBAYCHwOlwAUe1BkuwYz/TOASM6sGyoDhsfDDCHQBHjEzH3XB+rRzbr6Z/RkodM49T11AP2ZmH1P3W/Bw78oNuWDGf7mZnUbdpyh/BEZ5Vm0ExNG+30Fr97su2yMiIp7R4TgREfGMQkhERDyjEBIREc8ohERExDMKIRER8YxCSEREPKMQEhERz/w/SItktYMVPmkAAAAASUVORK5CYII=\n",
=======
      "image/png": "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\n",
>>>>>>> 23795514b3f170e99a215b6fe6b340e84cd142a9
      "text/plain": [
       "<Figure size 432x288 with 1 Axes>"
      ]
     },
     "metadata": {
      "needs_background": "light"
     },
     "output_type": "display_data"
    }
   ],
   "source": [
    "plt.boxplot(data_to_plot, notch=True, vert=False, widths=.9, patch_artist=True, labels=species, showmeans=True)\n",
    "# lie with medians, set outliers, etc\n",
    "plt.show()"
   ]
  },
  {
   "cell_type": "markdown",
   "metadata": {},
   "source": [
    "## Generic plot commands and subplots\n",
    "* Doc: https://matplotlib.org/api/_as_gen/matplotlib.pyplot.html"
   ]
  },
  {
   "cell_type": "markdown",
   "metadata": {},
   "source": [
    "### Figure\n",
    "The canvas we are using.\n",
    "### Subplot\n",
    "Subsection of figure.\n",
    "### Axes\n",
    "Where we are plotting."
   ]
  },
  {
   "cell_type": "markdown",
   "metadata": {},
   "source": [
    "### plt.plot\n",
    "Generic plot function that accepts x, y, and styling parameters."
   ]
  },
  {
   "cell_type": "code",
   "execution_count": 90,
   "metadata": {},
   "outputs": [
    {
     "data": {
      "image/png": "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\n",
      "text/plain": [
       "<Figure size 432x288 with 1 Axes>"
      ]
     },
     "metadata": {
      "needs_background": "light"
     },
     "output_type": "display_data"
    }
   ],
   "source": [
    "# evenly .2 intervals\n",
    "t = np.arange(0., 5., 0.2)\n",
    "\n",
    "# red dots\n",
    "plt.plot(\n",
    "    t, t, #linewidth=10, color=\"green\",\n",
    ")\n",
    "plt.show()"
   ]
  },
  {
   "cell_type": "code",
   "execution_count": 91,
   "metadata": {},
   "outputs": [
    {
     "data": {
      "image/png": "iVBORw0KGgoAAAANSUhEUgAAAWsAAAD7CAYAAACsV7WPAAAABHNCSVQICAgIfAhkiAAAAAlwSFlzAAALEgAACxIB0t1+/AAAADh0RVh0U29mdHdhcmUAbWF0cGxvdGxpYiB2ZXJzaW9uMy4xLjEsIGh0dHA6Ly9tYXRwbG90bGliLm9yZy8QZhcZAAANXElEQVR4nO3dTYhd9R3G8ecxTdFEq4vcSjCa6aJIRamWixQChaqV+NouldiVMBsLSgtSycpFoCtJF110UGmLqSKoUC21ii+I4NvERmOMLSLGphEyUnwJQuvLr4u5SR29c+fce8+55/8//+8HhsxMbmZ+B/Hhz5nnN8cRIQBA2k5qewAAwNoIawDIAGENABkgrAEgA4Q1AGSAsAaADHytyotsvy3pI0mfSfo0IvpNDgUAWKlSWA/8MCLea2wSAMCqxgnryjZt2hRzc3NNfGkA6KS9e/e+FxG91f6+aliHpMdsh6TfRsTCqBfPzc1pcXFxjDEBoGy2D436+6phvS0ijtj+pqTHbb8REc986RvNS5qXpHPOOWeiYQEAw1Vqg0TEkcGfRyU9JOniIa9ZiIh+RPR7vVVP8gCACawZ1rY32j7t+PuSLpf0WtODAQD+r8ptkDMlPWT7+Ov/GBGPNjoVAGCFNcM6It6S9N0ZzAIAWAUbjAAwpT3792hu95xOuv0kze2e0579e2r/Ho30rAGgFHv279H8w/P6+JOPJUmHPjik+YfnJUk7LthR2/fhZA0AU9j5xM4TQX3cx598rJ1P7Kz1+xDWADCFdz54Z6zPT4qwBoApnHP68CXA1T4/KcIaAKaw69Jd2rB+w4rPbVi/Qbsu3VXr9yGsAWAKOy7YoYVrFrT19K2yrK2nb9XCNQu1/nBRkhwRtX5BSer3+8EvcgKA6mzvHfWsAE7WAPAFs+hMT4KeNQAMzKozPQlO1gAwMKvO9CQIawAYmFVnehKENQAMzKozPQnCGgAGZtWZngRhDQADs+pMT4KeNQAkgJ41AHQAYQ2g01JdchkXSzEAOivlJZdxcbIG0FkpL7mMi7AG0FkpL7mMi7AG0FkpL7mMi7AG0FkpL7mMi7AG0FkpL7mMi6UYAEgASzEAOqMrnelJ0LMGkIUudaYnwckaQBa61JmeBGENIAtd6kxPgrAGkIUudaYnQVgDyEKXOtOTIKwBZKFLnelJVO5Z214naVHSvyLi6lGvpWcNAOOps2d9s6SD048EAGV3pidRKaxtb5F0laQ7mx0HQAmOd6YPfXBIoTjRmSawV1f1ZL1b0q2SPm9wFgCFKL0zPYk1w9r21ZKORsTeNV43b3vR9uLS0lJtAwLontI705OocrLeJula229Luk/SJbbv+fKLImIhIvoR0e/1ejWPCaBLSu9MT2LNsI6I2yJiS0TMSbpO0pMRcUPjkwHorNI705OgZw1g5krvTE+C32cNAAng91kDmAl6083i91kDmFrpv2t6FjhZA5gavenmEdYApkZvunmENYCp0ZtuHmENYGr0pptHWAOYGr3p5tGzBoAE0LMGgA4grAF8BQsu6WEpBsAKLLikiZM1gBVYcEkTYQ1gBRZc0kRYA1iBBZc0EdYAVmDBJU2ENYAVWHBJE0sxAJAAlmKAwtGZ7gZ61kCH0ZnuDk7WQIfRme4OwhroMDrT3UFYAx1GZ7o7CGugw+hMdwdhDXQYnenuoGcNAAmgZw10DL3pMtGzBjJCb7pcnKyBjNCbLhdhDWSE3nS5CGsgI/Smy0VYAxmhN10uwhrICL3pctGzBoAETN2ztn2y7Rdtv2L7gO3b6x0RKBedaVRVpWf9H0mXRMQx2+slPWv7LxHxfMOzAZ1GZxrjWPNkHcuODT5cP3ir/94JUBg60xhHpR8w2l5ne5+ko5Iej4gXhrxm3vai7cWlpaW65wQ6h840xlEprCPis4i4UNIWSRfbPn/IaxYioh8R/V6vV/ecQOfQmcY4xqruRcT7kp6WtL2RaYCC0JnGOKq0QXq2zxi8f4qkyyS90fRgQNfRmcY4qrRBNkv6ve11Wg73+yPikWbHAsqw44IdhDMqWTOsI+JVSRfNYBYAwCpYNwdqwoILmsTDB4AasOCCpnGyBmrAgguaRlgDNWDBBU0jrIEasOCCphHWQA1YcEHTCGugBiy4oGk8fAAAEjD1wweAUtGbRkroWQND0JtGajhZA0PQm0ZqCGtgCHrTSA1hDQxBbxqpIayBIehNIzWENTAEvWmkhp41ACSAnjUgOtPIHz1rdB6daXQBJ2t0Hp1pdAFhjc6jM40uIKzReXSm0QWENTqPzjS6gLBG59GZRhfQswaABNCzRufQmUaJ6FkjK3SmUSpO1sgKnWmUirBGVuhMo1SENbJCZxqlIqyRFTrTKBVhjazQmUap6FkDQAKm7lnbPtv2U7YP2j5g++Z6RwQArKXKbZBPJf0iIr4j6fuSbrJ9XrNjoSQsuQBrW3MpJiLelfTu4P2PbB+UdJak1xueDQVgyQWoZqwfMNqek3SRpBeaGAblYckFqKZyWNs+VdIDkm6JiA+H/P287UXbi0tLS3XOiA5jyQWoplJY216v5aDeExEPDntNRCxERD8i+r1er84Z0WEsuQDVVGmDWNJdkg5GxB3Nj4SSsOQCVFPlZL1N0k8lXWJ73+DtyobnQiFYcgGqYSkGABLAwwcwU3SmgWbw8AHUhs400BxO1qgNnWmgOYQ1akNnGmgOYY3a0JkGmkNYozZ0poHmENaoDZ1poDn0rAEgAfSsMTE600A66FljKDrTQFo4WWMoOtNAWghrDEVnGkgLYY2h6EwDaSGsMRSdaSAthDWGojMNpIWeNQAkgJ41TqA3DeSLnnUh6E0DeeNkXQh600DeCOtC0JsG8kZYF4LeNJA3wroQ9KaBvBHWhaA3DeSNnjUAJICedUfRmQbKQs86Q3SmgfJwss4QnWmgPIR1huhMA+UhrDNEZxooD2GdITrTQHkI6wzRmQbKQ88aABIwdc/a9t22j9p+rd7RAABVVbkN8jtJ2xueo2gsuABYy5pLMRHxjO255kcpEwsuAKrgB4wtY8EFQBW1hbXteduLtheXlpbq+rKdx4ILgCpqC+uIWIiIfkT0e71eXV+281hwAVAFt0FaxoILgCqqVPfulfScpHNtH7Z9Y/NjlYMFFwBVsBQDAAng4QMtoDcNoG48fKBm9KYBNIGTdc3oTQNoAmFdM3rTAJpAWNeM3jSAJhDWNaM3DaAJhHXN6E0DaAI9awBIAD3rKdGZBpACetYj0JkGkApO1iPQmQaQCsJ6BDrTAFJBWI9AZxpAKgjrEehMA0gFYT0CnWkAqaBnDQAJoGf9BXSmAeSqmJ41nWkAOSvmZE1nGkDOiglrOtMAclZMWNOZBpCzYsKazjSAnBUT1nSmAeSMnjUAJICeNQB0QLZhzYILgJJkuRTDgguA0mR5smbBBUBpsgxrFlwAlCbLsGbBBUBpsgxrFlwAlCbLsGbBBUBpKi3F2N4u6deS1km6MyJ+Ner1LMUAwHimXoqxvU7SbyRdIek8SdfbPq++EZfRmwaA1VXpWV8s6c2IeEuSbN8n6ceSXq9rCHrTADBalXvWZ0n65xc+Pjz4XG3oTQPAaFXC2kM+95Ub3bbnbS/aXlxaWhprCHrTADBalbA+LOnsL3y8RdKRL78oIhYioh8R/V6vN9YQ9KYBYLQqYf2SpG/b/pbtr0u6TtKf6hyC3jQAjLZmWEfEp5J+Jumvkg5Kuj8iDtQ5BL1pABiNhw8AQAJ4+AAAdABhDQAZIKwBIAOENQBkgLAGgAw00gaxvSTp0IT/fJOk92ocJyclX7tU9vVz7eU6fv1bI2LVjcJGwnoathdH1Ve6rORrl8q+fq69zGuXql8/t0EAIAOENQBkIMWwXmh7gBaVfO1S2dfPtZer0vUnd88aAPBVKZ6sAQBfkkxY295u+++237T9y7bnmSXbd9s+avu1tmeZNdtn237K9kHbB2zf3PZMs2T7ZNsv2n5lcP23tz3TrNleZ/tvth9pe5ZZsv227f2299le8zffJXEbZPBQ3n9I+pGWH3bwkqTrI6K25zymzPYPJB2T9IeIOL/teWbJ9mZJmyPiZdunSdor6ScF/be3pI0Rccz2eknPSro5Ip5vebSZsf1zSX1J34iIq9ueZ1Zsvy2pHxGVOuapnKxPPJQ3Iv4r6fhDeYsQEc9I+nfbc7QhIt6NiJcH73+k5d+ZXuszPlMWy44NPlw/eGv/BDUjtrdIukrSnW3PkrpUwrrxh/IifbbnJF0k6YV2J5mtwW2AfZKOSno8Ikq6/t2SbpX0eduDtCAkPWZ7r+35tV6cSlhXeigvusv2qZIekHRLRHzY9jyzFBGfRcSFWn6+6cW2i7gVZvtqSUcjYm/bs7RkW0R8T9IVkm4a3A5dVSphXemhvOimwb3aByTtiYgH256nLRHxvqSnJW1veZRZ2Sbp2sG92/skXWL7nnZHmp2IODL486ikh7R8O3hVqYR14w/lRZoGP2C7S9LBiLij7XlmzXbP9hmD90+RdJmkN9qdajYi4raI2BIRc1r+f/7JiLih5bFmwvbGwQ/UZXujpMsljWyDJRHWs3gob8ps3yvpOUnn2j5s+8a2Z5qhbZJ+quVT1b7B25VtDzVDmyU9ZftVLR9aHo+IoipshTpT0rO2X5H0oqQ/R8Sjo/5BEtU9AMBoSZysAQCjEdYAkAHCGgAyQFgDQAYIawDIAGENABkgrAEgA4Q1AGTgf4tuU01jUCMLAAAAAElFTkSuQmCC\n",
      "text/plain": [
       "<Figure size 432x288 with 1 Axes>"
      ]
     },
     "metadata": {
      "needs_background": "light"
     },
     "output_type": "display_data"
    }
   ],
   "source": [
    "# evenly .2 intervals\n",
    "t = np.arange(0., 5., 0.2)\n",
    "\n",
    "# red dots\n",
    "plt.plot(\n",
    "    t, t, 'go',\n",
    ")\n",
    "plt.show()"
   ]
  },
  {
   "cell_type": "code",
   "execution_count": 92,
   "metadata": {},
   "outputs": [
    {
     "data": {
      "image/png": "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\n",
      "text/plain": [
       "<Figure size 432x288 with 1 Axes>"
      ]
     },
     "metadata": {
      "needs_background": "light"
     },
     "output_type": "display_data"
    }
   ],
   "source": [
    "# red dashes, blue squares and green triangles\n",
    "plt.plot(\n",
    "    t, t, 'r--',\n",
    ")\n",
    "\n",
    "plt.plot(\n",
    "    t, t**2, 'bs',\n",
    ")\n",
    "\n",
    "plt.show()"
   ]
  },
  {
   "cell_type": "code",
   "execution_count": 93,
   "metadata": {},
   "outputs": [
    {
     "data": {
      "image/png": "iVBORw0KGgoAAAANSUhEUgAAAToAAAExCAYAAADshW6fAAAABHNCSVQICAgIfAhkiAAAAAlwSFlzAAALEgAACxIB0t1+/AAAADh0RVh0U29mdHdhcmUAbWF0cGxvdGxpYiB2ZXJzaW9uMy4xLjEsIGh0dHA6Ly9tYXRwbG90bGliLm9yZy8QZhcZAAAa/ElEQVR4nO3de5BU9Z338feXW2K4iMYZREecKGgQ5TqOMaRcQEEMrNeVwEqiEZdnU2pwk5iYNZU82WxW19VEjeyToFjBSyRsBYRFZMEBoUKIOCAoSAxGiQwgjJsgiCIMfJ8/TqMoM9Dd5/ScS39eVVN9oafP94T44XfO72bujohIlrWJuwARkVJT0IlI5inoRCTzFHQiknkKOhHJPAWdiGReuzC/bGYbgV3AfqDJ3WuiKEpEJEqhgi5nqLu/FcH3iIiURBRBl7cTTjjBq6urW/OQIlIGVq5c6e7e4q24sEHnwAIzc+AX7j7lSB+urq6mvr4+5CFFRD7KzN470p+H7YwY7O4DgUuAG83sgmYKmGhm9WamhBORWIQKOnffknvcDswCapv5zBR3r1FHhYi05MQTwezwnxNPjOb7iw46M+toZp0PPgdGAGujKUtEysm2bYW9X6gw9+i6AbPM7OD3/Mrd50dSlYhIhIoOOnd/DegXYS0iIiWhmREiknkKOhHJPAWdiMSuW7fC3i9Uq86MEBFpzptvlvb71aITkcxT0IlIyZR6IHC+FHQiUjKlHgicLwWdiGSegk5EMk9BJyKZd9SgM7NTzGyxma03s3VmNin3/vFmttDMNuQejyt9uSIihcunRdcEfNPdewOfI1h37izgNqDO3XsBdbnXIiIfKPVA4HwddcCwu28Ftuae7zKz9cDJwGXAkNzHpgHPAt8pSZUikkqlHgicr4Lu0ZlZNTAAeA7olgvBg2FY2cLvfLDCcGNjY7hqRUSKkHfQmVkn4DfALe6+M9/fO3SF4YqKimJqFJEEScog4ELkFXRm1p4g5B5395m5t7eZWffcn3cHtpemRBFJkqQMAi5EPr2uBkwF1rv7Tw75oznAtbnn1wKzoy9PRCS8fFYvGQx8GXjJzFbn3vtn4E5ghplNAN4Ari5NiSIi4eTT6/pbwFr44wujLUdEJHqaGSEimaegE5GCJGUQcCG0wrCIFCQpg4ALoRadiADpHB+XLwWdiADpHB+XLwWdiGSegk5EMk9BJyKZp6ATkcxT0IkIkM7xcfnSODoRAdI5Pi5fatGJZFiWx8YVQkEnkmFZHhtXCAWdiGSegk5EMi+fFYYfNrPtZrb2kPf+r5ltNrPVuZ8vlrZMEZHi5dOi+yUwspn3f+ru/XM/86ItS0QkOkcNOndfCvylFWoRkYhleWxcIcLco7vJzF7MXdoeF1lFIhKZN98E98N/sjxmrjnFBt3/A04H+gNbgXta+qA2sBaJlsbGFa6ooHP3be6+390PAA8CtUf4rDawFomQxsYVrqigO7hxdc4VwNqWPisiErejznU1syeAIcAJZtYA/AAYYmb9AQc2Av+nhDWKiISSz76u45p5e2oJahERKYnQMyPMrK2ZvWBmc6MoSEQkalFMAZsErI/ge0QkDxobV7hQQWdmVcAo4KFoyhEpX/kOG9HYuMKFbdHdC3wbOBBBLSJlTcNGSqfooDOz0cB2d195lM99MGC42GOJiIQRpkU3GLjUzDYC04FhZvbYxz906IDhEMcSESla0UHn7t919yp3rwbGAovcfXxklYmIREQLb4pI5kUSdO7+rLuPjuK7RMqVho2Ujlp0IiVUyEojGjZSOgo6kRLSkJFkUNCJSOYp6EQk8xR0IpJ5CjoRybxi93U93swWmtmG3KM2x5Gykm9vqoaMJEOx+7reBtS5ey+gLvdapGzk25uqISPJUOy+rpcB03LPpwGXR1yXiEhkir1H183dtwLkHiujK0lEJFol74zQvq4iErdig27bwS0Pc4/bW/qg9nUVkbgVG3RzgGtzz68FZkdTjkh8CpmXqt7UdCl2X9c7gRlmNgF4A7i6lEWKtIZC5qWq1zRdit3XFeDCiGsRESkJzYwQkcxT0IlI5inoRCTzFHSSeZqXKkftjBBJu0LmpUo2qUUnIpmnoBORzFPQiUjmKegklQqZriWioJNUKmS6lnpTRb2uknnqTRW16EQk8xR0IpJ5CjpJDHUwSKko6CQx1MEgpaLOCEkldTBIIUIFnZltBHYB+4Emd6+JoigRkShF0aIb6u5vRfA9klEnntjy5adaZtIadI9OSq6Qe28ipRA26BxYYGYrzWxiFAVJ+VIHg5RK2EvXwe6+xcwqgYVm9gd3X3roB3IBOBGgR48eIQ8nWabLWCmVUC06d9+Se9wOzAJqm/mMNrDOII15kzQpOujMrKOZdT74HBgBrI2qMEk23XeTNAlz6doNmGVmB7/nV+4+P5KqJFO6dSts0K9I1IoOOnd/DegXYS2SUbr3JnHT8BL5CN17kyxS0MlH6N6bZFGYzohPmtkKM1tjZuvM7IdRFibJpjFvkiZhWnTvA8PcvR/QHxhpZp+LpiyJUikuR998E9wP/9H9OEmiMJ0RDryTe9k+9+NRFCXR0uWolLtQ9+jMrK2ZrQa2Awvd/bloyhIRiU7YmRH73b0/UAXUmtnZH/+MmU00s3ozqw9zLDlcKS5Jde9NsiiSXld33wE8C4xs5s8+mAIWxbHkQ6W4JNW9N8miML2uFWbWNff8GOAi4A9RFSYiEpUwLbruwGIzexF4nuAe3dxoyipfuhwViV6YXtcXgQER1iKU7nJUpJxpZkQr0LQqkXgp6FpBqcax6ZJUJD8KuhDibqmph1QkPwq6jykkvDTjQCQdws6MGGlmr5jZq2Z2W1RFlUK+ARZ3eOlyVCR6YcbRtQUmA5cAZwHjzOysKIrKN5Sy2PrS5ahI9MK06GqBV939NXffC0wHLouiqHxDKS3hpVaaSLzC7BlxMrDpkNcNwHnhyskmtcZE4hWmRWfNvHfYMk2HTupvbGwMcbjkUUtNJB3CBF0DcMohr6uALR//UNr2dS0kvHQ/TSQdwgTd80AvM/uMmXUAxgJzoikrevkGmMJLJHuKDjp3bwJuAv4HWA/McPd1URSVbyip9SUi+QjTGYG7zwPmRVTLB/INH4WUiORDMyNEJPNCtegKtXr1ampqCltouLGxkTR0YuQra+cDMZ/Tvn3wxz/C++9Dz57QpUskX6u/p3Q45Jw6HPGD7t5qP4MGDfJCFfM7SZa183GP8Zx27nQ/4wz3jh3dn3020q/W31M6HDwnoN6PkD2t2qITiVTnzvCVr8CQITB4cNzVSIIp6CR9XnsNdu2Cfv3g9tvjrkZSIPFBN3HixLhLiFTWzgda+Zw2bIBhw6BjR1i3Dtq2Lclh9PeUDvmekwWXt62jpqbG6+u1vasUaf36IOSamqCuDvr2jbsiSQgzW+lH2FJVw0skHV56Cf7mb4JR3s8+q5CTgiQ26ObPn8+ZZ55Jz549ufPOO+MuJ7Trr7+eyspKzj777LhLicymTZsYOnQovXv3pk+fPtx3332lO9i//zu0bw9LlkCfPiU7zJ49e6itraVfv3706dOHH/zgByU7Vmvav38/AwYMYPTo0XGXEonq6mrOOecc+vfvn9+QtSN1yUb9k2/3dlNTk5922mn+pz/9yd9//33v27evr1u3rtge6ERYsmSJr1y50vv06RN3KZHZsmWLr1y50t3dd+7c6b169Yr+7+nAgeDx3XfdN26M9rubPdwB37Vrl7u7792712tra3358uUlP26p3XPPPT5u3DgfNWpU3KVE4tRTT/XGxsYPXnOU4SWJbNGtWLGCnj17ctppp9GhQwfGjh3L7Nmz4y4rlAsuuIDjjz8+7jIi1b17dwYOHAhA586d6d27N5s3b47uAL/7HVx4IezYAcccA6eeGt13t8DM6NSpEwD79u1j3759mDW3Ill6NDQ08NRTT3HDDTfEXUpsEhl0mzdv5pRTPlwBqqqqKtr/gCRyGzdu5IUXXuC88yJae3XpUhgxAhoaYPfuaL4zT/v376d///5UVlYyfPjw6M4pJrfccgt33XUXbdok8j/3opgZI0aMYNCgQUyZMuWon0/kmXszPcFp/1c1y9555x2uuuoq7r33XrpEMQWrrg5GjoQePYJ7ciefHP47C9C2bVtWr15NQ0MDK1asYO3ata16/CjNnTuXyspKBg0aFHcpkVq2bBmrVq3i6aefZvLkyQCdjvT5RAZdVVUVmzZ9uEp7Q0MDJ510UowVSUv27dvHVVddxTXXXMOVV14Z/gvr6mD0aDj99KB3tXv38N9ZpK5duzJkyBDmz58fWw1hLVu2jDlz5lBdXc3YsWNZtGgR48ePj7us0A7mQWVlJVdccQVAxyN9PpFBd+6557JhwwZef/119u7dy/Tp07n00kvjLks+xt2ZMGECvXv35hvf+EY0X9qzJ1x8MSxeDJWV0XxnARobG9mxYwcA7733Hs888wyf/exnW72OqNxxxx00NDSwceNGpk+fzrBhw3jsscfiLiuU3bt3s2vXrg+eL1iwAOC9I/1OIoOuXbt2PPDAA1x88cX07t2bMWPG0KeEQwpaw7hx4zj//PN55ZVXqKqqYurUqXGXFNqyZct49NFHWbRoEf3796d///7Mm1fk8oQrVsCBA0GHw5NPwgknRFtsnrZu3crQoUPp27cv5557LsOHD8/MkIys2LZtG1/4whfo168ftbW1jBo1CmDnkX5HMyMkftOnw/jxcMcdcOutcVcjKaSZEZJsjzwC11wTrD7yj/8YdzWSUQo6ic/UqXDddcEyS/PmBcsuiZSAgk7isXUr3Hxz0PEwd26wGolIiSR+mSbJqO7dg+Ej/frBJz4RdzWScWrRSeu6+254+OHgeW2tQk5ahYJOWs+Pfxz0qtbVBcstibQSBZ2Unjt8//vwve8Fw0imTQNN6ZNWpHt0Unrf/W6wntz118OUKSVb/lykJWrRSekdeyx87Wvw4IMKOYmFWnRSGgcOwMaNcNppQYvOXZerEhu16CR6+/fDxIkwaBAcXEdQIScxUtBJtPbvh69+NZj1cPPNoOW1JAF06SrR2bcPvvKVYJL+j34U9LKKJEDRLTozO8XMFpvZejNbZ2aToixMUuj++4OQu+suhZwkSpgWXRPwTXdfZWadgZVmttDdX46oNkmbm24KVga+/PK4KxH5iKJbdO6+1d1X5Z7vAtYDrbu4v8Tvvfdg0iR4661gOpdCThIoks4IM6sGBgDPNfNnE82s3szqGxsbozicJMXu3cH+Dj/7WbCJjUhChQ46M+sE/Aa4xd0PW87Y3ae4e42711RUVIQ9nCTFrl1wySXBCiTTpsFVV8VdkUiLQvW6mll7gpB73N1nRlOSJN7bbwcht2IF/OpX8KUvxV2RyBEVHXQWbLQ6FVjv7j+JriRJvHffDcJuxgyIYotDkRIL06IbDHwZeMnMVufe+2d3L3IbKEm8HTugU6dg0cw1a6CdhmFKOhT9/1R3/y2geT3lYvt2uOgiOO+8YHK+Qk5SRFPA5Oi2bg02sHn1VRg7Nu5qRAqmf5blyBoaYNgw2LIF5s+HCy6IuyKRginopGUHDsCoUbBtGyxYAJ//fNwViRRFQScta9MG7rsPPvWpYCMbkZTSPTo53CuvfLhT15AhCjlJPbXo5KNefjm4JwfBGLmuXeOtRyQCatHJh158MWjBtWkDixcr5CQzFHQSWLUKhg4NViBZsgR69467IpHIKOgksHw5dO4chFyvXnFXIxIpBV2527MneLzxRnjppWDXLpGMUdCVsyVLgmB7/vngdefO8dYjUiIKunL1zDPBUkvHHQdVVXFXI1JSCrpy9PTTwcrAPXsGvavdu8ddkUhJKejKzYoVwb4OZ50VhFxlZdwViZScgq7cDBgA3/421NXBpz8ddzUirUJBVy5mz4Y334T27YPNpY87Lu6KRFqNgq4cTJsWTOf6/vfjrkQkFgq6rHvoIfjqV4NZDz/9adzViMRCQZdlkyfDP/wDXHwx/Pd/Q8eOcVckEgsFXVbt2QP/+Z9w6aXw5JNwzDFxVyQSGy3TlEUHDsAnPxlsLn3ssdChQ9wVicRKLbqs+dGPgg2lm5qgokIhJ4KCLjvc4XvfC3pWO3YE006UIgfp0jUL3INBwHffHXQ+/PznweKZIgKoRZcNt98ehNyNNyrkRJqhFl0W/O3fBo8//rEuWUWaoX/602r//mBDaYDzz4d/+zeFnEgLFHRp1NQE110XrCf3+9/HXY1I4unSNW327YPx42HGDPjXf4XPfS7uikQST0GXJnv3wtixMGsW/Md/wLe+FXdFIqmgoEuThQuD6Vz33Qdf/3rc1YikhoIuTUaNCjaZPvvsuCsRSRV1RiTd7t3BxPylS4PXCjmRginokmzXrqBn9amnoKEh7mpEUkuXrkn19tswcmSw5+oTT8CYMXFXJJJaCrok2rkTLroI1qyB//ovuOKKuCsSSTVduiZRx45wzjkwc6ZCTiQCatElybZtwYDgqip4+OG4qxHJDAVdUmzZAhdeGCx5Xl+vFUhEIqSgS4JNm2DYsGDf1XnzFHIiEVPQxW3jxiDk/vd/YcGCYCUSEYmUgi5uX/86/PWvUFcHNTVxVyOSSaGCzsweBkYD291dQ/aLMXUqbN0KffvGXYlIZoW9GfRLYGQEdZSXdetgwoRgNZKKCoWcSImFatG5+1Izq46mlDKxZk0wGLh9e9i8GT7zmbgrEsk8de+1ppUrYejQYHPpJUsUciKtpORBZ2YTzazezOobGxtLfbjkeu65YJxcly7BSiS9esVdkUjZKHnQufsUd69x95qKiopSHy652rWDnj2DkFNLTqRV6dK11P785+Bx0KBgJZIePeKtR6QMhQo6M3sCWA6caWYNZjYhmrIyYuFC6N0bHnooeK3tCEViEbbXdVxUhWTOvHlw5ZVw5plw2WVxVyNS1nTpWgpPPgmXXw59+sCiRcFYORGJjYIuam+8AV/6EgwcGEzr+vSn465IpOxprmvUevSAX/86mKjfpUvc1YgIatFFZ9q0oPMBgstWhZxIYijoovDgg3DddTB5ctyViEgzFHRhPfAATJwIX/wiTJ8edzUi0gwFXRj33AM33xwMH5k5M5jDKiKJo6Arlju8/DJcfXWwJeEnPhF3RSLSAvW6Fso92Fy6a1eYMiV43U7/M4okmVp0hXCH22+HAQOgsRHatlXIiaSAgi5f7vCtb8Edd8CIERoILJIiao7kwz3YxOaBB+Cmm+D++zVBXyRF1KLLx913ByH3zW8q5ERSSC26fNxwAxxzDNx4o0JOJIXUomtJU1PQktuzB447LrhkVciJpJKCrjn79sHf/z3ceivMmRN3NSISki5dP+7994NllmbPDlp0Y8bEXZGIhKSgO9SePfB3fwdPPQU/+1lwuSoiqaegO9QbbwTbEv7iF8FEfRHJBAUdBJerHTrAGWfAhg3B9C4RyQx1RuzcGWws/S//ErxWyIlkTnkH3Y4dwXSu556Ds86KuxoRKZHyvXT9y1+CkHvxxWCZpcsvj7siESmR8gy6piYYPhzWrYNZs2DUqLgrEpESKs+ga9cO/umfoLIyaNWJSKaVV9Bt3hysCjx8OIwfH3c1ItJKyifo3ngj2Gv17bfh9dehU6e4KxKRVlIeQff660HI/fWvMH++Qk6kzGQ/6DZsCEJu926oq4NBg+KuSERaWfaD7pFHgjmsixdDv35xVyMiMcjugGH34PGHP4RVqxRyImUsm0G3ejUMHAivvQZt2sApp8RdkYjEKHuXrvX1wdi4Tp3gwIG4qxGRBMhWi2758mCC/rHHwtKl0LNn3BWJSAJkJ+gOtuQqK4OQq66OuyIRSYjsBN0ZZwQT85cs0T05EfmI9Afd734H774LXbrAo4/CSSfFXZGIJEy6g27uXBg6FL7znbgrEZEES2/QzZoFV14JffsGY+VERFqQzqCbMQOuvjqYzvXMM3D88XFXJCIJlr6ge/fdYC25z38eFiwIhpKIiBxB+gYMf+pTwbzVk0+Gjh3jrkZEUiA9Lbqf/xxuuy2Yw3rGGQo5EclbqKAzs5Fm9oqZvWpmt0VV1GHuvx++9jVYuzbY70FEpABFB52ZtQUmA5cAZwHjzCz6PQPvvhsmTYIrroCZM6F9+8gPISLZFqZFVwu86u6vufteYDpwWTRl5dx5J9x6K4wZA7/+NXToEOnXi0h5CBN0JwObDnndkHvvI8xsopnVm1l9Y2NjYUc4/XS49lp4/HG15ESkaGGCzpp5zw97w32Ku9e4e01FRUVhR7j6avjlL4PtCUVEihQm6BqAQ2fPVwFbwpUjIhK9MEH3PNDLzD5jZh2AscCcaMoSEYlO0deE7t5kZjcB/wO0BR5293WRVSYiEpFQN7/cfR4wL6JaRERKIj0zI0REiqSgE5HMU9CJSOYp6EQk8xR0IpJ5CjoRyTwFnYhknrkfNj21dAczawT+XOCvnQC8VYJy4pK18wGdU1pk+ZxOdfcWJ9O3atAVw8zq3b0m7jqikrXzAZ1TWpTzOenSVUQyT0EnIpmXhqCbEncBEcva+YDOKS3K9pwSf49ORCSsNLToRERCSWzQtdpWiq3EzB42s+1mtjbuWqJiZqeY2WIzW29m68xsUtw1hWVmnzSzFWa2JndOP4y7piiYWVsze8HM5sZdSxTMbKOZvWRmq82s/qifT+Kla24rxT8CwwmWbH8eGOfuL8daWAhmdgHwDvCIu58ddz1RMLPuQHd3X2VmnYGVwOUp/3syoKO7v2Nm7YHfApPc/fcxlxaKmX0DqAG6uPvouOsJy8w2AjXunte4wKS26Eq/lWIrc/elwF/iriNK7r7V3Vflnu8C1tPMTnBp4oF3ci/b536S1xoogJlVAaOAh+KuJS5JDbq8tlKU5DCzamAA8Fy8lYSXu8xbDWwHFrp72s/pXuDbwIG4C4mQAwvMbKWZTTzah5MadHltpSjJYGadgN8At7j7zrjrCcvd97t7f4Kd7WrNLLW3GsxsNLDd3VfGXUvEBrv7QOAS4MbcraEWJTXotJViSuTuY/0GeNzdZ8ZdT5TcfQfwLDAy5lLCGAxcmrunNR0YZmaPxVtSeO6+Jfe4HZhFcLurRUkNOm2lmAK5G/dTgfXu/pO464mCmVWYWdfc82OAi4A/xFtV8dz9u+5e5e7VBP8dLXL38TGXFYqZdcx1fmFmHYERwBFHMyQy6Ny9CTi4leJ6YEbat1I0syeA5cCZZtZgZhPirikCg4EvE7QSVud+vhh3USF1Bxab2YsE/+AudPdMDMnIkG7Ab81sDbACeMrd5x/pFxI5vEREJEqJbNGJiERJQScimaegE5HMU9CJSOYp6EQk8xR0IpJ5CjoRyTwFnYhk3v8HOtk3KxRMdrYAAAAASUVORK5CYII=\n",
      "text/plain": [
       "<Figure size 360x360 with 2 Axes>"
      ]
     },
     "metadata": {
      "needs_background": "light"
     },
     "output_type": "display_data"
    }
   ],
   "source": [
    "# subplots: https://matplotlib.org/api/_as_gen/matplotlib.pyplot.subplots.html\n",
    "fig = plt.figure(figsize=(5, 5))\n",
    "ax1 = fig.add_subplot(1, 1, 1)\n",
    "ax2 = fig.add_subplot(2, 1, 1)\n",
    "\n",
    "ax1.plot(\n",
    "    t, t, 'r--',\n",
    ")\n",
    "\n",
    "ax2.plot(\n",
    "    t, t**2, 'bs',\n",
    ")\n",
    "\n",
    "plt.show()"
   ]
  },
  {
   "cell_type": "markdown",
   "metadata": {},
   "source": [
    "### Trend lines"
   ]
  },
  {
   "cell_type": "code",
   "execution_count": 94,
   "metadata": {},
   "outputs": [
    {
     "name": "stdout",
     "output_type": "stream",
     "text": [
      "[ 0.41575542 -0.36307552]\n",
      " \n",
      "0.4158 x - 0.3631\n"
     ]
    }
   ],
   "source": [
    "z = np.polyfit(iris_df[\"petal_length\"], iris_df[\"petal_width\"], 1)\n",
    "p = np.poly1d(z)\n",
    "print(z)\n",
    "print(p)"
   ]
  },
  {
   "cell_type": "code",
<<<<<<< HEAD
   "execution_count": 109,
=======
   "execution_count": 95,
>>>>>>> 23795514b3f170e99a215b6fe6b340e84cd142a9
   "metadata": {},
   "outputs": [
    {
     "data": {
      "text/plain": [
       "Text(0, 0.5, 'Petal width')"
      ]
     },
<<<<<<< HEAD
     "execution_count": 109,
=======
     "execution_count": 95,
>>>>>>> 23795514b3f170e99a215b6fe6b340e84cd142a9
     "metadata": {},
     "output_type": "execute_result"
    },
    {
     "data": {
      "image/png": "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\n",
      "text/plain": [
       "<Figure size 432x288 with 1 Axes>"
      ]
     },
     "metadata": {
      "needs_background": "light"
     },
     "output_type": "display_data"
    }
   ],
   "source": [
    "# PLT scatter plot (X, y, and color)\n",
    "plt.scatter(iris_df[\"petal_length\"], iris_df[\"petal_width\"])\n",
    "z = np.polyfit(iris_df[\"petal_length\"], iris_df[\"petal_width\"], 1)\n",
    "p = np.poly1d(z)\n",
    "plt.plot(iris_df[\"petal_length\"], p(iris_df[\"petal_length\"]),\"r--\")\n",
    "# name the labels, for clarity\n",
    "plt.xlabel('Petal length')\n",
    "plt.ylabel('Petal width')"
   ]
  },
  {
   "cell_type": "code",
   "execution_count": 96,
   "metadata": {},
   "outputs": [
    {
     "data": {
      "image/png": "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\n",
      "text/plain": [
       "<Figure size 432x288 with 1 Axes>"
      ]
     },
     "metadata": {
      "needs_background": "light"
     },
     "output_type": "display_data"
    }
   ],
   "source": [
    "# PLT scatter plot (X, y, and color)\n",
    "plt.scatter(iris_df[\"petal_length\"], iris_df[\"petal_width\"])\n",
    "z = np.polyfit(iris_df[\"petal_length\"], iris_df[\"petal_width\"], 1)\n",
    "p = np.poly1d(z)\n",
    "plt.plot(iris_df[\"petal_length\"], p(iris_df[\"petal_length\"]),\"r--\")\n",
    "# name the labels, for clarity\n",
    "plt.xlabel('Petal length')\n",
    "plt.ylabel('Petal width')\n",
    "plt.savefig(\"x.png\")"
   ]
  },
  {
   "cell_type": "markdown",
   "metadata": {},
   "source": [
    "### Links\n",
    "* https://matplotlib.org/index.html\n",
    "* https://www.python-course.eu/matplotlib.php\n",
    "* https://matplotlib.org/gallery.html"
   ]
  },
  {
   "cell_type": "markdown",
   "metadata": {},
   "source": [
    "### Styles and other packages\n",
    "* Matplotlib styles\n",
    "* Pandas plotting based on matplotlib\n",
    "* Seaborn\n",
    "* Bokeh"
   ]
  },
  {
   "cell_type": "markdown",
   "metadata": {},
   "source": [
    "### Pandas plotting based on matlab\n",
    "\n",
    "* https://pandas.pydata.org/pandas-docs/stable/generated/pandas.DataFrame.plot.html\n",
    "\n"
   ]
  },
  {
   "cell_type": "code",
   "execution_count": 97,
   "metadata": {},
   "outputs": [
    {
     "data": {
      "text/plain": [
       "<Figure size 432x288 with 0 Axes>"
      ]
     },
     "metadata": {},
     "output_type": "display_data"
    },
    {
     "data": {
      "image/png": "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\n",
      "text/plain": [
       "<Figure size 432x288 with 1 Axes>"
      ]
     },
     "metadata": {},
     "output_type": "display_data"
    }
   ],
   "source": [
    "plt.style.use(\"ggplot\")\n",
    "plt.figure()\n",
    "ax = iris_df.plot(x=\"petal_length\", y=\"petal_width\", style=\"ro\", legend=False)\n",
    "ax.set_xlim(0.5, 8.0)\n",
    "ax.set_ylim(0, 5.0)\n",
    "plt.show()"
   ]
  },
  {
   "cell_type": "code",
   "execution_count": 98,
   "metadata": {},
   "outputs": [
    {
     "data": {
      "text/plain": [
       "<Figure size 640x480 with 0 Axes>"
      ]
     },
     "metadata": {},
     "output_type": "display_data"
    },
    {
     "data": {
      "image/png": "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\n",
      "text/plain": [
       "<Figure size 640x480 with 1 Axes>"
      ]
     },
     "metadata": {},
     "output_type": "display_data"
    }
   ],
   "source": [
    "plt.style.use(\"classic\")\n",
    "plt.figure()\n",
    "ax = iris_df.hist(column=\"sepal_length\", color=\"red\", alpha=0.5)\n",
    "plt.title(\"Sepal Lengths\")\n",
    "plt.show()"
   ]
  },
  {
   "cell_type": "markdown",
   "metadata": {},
   "source": [
    "### Seaborn\n",
    "* https://seaborn.pydata.org/\n",
    "\n"
   ]
  },
  {
   "cell_type": "code",
   "execution_count": 99,
   "metadata": {},
   "outputs": [
    {
     "data": {
      "text/plain": [
       "<seaborn.axisgrid.FacetGrid at 0x7f2e983ad650>"
      ]
     },
     "execution_count": 99,
     "metadata": {},
     "output_type": "execute_result"
    },
    {
     "data": {
      "image/png": "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\n",
      "text/plain": [
       "<Figure size 400x400 with 1 Axes>"
      ]
     },
     "metadata": {},
     "output_type": "display_data"
    }
   ],
   "source": [
    "import seaborn as sns\n",
    "sns.lmplot(x=\"petal_length\", y=\"petal_width\", data=iris_df) # , hue=\"species\", fit_reg=False)\n"
   ]
  },
  {
   "cell_type": "code",
   "execution_count": 100,
   "metadata": {},
   "outputs": [
    {
     "data": {
      "text/plain": [
       "<matplotlib.axes._subplots.AxesSubplot at 0x7f2e986a7710>"
      ]
     },
     "execution_count": 100,
     "metadata": {},
     "output_type": "execute_result"
    },
    {
     "data": {
      "image/png": "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\n",
      "text/plain": [
       "<Figure size 640x480 with 1 Axes>"
      ]
     },
     "metadata": {},
     "output_type": "display_data"
    }
   ],
   "source": [
    "# import seaborn as sns\n",
    "sns.distplot(iris_df[\"sepal_length\"])"
   ]
  },
  {
   "cell_type": "code",
   "execution_count": null,
   "metadata": {},
   "outputs": [],
   "source": []
  }
 ],
 "metadata": {
  "kernelspec": {
   "display_name": "Python 3",
   "language": "python",
   "name": "python3"
  },
  "language_info": {
   "codemirror_mode": {
    "name": "ipython",
    "version": 3
   },
   "file_extension": ".py",
   "mimetype": "text/x-python",
   "name": "python",
   "nbconvert_exporter": "python",
   "pygments_lexer": "ipython3",
   "version": "3.7.4"
  }
 },
 "nbformat": 4,
 "nbformat_minor": 4
}
